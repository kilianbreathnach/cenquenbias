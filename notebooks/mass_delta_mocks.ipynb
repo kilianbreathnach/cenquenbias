{
 "cells": [
  {
   "cell_type": "code",
   "execution_count": 1,
   "metadata": {},
   "outputs": [
    {
     "name": "stderr",
     "output_type": "stream",
     "text": [
      "\u001b[1m\u001b[36mINFO: \u001b[39m\u001b[22m\u001b[36mChecking out PyCall master...\n",
      "\u001b[39m\u001b[1m\u001b[36mINFO: \u001b[39m\u001b[22m\u001b[36mPulling PyCall latest master...\n",
      "\u001b[39m\u001b[1m\u001b[36mINFO: \u001b[39m\u001b[22m\u001b[36mNo packages to install, update or remove\n",
      "\u001b[39m\u001b[1m\u001b[36mINFO: \u001b[39m\u001b[22m\u001b[36mBuilding Conda\n",
      "\u001b[39m\u001b[1m\u001b[36mINFO: \u001b[39m\u001b[22m\u001b[36mBuilding PyCall\n",
      "\u001b[39m\u001b[1m\u001b[36mInfo: \u001b[39m\u001b[22m\u001b[36mPyCall is using /home/kilian/.envs/astro3/bin/python (Python 3.6.6) at /home/kilian/.envs/astro3/bin/python, libpython = /usr/lib/libpython3.6m\n",
      "\u001b[39m\u001b[1m\u001b[36mInfo: \u001b[39m\u001b[22m\u001b[36m/home/kilian/.playground/share/assbiass/packages/v0.6/PyCall/deps/deps.jl has not changed\n",
      "\u001b[39m\u001b[1m\u001b[36mInfo: \u001b[39m\u001b[22m\u001b[36m/home/kilian/.playground/share/assbiass/packages/v0.6/PyCall/deps/PYTHON has been updated\n",
      "\u001b[39m"
     ]
    },
    {
     "data": {
      "text/plain": [
       "massbincounts"
      ]
     },
     "execution_count": 1,
     "metadata": {},
     "output_type": "execute_result"
    }
   ],
   "source": [
    "include(\"/home/kilian/wrk/assbiass/src/obs_funcs.jl\")\n",
    "include(\"/home/kilian/wrk/assbiass/src/mod_funcs.jl\")"
   ]
  },
  {
   "cell_type": "code",
   "execution_count": 2,
   "metadata": {},
   "outputs": [
    {
     "data": {
      "text/plain": [
       "3-element Array{Dict{String,Float64},1}:\n",
       " Dict(\"sigma_logM\"=>0.19,\"logMmin\"=>11.18,\"alpha\"=>1.04,\"logM1\"=>12.42,\"logM0\"=>9.81) \n",
       " Dict(\"sigma_logM\"=>0.05,\"logMmin\"=>11.58,\"alpha\"=>0.95,\"logM1\"=>12.8,\"logM0\"=>11.14) \n",
       " Dict(\"sigma_logM\"=>0.38,\"logMmin\"=>11.96,\"alpha\"=>1.16,\"logM1\"=>13.23,\"logM0\"=>12.35)"
      ]
     },
     "execution_count": 2,
     "metadata": {},
     "output_type": "execute_result"
    }
   ],
   "source": [
    "# here are the HOD parameters to be used for each of the samples\n",
    "\n",
    "# for the -18 magnitude threshold, parameters are taken from Table 3 in Zehavi et al. 2011\n",
    "m_th_18 = -18.0\n",
    "paramdict_18 = Dict(\"alpha\" => 1.04,\n",
    "                    \"logM0\" =>  9.81,\n",
    "                    \"logM1\" => 12.42,\n",
    "                    \"logMmin\" => 11.18,\n",
    "                    \"sigma_logM\" => 0.19)\n",
    "\n",
    "# for the -19 magnitude threshold, parameters are taken from Sinha et al. 2016 best-fit values\n",
    "# from table 3, using the values for Planck Cosmology with Mvir (as Chinchilla halos are defined) and no PCA uncertainties\n",
    "m_th_19 = -19.0\n",
    "paramdict_19 = Dict(\"alpha\" => 0.95,       #  1.02 in Zehavi    1.03 in Zentner\n",
    "                    \"logM0\" => 11.14,      #  9.77\n",
    "                    \"logM1\" => 12.80,      # 12.63             12.78 whether I use Zehavi M0 or not\n",
    "                    \"logMmin\" => 11.58,    # 11.45             11.72\n",
    "                    \"sigma_logM\" => 0.05)  #  0.19              0.70\n",
    "\n",
    "# for the -20 magnitude threshold, parameters are taken from Table 2 of Zentner et al. 2016, using M_0 from Zehavi\n",
    "m_th_20 = -20.0\n",
    "paramdict_20 = Dict(\"alpha\" => 1.16,       #  1.0 in Zehavi\n",
    "                    \"logM0\" =>  12.35,\n",
    "                    \"logM1\" => 13.23,      # 12.98\n",
    "                    \"logMmin\" => 11.96,    # 11.83\n",
    "                    \"sigma_logM\" => 0.38)  #  0.25\n",
    "\n",
    "m_th_arr = [m_th_18, m_th_19, m_th_20]\n",
    "paramdicts = [paramdict_18, paramdict_19, paramdict_20]"
   ]
  },
  {
   "cell_type": "code",
   "execution_count": 3,
   "metadata": {},
   "outputs": [
    {
     "data": {
      "text/plain": [
       "(12208×46 DataFrames.DataFrame. Omitted printing of 39 columns\n",
       "│ Row   │ foo    │ galid  │ groupid │ cenid  │ rband    │ Psat │ Mh         │\n",
       "├───────┼────────┼────────┼─────────┼────────┼──────────┼──────┼────────────┤\n",
       "│ 1     │ PROB10 │ 17     │ 2485    │ 17     │ -20.4593 │ 0.0  │ 1.5053e12  │\n",
       "│ 2     │ PROB10 │ 22     │ 13924   │ 22     │ -19.4819 │ 0.0  │ 2.20027e11 │\n",
       "│ 3     │ PROB10 │ 83     │ 824     │ 83     │ -20.8211 │ 0.0  │ 4.7694e12  │\n",
       "│ 4     │ PROB10 │ 93     │ 607     │ 93     │ -21.3781 │ 0.0  │ 6.43239e12 │\n",
       "│ 5     │ PROB10 │ 99     │ 11864   │ 99     │ -18.7129 │ 0.0  │ 2.64106e11 │\n",
       "│ 6     │ PROB10 │ 164    │ 10733   │ 164    │ -20.0047 │ 0.0  │ 2.95793e11 │\n",
       "│ 7     │ PROB10 │ 181    │ 6630    │ 181    │ -19.6391 │ 0.0  │ 5.08768e11 │\n",
       "│ 8     │ PROB10 │ 195    │ 12160   │ 195    │ -18.9404 │ 0.0  │ 2.56719e11 │\n",
       "│ 9     │ PROB10 │ 205    │ 7018    │ 205    │ -19.8112 │ 0.0  │ 4.77532e11 │\n",
       "│ 10    │ PROB10 │ 209    │ 8375    │ 209    │ -19.7289 │ 0.0  │ 3.91487e11 │\n",
       "│ 11    │ PROB10 │ 218    │ 1424    │ 218    │ -20.839  │ 0.0  │ 2.72175e12 │\n",
       "⋮\n",
       "│ 12197 │ PROB10 │ 558793 │ 5730    │ 558793 │ -19.8631 │ 0.0  │ 5.99101e11 │\n",
       "│ 12198 │ PROB10 │ 558801 │ 8454    │ 558801 │ -19.8568 │ 0.0  │ 3.87412e11 │\n",
       "│ 12199 │ PROB10 │ 558826 │ 1641    │ 558826 │ -19.8753 │ 0.0  │ 2.34799e12 │\n",
       "│ 12200 │ PROB10 │ 558835 │ 13007   │ 558835 │ -18.5087 │ 0.0  │ 2.37799e11 │\n",
       "│ 12201 │ PROB10 │ 558856 │ 14577   │ 558856 │ -19.4139 │ 0.0  │ 2.08964e11 │\n",
       "│ 12202 │ PROB10 │ 558859 │ 2178    │ 558859 │ -20.6337 │ 0.0  │ 1.7315e12  │\n",
       "│ 12203 │ PROB10 │ 558866 │ 8842    │ 558866 │ -19.1365 │ 0.0  │ 3.68268e11 │\n",
       "│ 12204 │ PROB10 │ 558872 │ 7030    │ 558872 │ -19.7696 │ 0.0  │ 4.76626e11 │\n",
       "│ 12205 │ PROB10 │ 558885 │ 10200   │ 558885 │ -19.0756 │ 0.0  │ 3.13338e11 │\n",
       "│ 12206 │ PROB10 │ 558888 │ 6968    │ 558888 │ -19.6244 │ 0.0  │ 4.81344e11 │\n",
       "│ 12207 │ PROB10 │ 558953 │ 2685    │ 558953 │ -20.4489 │ 0.0  │ 1.38604e12 │\n",
       "│ 12208 │ PROB10 │ 558960 │ 14592   │ 558960 │ -18.312  │ 0.0  │ 2.08724e11 │, [1.06808e6, -2.68279e5, -2.68279e5])"
      ]
     },
     "execution_count": 3,
     "metadata": {},
     "output_type": "execute_result"
    }
   ],
   "source": [
    "# set which sample to generate a mock for and grab the data\n",
    "sample_num = 1\n",
    "datdf, vols = load_groupdat(sample_num, quenform = \"both\")"
   ]
  },
  {
   "cell_type": "code",
   "execution_count": 4,
   "metadata": {},
   "outputs": [
    {
     "data": {
      "text/html": [
       "<table class=\"data-frame\"><thead><tr><th></th><th>log10M</th></tr></thead><tbody><tr><th>1</th><td>10.3666</td></tr><tr><th>2</th><td>10.5335</td></tr><tr><th>3</th><td>10.7409</td></tr><tr><th>4</th><td>9.60447</td></tr><tr><th>5</th><td>10.5326</td></tr><tr><th>6</th><td>10.3271</td></tr><tr><th>7</th><td>9.54054</td></tr><tr><th>8</th><td>10.251</td></tr><tr><th>9</th><td>9.80124</td></tr><tr><th>10</th><td>9.94717</td></tr><tr><th>11</th><td>10.2012</td></tr><tr><th>12</th><td>9.79362</td></tr><tr><th>13</th><td>9.55673</td></tr><tr><th>14</th><td>9.46284</td></tr><tr><th>15</th><td>9.67686</td></tr><tr><th>16</th><td>10.3658</td></tr><tr><th>17</th><td>10.6978</td></tr><tr><th>18</th><td>10.2659</td></tr><tr><th>19</th><td>9.95994</td></tr><tr><th>20</th><td>10.016</td></tr><tr><th>21</th><td>10.2564</td></tr><tr><th>22</th><td>10.1993</td></tr><tr><th>23</th><td>9.94323</td></tr><tr><th>24</th><td>10.1758</td></tr><tr><th>25</th><td>9.93111</td></tr><tr><th>26</th><td>10.351</td></tr><tr><th>27</th><td>10.5936</td></tr><tr><th>28</th><td>9.9216</td></tr><tr><th>29</th><td>9.98249</td></tr><tr><th>30</th><td>10.3711</td></tr><tr><th>&vellip;</th><td>&vellip;</td></tr></tbody></table>"
      ],
      "text/plain": [
       "5638×1 DataFrames.DataFrame\n",
       "│ Row  │ log10M  │\n",
       "├──────┼─────────┤\n",
       "│ 1    │ 10.3666 │\n",
       "│ 2    │ 10.5335 │\n",
       "│ 3    │ 10.7409 │\n",
       "│ 4    │ 9.60447 │\n",
       "│ 5    │ 10.5326 │\n",
       "│ 6    │ 10.3271 │\n",
       "│ 7    │ 9.54054 │\n",
       "│ 8    │ 10.251  │\n",
       "│ 9    │ 9.80124 │\n",
       "│ 10   │ 9.94717 │\n",
       "│ 11   │ 10.2012 │\n",
       "⋮\n",
       "│ 5627 │ 9.99146 │\n",
       "│ 5628 │ 10.0807 │\n",
       "│ 5629 │ 10.1406 │\n",
       "│ 5630 │ 10.0861 │\n",
       "│ 5631 │ 10.0627 │\n",
       "│ 5632 │ 10.2088 │\n",
       "│ 5633 │ 10.0591 │\n",
       "│ 5634 │ 10.1331 │\n",
       "│ 5635 │ 10.3165 │\n",
       "│ 5636 │ 9.82801 │\n",
       "│ 5637 │ 9.72783 │\n",
       "│ 5638 │ 10.3453 │"
      ]
     },
     "execution_count": 4,
     "metadata": {},
     "output_type": "execute_result"
    }
   ],
   "source": [
    "# get another dataframe of just the quenched galaxies and their masses for counting quenched fraction\n",
    "quendf = datdf[datdf[:Dn4000] .> 1.6, [:log10M]]"
   ]
  },
  {
   "cell_type": "code",
   "execution_count": 5,
   "metadata": {},
   "outputs": [
    {
     "data": {
      "text/plain": [
       "1832182×5 Array{Float64,2}:\n",
       " 1.62049e9   23.8908   178.352   69.3618  1.0\n",
       " 1.62049e9   54.2385   147.212   86.2612  1.0\n",
       " 1.62057e9   17.5035   142.147  121.991   1.0\n",
       " 1.62057e9   30.9299   185.085  119.293   1.0\n",
       " 1.62057e9    3.68962  147.032  121.787   1.0\n",
       " 1.61988e9   46.9333   134.869   85.5845  1.0\n",
       " 1.62057e9   10.0025   186.166  128.661   1.0\n",
       " 1.62111e9   39.2183   196.085   89.3759  1.0\n",
       " 1.62049e9   38.9772   181.184   67.3124  1.0\n",
       " 1.62049e9   28.9453   165.548   72.4649  1.0\n",
       " 1.6205e9    55.9567   140.022   83.2813  1.0\n",
       " 1.62057e9   62.4508   162.055  106.218   1.0\n",
       " 1.62057e9   20.3627   143.978  122.714   1.0\n",
       " ⋮                                           \n",
       " 1.63291e9  217.366    391.477  211.086   0.0\n",
       " 1.63299e9  244.322    354.392  238.514   0.0\n",
       " 1.63298e9  221.873    373.901  252.498   0.0\n",
       " 1.63299e9  258.998    358.065  259.844   0.0\n",
       " 1.63246e9  253.761    351.039  264.374   0.0\n",
       " 1.63236e9  206.285    343.378  235.826   0.0\n",
       " 1.63238e9  249.434    337.411  199.124   0.0\n",
       " 1.63291e9  221.928    364.608  210.525   0.0\n",
       " 1.63306e9  223.359    376.483  256.968   0.0\n",
       " 1.6329e9   232.783    386.698  210.178   0.0\n",
       " 1.63298e9  236.11     373.903  251.609   0.0\n",
       " 1.63291e9  231.317    387.229  212.768   0.0"
      ]
     },
     "execution_count": 5,
     "metadata": {},
     "output_type": "execute_result"
    }
   ],
   "source": [
    "# generate the mock galaxies\n",
    "nside = 3  # number of subvolumes per side of cube to compute jackknife errors later\n",
    "mockgals = get_mock(paramdicts[sample_num], m_th_arr[sample_num], nside)"
   ]
  },
  {
   "cell_type": "code",
   "execution_count": 6,
   "metadata": {},
   "outputs": [
    {
     "data": {
      "text/plain": [
       "1832182-element Array{Float64,1}:\n",
       "  2.47743  \n",
       "  2.51079  \n",
       "  0.209179 \n",
       "  0.20084  \n",
       "  0.492711 \n",
       "  1.52677  \n",
       "  0.384302 \n",
       "  1.06811  \n",
       "  0.184162 \n",
       "  0.834617 \n",
       "  2.20224  \n",
       "  0.392641 \n",
       "  0.267554 \n",
       "  ⋮        \n",
       "  5.34611  \n",
       " -0.524667 \n",
       "  3.86174  \n",
       "  2.4274   \n",
       "  1.63518  \n",
       "  6.33013  \n",
       " -0.39958  \n",
       "  0.0674136\n",
       "  2.36068  \n",
       "  1.39334  \n",
       "  2.16054  \n",
       "  2.01044  "
      ]
     },
     "execution_count": 6,
     "metadata": {},
     "output_type": "execute_result"
    }
   ],
   "source": [
    "# compute the environment densities of the galaxies in the mock\n",
    "deltas = get_rho(mockgals[:, 2:4], 400.0, 10.0)"
   ]
  },
  {
   "cell_type": "code",
   "execution_count": 7,
   "metadata": {},
   "outputs": [
    {
     "data": {
      "text/html": [
       "<table class=\"data-frame\"><thead><tr><th></th><th>halo_id</th><th>halo_upid</th><th>x</th><th>y</th><th>z</th><th>vx</th><th>vy</th><th>vz</th><th>hfoo1</th><th>hfoo2</th><th>halo_mvir</th><th>halo_mz_05</th><th>halo_mz_1</th><th>halo_mz_2</th><th>halo_mz_4</th><th>halo_mz_8</th><th>halo_ac</th><th>halo_ac_mpeak</th><th>halo_nfw_conc</th><th>halo_spin</th><th>hfoo3</th><th>halo_rvir</th><th>logMh</th><th>Mpeak</th><th>logMpeak</th><th>Mbar</th></tr></thead><tbody><tr><th>1</th><td>1620490488</td><td>-1</td><td>23.8908</td><td>178.352</td><td>71.8972</td><td>254.19</td><td>-195.17</td><td>-253.54</td><td>758.46</td><td>780.72</td><td>1.303e14</td><td>1.117e14</td><td>1.016e14</td><td>9.289e13</td><td>6.113e13</td><td>4.885e13</td><td>0.51462</td><td>0.51462</td><td>4.34886</td><td>0.03889</td><td>1620490488</td><td>1.25141</td><td>14.1149</td><td>1.303e14</td><td>14.1149</td><td>2.03268e13</td></tr><tr><th>2</th><td>1620489517</td><td>-1</td><td>54.2385</td><td>147.212</td><td>83.8446</td><td>132.18</td><td>-243.42</td><td>241.66</td><td>746.88</td><td>787.27</td><td>1.031e14</td><td>1.009e14</td><td>9.834e13</td><td>8.531e13</td><td>6.773e13</td><td>5.168e13</td><td>0.602988</td><td>0.602988</td><td>6.31183</td><td>0.03163</td><td>1620489517</td><td>1.15745</td><td>14.0133</td><td>1.031e14</td><td>14.0133</td><td>1.60836e13</td></tr><tr><th>3</th><td>1620568787</td><td>-1</td><td>17.5035</td><td>142.147</td><td>121.233</td><td>206.25</td><td>52.6</td><td>75.76</td><td>800.83</td><td>833.51</td><td>1.023e14</td><td>9.305e13</td><td>8.565e13</td><td>8.209e13</td><td>7.753e13</td><td>5.354e13</td><td>0.465599</td><td>0.465599</td><td>8.92032</td><td>0.01292</td><td>1620568787</td><td>1.15445</td><td>14.0099</td><td>1.023e14</td><td>14.0099</td><td>1.59588e13</td></tr><tr><th>4</th><td>1620569234</td><td>-1</td><td>30.9299</td><td>185.085</td><td>116.149</td><td>100.4</td><td>211.18</td><td>314.45</td><td>759.85</td><td>808.61</td><td>8.734e13</td><td>8.65e13</td><td>8.481e13</td><td>7.882e13</td><td>6.102e13</td><td>4.87e13</td><td>0.474902</td><td>0.474902</td><td>8.7816</td><td>0.02291</td><td>1620569234</td><td>1.09519</td><td>13.9412</td><td>8.734e13</td><td>13.9412</td><td>1.3625e13</td></tr><tr><th>5</th><td>1620569405</td><td>-1</td><td>3.68962</td><td>147.032</td><td>119.642</td><td>318.78</td><td>-36.68</td><td>214.57</td><td>655.71</td><td>762.05</td><td>7.256e13</td><td>7.268e13</td><td>7.435e13</td><td>8.4e13</td><td>7.07e13</td><td>2.074e13</td><td>0.579871</td><td>0.608062</td><td>5.65232</td><td>0.0223</td><td>1620569405</td><td>1.02956</td><td>13.8607</td><td>8.4e13</td><td>13.9243</td><td>1.3104e13</td></tr><tr><th>6</th><td>1619882298</td><td>-1</td><td>46.9333</td><td>134.869</td><td>85.2907</td><td>-32.87</td><td>0.42</td><td>29.38</td><td>664.42</td><td>737.05</td><td>7.239e13</td><td>6.482e13</td><td>6.325e13</td><td>6.602e13</td><td>6.553e13</td><td>2.278e13</td><td>0.734503</td><td>0.734503</td><td>6.13975</td><td>0.06525</td><td>1619882298</td><td>1.02875</td><td>13.8597</td><td>7.239e13</td><td>13.8597</td><td>1.12928e13</td></tr><tr><th>7</th><td>1620570495</td><td>-1</td><td>10.0025</td><td>186.166</td><td>125.959</td><td>173.74</td><td>249.63</td><td>270.22</td><td>650.17</td><td>679.69</td><td>6.975e13</td><td>6.799e13</td><td>6.33e13</td><td>6.143e13</td><td>5.133e13</td><td>3.735e13</td><td>0.529195</td><td>0.529195</td><td>6.26543</td><td>0.04754</td><td>1620570495</td><td>1.01609</td><td>13.8435</td><td>6.975e13</td><td>13.8435</td><td>1.0881e13</td></tr><tr><th>8</th><td>1621113337</td><td>-1</td><td>39.2183</td><td>196.085</td><td>87.0058</td><td>-92.91</td><td>99.81</td><td>237.01</td><td>560.58</td><td>643.33</td><td>5.08e13</td><td>5.55e13</td><td>5.615e13</td><td>6.024e13</td><td>3.472e13</td><td>1.32e13</td><td>0.503591</td><td>0.516679</td><td>4.35401</td><td>0.08217</td><td>1621113337</td><td>0.914195</td><td>13.7059</td><td>6.024e13</td><td>13.7799</td><td>9.39744e12</td></tr><tr><th>9</th><td>1620494893</td><td>-1</td><td>38.9772</td><td>181.184</td><td>67.201</td><td>-119.43</td><td>12.79</td><td>11.14</td><td>568.63</td><td>639.93</td><td>4.591e13</td><td>4.567e13</td><td>4.37e13</td><td>4.085e13</td><td>3.21e13</td><td>1.713e13</td><td>0.473207</td><td>0.475291</td><td>6.38986</td><td>0.03874</td><td>1620494893</td><td>0.883866</td><td>13.6619</td><td>4.591e13</td><td>13.6619</td><td>7.16196e12</td></tr><tr><th>10</th><td>1620494673</td><td>-1</td><td>28.9453</td><td>165.548</td><td>73.521</td><td>28.3</td><td>-4.23</td><td>-105.61</td><td>586.93</td><td>628.04</td><td>4.428e13</td><td>4.125e13</td><td>3.994e13</td><td>3.841e13</td><td>3.449e13</td><td>2.469e13</td><td>0.381623</td><td>0.381623</td><td>7.59335</td><td>0.03238</td><td>1620494673</td><td>0.87328</td><td>13.6462</td><td>4.428e13</td><td>13.6462</td><td>6.90768e12</td></tr><tr><th>11</th><td>1620495423</td><td>-1</td><td>55.9567</td><td>140.022</td><td>85.7931</td><td>-53.57</td><td>203.2</td><td>-251.18</td><td>548.57</td><td>601.01</td><td>4.186e13</td><td>3.884e13</td><td>3.44e13</td><td>1.91e13</td><td>1.451e13</td><td>1.284e13</td><td>0.639395</td><td>0.639395</td><td>4.25069</td><td>0.06123</td><td>1620495423</td><td>0.857072</td><td>13.6218</td><td>4.186e13</td><td>13.6218</td><td>6.53016e12</td></tr><tr><th>12</th><td>1620571455</td><td>-1</td><td>62.4508</td><td>162.055</td><td>107.549</td><td>75.88</td><td>-257.04</td><td>-133.03</td><td>577.16</td><td>577.16</td><td>3.99e13</td><td>3.772e13</td><td>3.011e13</td><td>2.444e13</td><td>1.727e13</td><td>1.271e13</td><td>0.350414</td><td>0.350414</td><td>7.49875</td><td>0.09474</td><td>1620571455</td><td>0.843481</td><td>13.601</td><td>3.99e13</td><td>13.601</td><td>6.2244e12</td></tr><tr><th>13</th><td>1620571508</td><td>-1</td><td>20.3627</td><td>143.978</td><td>120.505</td><td>-49.02</td><td>-128.4</td><td>220.86</td><td>589.85</td><td>641.01</td><td>3.789e13</td><td>3.73e13</td><td>3.484e13</td><td>3.615e13</td><td>2.88e13</td><td>1.799e13</td><td>0.403035</td><td>0.403035</td><td>9.89974</td><td>0.05591</td><td>1620571508</td><td>0.829072</td><td>13.5785</td><td>3.789e13</td><td>13.5785</td><td>5.91084e12</td></tr><tr><th>14</th><td>1619957636</td><td>-1</td><td>37.3153</td><td>137.642</td><td>107.545</td><td>9.56</td><td>-140.95</td><td>-46.09</td><td>531.28</td><td>587.67</td><td>3.501e13</td><td>3.431e13</td><td>3.311e13</td><td>3.286e13</td><td>3.392e13</td><td>1.692e13</td><td>0.518099</td><td>0.518099</td><td>7.57644</td><td>0.09008</td><td>1619957636</td><td>0.80751</td><td>13.5442</td><td>3.501e13</td><td>13.5442</td><td>5.46156e12</td></tr><tr><th>15</th><td>1620495924</td><td>-1</td><td>26.0792</td><td>172.144</td><td>74.7623</td><td>38.69</td><td>91.99</td><td>-203.15</td><td>535.69</td><td>566.89</td><td>3.253e13</td><td>3.187e13</td><td>3.094e13</td><td>3.007e13</td><td>3.117e13</td><td>2.367e13</td><td>0.374954</td><td>0.374954</td><td>8.63966</td><td>0.03382</td><td>1620495924</td><td>0.787974</td><td>13.5123</td><td>3.253e13</td><td>13.5123</td><td>5.07468e12</td></tr><tr><th>16</th><td>1620489732</td><td>-1</td><td>53.3853</td><td>146.74</td><td>86.3786</td><td>194.38</td><td>-339.43</td><td>-376.37</td><td>503.07</td><td>542.47</td><td>3.21e13</td><td>3.024e13</td><td>3.147e13</td><td>3.125e13</td><td>2.435e13</td><td>1.492e13</td><td>0.486428</td><td>0.486428</td><td>5.65971</td><td>0.04569</td><td>1620489732</td><td>0.784487</td><td>13.5065</td><td>3.21e13</td><td>13.5065</td><td>5.0076e12</td></tr><tr><th>17</th><td>1620496207</td><td>-1</td><td>43.6875</td><td>141.655</td><td>78.1479</td><td>211.4</td><td>-185.72</td><td>116.92</td><td>536.5</td><td>601.26</td><td>3.196e13</td><td>3.208e13</td><td>3.175e13</td><td>2.95e13</td><td>2.067e13</td><td>1.806e13</td><td>0.344459</td><td>0.347108</td><td>8.508</td><td>0.05286</td><td>1620496207</td><td>0.783345</td><td>13.5046</td><td>3.208e13</td><td>13.5062</td><td>5.00448e12</td></tr><tr><th>18</th><td>1620571906</td><td>-1</td><td>2.99747</td><td>144.217</td><td>113.112</td><td>436.22</td><td>-129.99</td><td>206.12</td><td>506.5</td><td>546.21</td><td>3.147e13</td><td>3.064e13</td><td>2.976e13</td><td>3.059e13</td><td>2.605e13</td><td>1.292e13</td><td>0.540679</td><td>0.540679</td><td>5.64747</td><td>0.10943</td><td>1620571906</td><td>0.779321</td><td>13.4979</td><td>3.147e13</td><td>13.4979</td><td>4.90932e12</td></tr><tr><th>19</th><td>1620497139</td><td>-1</td><td>20.8623</td><td>163.036</td><td>85.8114</td><td>252.76</td><td>-342.19</td><td>-95.04</td><td>491.69</td><td>491.69</td><td>2.833e13</td><td>2.128e13</td><td>1.306e13</td><td>1.173e13</td><td>9.87e12</td><td>9.908e12</td><td>0.649251</td><td>0.649251</td><td>5.81987</td><td>0.12205</td><td>1620497139</td><td>0.752488</td><td>13.4522</td><td>2.833e13</td><td>13.4522</td><td>4.41948e12</td></tr><tr><th>20</th><td>1620496909</td><td>-1</td><td>20.5867</td><td>149.218</td><td>90.6307</td><td>197.43</td><td>-223.49</td><td>-135.25</td><td>482.8</td><td>555.35</td><td>2.817e13</td><td>2.764e13</td><td>2.605e13</td><td>2.125e13</td><td>1.851e13</td><td>1.8e13</td><td>0.471347</td><td>0.471347</td><td>6.05828</td><td>0.02903</td><td>1620496909</td><td>0.751069</td><td>13.4498</td><td>2.817e13</td><td>13.4498</td><td>4.39452e12</td></tr><tr><th>21</th><td>1620572797</td><td>-1</td><td>16.4112</td><td>162.461</td><td>128.345</td><td>457.91</td><td>162.47</td><td>508.47</td><td>507.5</td><td>507.5</td><td>2.705e13</td><td>2.355e13</td><td>1.805e13</td><td>1.647e13</td><td>1.355e13</td><td>1.161e13</td><td>0.356297</td><td>0.356297</td><td>8.55006</td><td>0.05866</td><td>1620572797</td><td>0.74098</td><td>13.4322</td><td>2.705e13</td><td>13.4322</td><td>4.2198e12</td></tr><tr><th>22</th><td>1620493949</td><td>-1</td><td>46.5877</td><td>166.859</td><td>85.8162</td><td>133.54</td><td>-451.06</td><td>-131.43</td><td>497.3</td><td>559.49</td><td>2.673e13</td><td>2.495e13</td><td>2.559e13</td><td>2.515e13</td><td>1.541e13</td><td>1.241e13</td><td>0.397082</td><td>0.397082</td><td>8.03553</td><td>0.06762</td><td>1620493949</td><td>0.738047</td><td>13.427</td><td>2.673e13</td><td>13.427</td><td>4.16988e12</td></tr><tr><th>23</th><td>1620496673</td><td>-1</td><td>20.073</td><td>149.195</td><td>74.149</td><td>135.99</td><td>78.03</td><td>-231.47</td><td>456.82</td><td>534.37</td><td>2.479e13</td><td>1.943e13</td><td>1.84e13</td><td>1.737e13</td><td>1.69e13</td><td>1.742e13</td><td>0.675034</td><td>0.675034</td><td>6.05562</td><td>0.07838</td><td>1620496673</td><td>0.719741</td><td>13.3943</td><td>2.479e13</td><td>13.3943</td><td>3.86724e12</td></tr><tr><th>24</th><td>1620496022</td><td>-1</td><td>25.8315</td><td>154.715</td><td>82.5306</td><td>43.87</td><td>-81.37</td><td>-206.12</td><td>491.29</td><td>506.52</td><td>2.453e13</td><td>2.107e13</td><td>1.845e13</td><td>1.728e13</td><td>1.542e13</td><td>1.349e13</td><td>0.502886</td><td>0.502886</td><td>8.54504</td><td>0.03665</td><td>1620496022</td><td>0.717216</td><td>13.3897</td><td>2.453e13</td><td>13.3897</td><td>3.82668e12</td></tr><tr><th>25</th><td>1620497505</td><td>-1</td><td>24.6635</td><td>174.31</td><td>78.492</td><td>152.28</td><td>-6.83</td><td>-312.9</td><td>480.61</td><td>537.7</td><td>2.425e13</td><td>2.279e13</td><td>2.017e13</td><td>1.38e13</td><td>1.158e13</td><td>1.454e13</td><td>0.499931</td><td>0.499931</td><td>8.29615</td><td>0.14663</td><td>1620497505</td><td>0.714477</td><td>13.3847</td><td>2.425e13</td><td>13.3847</td><td>3.783e12</td></tr><tr><th>26</th><td>1620494569</td><td>-1</td><td>19.5741</td><td>144.602</td><td>89.2613</td><td>158.68</td><td>-261.53</td><td>-112.18</td><td>416.01</td><td>435.68</td><td>2.352e13</td><td>2.226e13</td><td>2.247e13</td><td>2.143e13</td><td>1.256e13</td><td>9.183e12</td><td>0.54343</td><td>0.54343</td><td>3.1241</td><td>0.10139</td><td>1620494569</td><td>0.707234</td><td>13.3714</td><td>2.352e13</td><td>13.3714</td><td>3.66912e12</td></tr><tr><th>27</th><td>1620572659</td><td>-1</td><td>27.4813</td><td>168.751</td><td>130.414</td><td>-27.62</td><td>-206.27</td><td>462.08</td><td>467.6</td><td>473.52</td><td>2.267e13</td><td>2.138e13</td><td>1.904e13</td><td>1.772e13</td><td>1.576e13</td><td>1.441e13</td><td>0.425379</td><td>0.425379</td><td>7.79343</td><td>0.08554</td><td>1620572659</td><td>0.69861</td><td>13.3555</td><td>2.267e13</td><td>13.3555</td><td>3.53652e12</td></tr><tr><th>28</th><td>1620497954</td><td>-1</td><td>30.0228</td><td>177.056</td><td>67.7144</td><td>-278.29</td><td>135.28</td><td>51.87</td><td>452.27</td><td>457.7</td><td>2.154e13</td><td>2.01e13</td><td>1.882e13</td><td>1.786e13</td><td>1.652e13</td><td>1.251e13</td><td>0.41618</td><td>0.41618</td><td>6.05873</td><td>0.06119</td><td>1620497954</td><td>0.686804</td><td>13.3332</td><td>2.154e13</td><td>13.3332</td><td>3.36024e12</td></tr><tr><th>29</th><td>1620572457</td><td>-1</td><td>8.66253</td><td>166.552</td><td>128.337</td><td>434.47</td><td>-137.77</td><td>378.62</td><td>458.81</td><td>458.81</td><td>2.117e13</td><td>1.887e13</td><td>1.663e13</td><td>1.486e13</td><td>1.277e13</td><td>1.058e13</td><td>0.450248</td><td>0.450248</td><td>7.53279</td><td>0.02485</td><td>1620572457</td><td>0.682849</td><td>13.3257</td><td>2.117e13</td><td>13.3257</td><td>3.30252e12</td></tr><tr><th>30</th><td>1620497593</td><td>-1</td><td>25.3244</td><td>183.239</td><td>70.4728</td><td>168.41</td><td>-106.92</td><td>-64.94</td><td>454.03</td><td>469.82</td><td>2.097e13</td><td>2.084e13</td><td>2.04e13</td><td>1.913e13</td><td>1.639e13</td><td>1.259e13</td><td>0.5245</td><td>0.5245</td><td>7.58346</td><td>0.04795</td><td>1620497593</td><td>0.680691</td><td>13.3216</td><td>2.097e13</td><td>13.3216</td><td>3.27132e12</td></tr><tr><th>&vellip;</th><td>&vellip;</td><td>&vellip;</td><td>&vellip;</td><td>&vellip;</td><td>&vellip;</td><td>&vellip;</td><td>&vellip;</td><td>&vellip;</td><td>&vellip;</td><td>&vellip;</td><td>&vellip;</td><td>&vellip;</td><td>&vellip;</td><td>&vellip;</td><td>&vellip;</td><td>&vellip;</td><td>&vellip;</td><td>&vellip;</td><td>&vellip;</td><td>&vellip;</td><td>&vellip;</td><td>&vellip;</td><td>&vellip;</td><td>&vellip;</td><td>&vellip;</td><td>&vellip;</td></tr></tbody></table>"
      ],
      "text/plain": [
       "1875265×26 DataFrames.DataFrame. Omitted printing of 20 columns\n",
       "│ Row     │ halo_id    │ halo_upid │ x       │ y       │ z       │ vx      │\n",
       "├─────────┼────────────┼───────────┼─────────┼─────────┼─────────┼─────────┤\n",
       "│ 1       │ 1620490488 │ -1        │ 23.8908 │ 178.352 │ 71.8972 │ 254.19  │\n",
       "│ 2       │ 1620489517 │ -1        │ 54.2385 │ 147.212 │ 83.8446 │ 132.18  │\n",
       "│ 3       │ 1620568787 │ -1        │ 17.5035 │ 142.147 │ 121.233 │ 206.25  │\n",
       "│ 4       │ 1620569234 │ -1        │ 30.9299 │ 185.085 │ 116.149 │ 100.4   │\n",
       "│ 5       │ 1620569405 │ -1        │ 3.68962 │ 147.032 │ 119.642 │ 318.78  │\n",
       "│ 6       │ 1619882298 │ -1        │ 46.9333 │ 134.869 │ 85.2907 │ -32.87  │\n",
       "│ 7       │ 1620570495 │ -1        │ 10.0025 │ 186.166 │ 125.959 │ 173.74  │\n",
       "│ 8       │ 1621113337 │ -1        │ 39.2183 │ 196.085 │ 87.0058 │ -92.91  │\n",
       "│ 9       │ 1620494893 │ -1        │ 38.9772 │ 181.184 │ 67.201  │ -119.43 │\n",
       "│ 10      │ 1620494673 │ -1        │ 28.9453 │ 165.548 │ 73.521  │ 28.3    │\n",
       "│ 11      │ 1620495423 │ -1        │ 55.9567 │ 140.022 │ 85.7931 │ -53.57  │\n",
       "⋮\n",
       "│ 1875254 │ 1633037941 │ -1        │ 247.842 │ 363.894 │ 258.432 │ 584.4   │\n",
       "│ 1875255 │ 1633039302 │ -1        │ 259.414 │ 399.276 │ 260.807 │ -651.61 │\n",
       "│ 1875256 │ 1633049894 │ -1        │ 222.806 │ 375.506 │ 256.465 │ -704.42 │\n",
       "│ 1875257 │ 1633052058 │ -1        │ 229.784 │ 381.151 │ 265.435 │ -186.15 │\n",
       "│ 1875258 │ 1633059693 │ -1        │ 208.309 │ 358.898 │ 261.616 │ 269.29  │\n",
       "│ 1875259 │ 1633065798 │ -1        │ 258.554 │ 356.669 │ 259.318 │ -527.16 │\n",
       "│ 1875260 │ 1633066256 │ -1        │ 265.983 │ 361.787 │ 256.26  │ -461.04 │\n",
       "│ 1875261 │ 1633067144 │ -1        │ 209.721 │ 392.869 │ 265.84  │ -306.17 │\n",
       "│ 1875262 │ 1633067372 │ -1        │ 211.413 │ 385.231 │ 265.947 │ 28.06   │\n",
       "│ 1875263 │ 1633067388 │ -1        │ 240.285 │ 395.969 │ 255.802 │ -90.78  │\n",
       "│ 1875264 │ 1633067471 │ -1        │ 214.532 │ 359.643 │ 258.233 │ 185.14  │\n",
       "│ 1875265 │ 1633067812 │ -1        │ 207.811 │ 370.363 │ 255.956 │ 414.53  │"
      ]
     },
     "execution_count": 7,
     "metadata": {},
     "output_type": "execute_result"
    }
   ],
   "source": [
    "# grab the halos to get stellar masses\n",
    "halodf = load_halodat()"
   ]
  },
  {
   "cell_type": "code",
   "execution_count": 8,
   "metadata": {},
   "outputs": [
    {
     "data": {
      "text/html": [
       "<table class=\"data-frame\"><thead><tr><th></th><th>delta</th><th>halo_id</th><th>halo_upid</th><th>x</th><th>y</th><th>z</th><th>vx</th><th>vy</th><th>vz</th><th>hfoo1</th><th>hfoo2</th><th>halo_mvir</th><th>halo_mz_05</th><th>halo_mz_1</th><th>halo_mz_2</th><th>halo_mz_4</th><th>halo_mz_8</th><th>halo_ac</th><th>halo_ac_mpeak</th><th>halo_nfw_conc</th><th>halo_spin</th><th>hfoo3</th><th>halo_rvir</th><th>logMh</th><th>Mpeak</th><th>logMpeak</th><th>Mbar</th></tr></thead><tbody><tr><th>1</th><td>2.47743</td><td>1.62049e9</td><td>-1</td><td>23.8908</td><td>178.352</td><td>71.8972</td><td>254.19</td><td>-195.17</td><td>-253.54</td><td>758.46</td><td>780.72</td><td>1.303e14</td><td>1.117e14</td><td>1.016e14</td><td>9.289e13</td><td>6.113e13</td><td>4.885e13</td><td>0.51462</td><td>0.51462</td><td>4.34886</td><td>0.03889</td><td>1620490488</td><td>1.25141</td><td>14.1149</td><td>1.303e14</td><td>14.1149</td><td>2.03268e13</td></tr><tr><th>2</th><td>2.51079</td><td>1.62049e9</td><td>-1</td><td>54.2385</td><td>147.212</td><td>83.8446</td><td>132.18</td><td>-243.42</td><td>241.66</td><td>746.88</td><td>787.27</td><td>1.031e14</td><td>1.009e14</td><td>9.834e13</td><td>8.531e13</td><td>6.773e13</td><td>5.168e13</td><td>0.602988</td><td>0.602988</td><td>6.31183</td><td>0.03163</td><td>1620489517</td><td>1.15745</td><td>14.0133</td><td>1.031e14</td><td>14.0133</td><td>1.60836e13</td></tr><tr><th>3</th><td>0.209179</td><td>1.62057e9</td><td>-1</td><td>17.5035</td><td>142.147</td><td>121.233</td><td>206.25</td><td>52.6</td><td>75.76</td><td>800.83</td><td>833.51</td><td>1.023e14</td><td>9.305e13</td><td>8.565e13</td><td>8.209e13</td><td>7.753e13</td><td>5.354e13</td><td>0.465599</td><td>0.465599</td><td>8.92032</td><td>0.01292</td><td>1620568787</td><td>1.15445</td><td>14.0099</td><td>1.023e14</td><td>14.0099</td><td>1.59588e13</td></tr><tr><th>4</th><td>0.20084</td><td>1.62057e9</td><td>-1</td><td>30.9299</td><td>185.085</td><td>116.149</td><td>100.4</td><td>211.18</td><td>314.45</td><td>759.85</td><td>808.61</td><td>8.734e13</td><td>8.65e13</td><td>8.481e13</td><td>7.882e13</td><td>6.102e13</td><td>4.87e13</td><td>0.474902</td><td>0.474902</td><td>8.7816</td><td>0.02291</td><td>1620569234</td><td>1.09519</td><td>13.9412</td><td>8.734e13</td><td>13.9412</td><td>1.3625e13</td></tr><tr><th>5</th><td>0.492711</td><td>1.62057e9</td><td>-1</td><td>3.68962</td><td>147.032</td><td>119.642</td><td>318.78</td><td>-36.68</td><td>214.57</td><td>655.71</td><td>762.05</td><td>7.256e13</td><td>7.268e13</td><td>7.435e13</td><td>8.4e13</td><td>7.07e13</td><td>2.074e13</td><td>0.579871</td><td>0.608062</td><td>5.65232</td><td>0.0223</td><td>1620569405</td><td>1.02956</td><td>13.8607</td><td>8.4e13</td><td>13.9243</td><td>1.3104e13</td></tr><tr><th>6</th><td>1.52677</td><td>1.61988e9</td><td>-1</td><td>46.9333</td><td>134.869</td><td>85.2907</td><td>-32.87</td><td>0.42</td><td>29.38</td><td>664.42</td><td>737.05</td><td>7.239e13</td><td>6.482e13</td><td>6.325e13</td><td>6.602e13</td><td>6.553e13</td><td>2.278e13</td><td>0.734503</td><td>0.734503</td><td>6.13975</td><td>0.06525</td><td>1619882298</td><td>1.02875</td><td>13.8597</td><td>7.239e13</td><td>13.8597</td><td>1.12928e13</td></tr><tr><th>7</th><td>0.384302</td><td>1.62057e9</td><td>-1</td><td>10.0025</td><td>186.166</td><td>125.959</td><td>173.74</td><td>249.63</td><td>270.22</td><td>650.17</td><td>679.69</td><td>6.975e13</td><td>6.799e13</td><td>6.33e13</td><td>6.143e13</td><td>5.133e13</td><td>3.735e13</td><td>0.529195</td><td>0.529195</td><td>6.26543</td><td>0.04754</td><td>1620570495</td><td>1.01609</td><td>13.8435</td><td>6.975e13</td><td>13.8435</td><td>1.0881e13</td></tr><tr><th>8</th><td>1.06811</td><td>1.62111e9</td><td>-1</td><td>39.2183</td><td>196.085</td><td>87.0058</td><td>-92.91</td><td>99.81</td><td>237.01</td><td>560.58</td><td>643.33</td><td>5.08e13</td><td>5.55e13</td><td>5.615e13</td><td>6.024e13</td><td>3.472e13</td><td>1.32e13</td><td>0.503591</td><td>0.516679</td><td>4.35401</td><td>0.08217</td><td>1621113337</td><td>0.914195</td><td>13.7059</td><td>6.024e13</td><td>13.7799</td><td>9.39744e12</td></tr><tr><th>9</th><td>0.184162</td><td>1.62049e9</td><td>-1</td><td>38.9772</td><td>181.184</td><td>67.201</td><td>-119.43</td><td>12.79</td><td>11.14</td><td>568.63</td><td>639.93</td><td>4.591e13</td><td>4.567e13</td><td>4.37e13</td><td>4.085e13</td><td>3.21e13</td><td>1.713e13</td><td>0.473207</td><td>0.475291</td><td>6.38986</td><td>0.03874</td><td>1620494893</td><td>0.883866</td><td>13.6619</td><td>4.591e13</td><td>13.6619</td><td>7.16196e12</td></tr><tr><th>10</th><td>0.834617</td><td>1.62049e9</td><td>-1</td><td>28.9453</td><td>165.548</td><td>73.521</td><td>28.3</td><td>-4.23</td><td>-105.61</td><td>586.93</td><td>628.04</td><td>4.428e13</td><td>4.125e13</td><td>3.994e13</td><td>3.841e13</td><td>3.449e13</td><td>2.469e13</td><td>0.381623</td><td>0.381623</td><td>7.59335</td><td>0.03238</td><td>1620494673</td><td>0.87328</td><td>13.6462</td><td>4.428e13</td><td>13.6462</td><td>6.90768e12</td></tr><tr><th>11</th><td>2.20224</td><td>1.6205e9</td><td>-1</td><td>55.9567</td><td>140.022</td><td>85.7931</td><td>-53.57</td><td>203.2</td><td>-251.18</td><td>548.57</td><td>601.01</td><td>4.186e13</td><td>3.884e13</td><td>3.44e13</td><td>1.91e13</td><td>1.451e13</td><td>1.284e13</td><td>0.639395</td><td>0.639395</td><td>4.25069</td><td>0.06123</td><td>1620495423</td><td>0.857072</td><td>13.6218</td><td>4.186e13</td><td>13.6218</td><td>6.53016e12</td></tr><tr><th>12</th><td>0.392641</td><td>1.62057e9</td><td>-1</td><td>62.4508</td><td>162.055</td><td>107.549</td><td>75.88</td><td>-257.04</td><td>-133.03</td><td>577.16</td><td>577.16</td><td>3.99e13</td><td>3.772e13</td><td>3.011e13</td><td>2.444e13</td><td>1.727e13</td><td>1.271e13</td><td>0.350414</td><td>0.350414</td><td>7.49875</td><td>0.09474</td><td>1620571455</td><td>0.843481</td><td>13.601</td><td>3.99e13</td><td>13.601</td><td>6.2244e12</td></tr><tr><th>13</th><td>0.267554</td><td>1.62057e9</td><td>-1</td><td>20.3627</td><td>143.978</td><td>120.505</td><td>-49.02</td><td>-128.4</td><td>220.86</td><td>589.85</td><td>641.01</td><td>3.789e13</td><td>3.73e13</td><td>3.484e13</td><td>3.615e13</td><td>2.88e13</td><td>1.799e13</td><td>0.403035</td><td>0.403035</td><td>9.89974</td><td>0.05591</td><td>1620571508</td><td>0.829072</td><td>13.5785</td><td>3.789e13</td><td>13.5785</td><td>5.91084e12</td></tr><tr><th>14</th><td>1.0431</td><td>1.61996e9</td><td>-1</td><td>37.3153</td><td>137.642</td><td>107.545</td><td>9.56</td><td>-140.95</td><td>-46.09</td><td>531.28</td><td>587.67</td><td>3.501e13</td><td>3.431e13</td><td>3.311e13</td><td>3.286e13</td><td>3.392e13</td><td>1.692e13</td><td>0.518099</td><td>0.518099</td><td>7.57644</td><td>0.09008</td><td>1619957636</td><td>0.80751</td><td>13.5442</td><td>3.501e13</td><td>13.5442</td><td>5.46156e12</td></tr><tr><th>15</th><td>2.26895</td><td>1.6205e9</td><td>-1</td><td>26.0792</td><td>172.144</td><td>74.7623</td><td>38.69</td><td>91.99</td><td>-203.15</td><td>535.69</td><td>566.89</td><td>3.253e13</td><td>3.187e13</td><td>3.094e13</td><td>3.007e13</td><td>3.117e13</td><td>2.367e13</td><td>0.374954</td><td>0.374954</td><td>8.63966</td><td>0.03382</td><td>1620495924</td><td>0.787974</td><td>13.5123</td><td>3.253e13</td><td>13.5123</td><td>5.07468e12</td></tr><tr><th>16</th><td>2.21058</td><td>1.62049e9</td><td>-1</td><td>53.3853</td><td>146.74</td><td>86.3786</td><td>194.38</td><td>-339.43</td><td>-376.37</td><td>503.07</td><td>542.47</td><td>3.21e13</td><td>3.024e13</td><td>3.147e13</td><td>3.125e13</td><td>2.435e13</td><td>1.492e13</td><td>0.486428</td><td>0.486428</td><td>5.65971</td><td>0.04569</td><td>1620489732</td><td>0.784487</td><td>13.5065</td><td>3.21e13</td><td>13.5065</td><td>5.0076e12</td></tr><tr><th>17</th><td>0.626138</td><td>1.6205e9</td><td>-1</td><td>43.6875</td><td>141.655</td><td>78.1479</td><td>211.4</td><td>-185.72</td><td>116.92</td><td>536.5</td><td>601.26</td><td>3.196e13</td><td>3.208e13</td><td>3.175e13</td><td>2.95e13</td><td>2.067e13</td><td>1.806e13</td><td>0.344459</td><td>0.347108</td><td>8.508</td><td>0.05286</td><td>1620496207</td><td>0.783345</td><td>13.5046</td><td>3.208e13</td><td>13.5062</td><td>5.00448e12</td></tr><tr><th>18</th><td>0.451015</td><td>1.62057e9</td><td>-1</td><td>2.99747</td><td>144.217</td><td>113.112</td><td>436.22</td><td>-129.99</td><td>206.12</td><td>506.5</td><td>546.21</td><td>3.147e13</td><td>3.064e13</td><td>2.976e13</td><td>3.059e13</td><td>2.605e13</td><td>1.292e13</td><td>0.540679</td><td>0.540679</td><td>5.64747</td><td>0.10943</td><td>1620571906</td><td>0.779321</td><td>13.4979</td><td>3.147e13</td><td>13.4979</td><td>4.90932e12</td></tr><tr><th>19</th><td>-0.0826915</td><td>1.6205e9</td><td>-1</td><td>20.8623</td><td>163.036</td><td>85.8114</td><td>252.76</td><td>-342.19</td><td>-95.04</td><td>491.69</td><td>491.69</td><td>2.833e13</td><td>2.128e13</td><td>1.306e13</td><td>1.173e13</td><td>9.87e12</td><td>9.908e12</td><td>0.649251</td><td>0.649251</td><td>5.81987</td><td>0.12205</td><td>1620497139</td><td>0.752488</td><td>13.4522</td><td>2.833e13</td><td>13.4522</td><td>4.41948e12</td></tr><tr><th>20</th><td>-0.0243173</td><td>1.6205e9</td><td>-1</td><td>20.5867</td><td>149.218</td><td>90.6307</td><td>197.43</td><td>-223.49</td><td>-135.25</td><td>482.8</td><td>555.35</td><td>2.817e13</td><td>2.764e13</td><td>2.605e13</td><td>2.125e13</td><td>1.851e13</td><td>1.8e13</td><td>0.471347</td><td>0.471347</td><td>6.05828</td><td>0.02903</td><td>1620496909</td><td>0.751069</td><td>13.4498</td><td>2.817e13</td><td>13.4498</td><td>4.39452e12</td></tr><tr><th>21</th><td>0.517729</td><td>1.62057e9</td><td>-1</td><td>16.4112</td><td>162.461</td><td>128.345</td><td>457.91</td><td>162.47</td><td>508.47</td><td>507.5</td><td>507.5</td><td>2.705e13</td><td>2.355e13</td><td>1.805e13</td><td>1.647e13</td><td>1.355e13</td><td>1.161e13</td><td>0.356297</td><td>0.356297</td><td>8.55006</td><td>0.05866</td><td>1620572797</td><td>0.74098</td><td>13.4322</td><td>2.705e13</td><td>13.4322</td><td>4.2198e12</td></tr><tr><th>22</th><td>0.0507352</td><td>1.62049e9</td><td>-1</td><td>46.5877</td><td>166.859</td><td>85.8162</td><td>133.54</td><td>-451.06</td><td>-131.43</td><td>497.3</td><td>559.49</td><td>2.673e13</td><td>2.495e13</td><td>2.559e13</td><td>2.515e13</td><td>1.541e13</td><td>1.241e13</td><td>0.397082</td><td>0.397082</td><td>8.03553</td><td>0.06762</td><td>1620493949</td><td>0.738047</td><td>13.427</td><td>2.673e13</td><td>13.427</td><td>4.16988e12</td></tr><tr><th>23</th><td>-0.432937</td><td>1.6205e9</td><td>-1</td><td>20.073</td><td>149.195</td><td>74.149</td><td>135.99</td><td>78.03</td><td>-231.47</td><td>456.82</td><td>534.37</td><td>2.479e13</td><td>1.943e13</td><td>1.84e13</td><td>1.737e13</td><td>1.69e13</td><td>1.742e13</td><td>0.675034</td><td>0.675034</td><td>6.05562</td><td>0.07838</td><td>1620496673</td><td>0.719741</td><td>13.3943</td><td>2.479e13</td><td>13.3943</td><td>3.86724e12</td></tr><tr><th>24</th><td>-0.0660131</td><td>1.6205e9</td><td>-1</td><td>25.8315</td><td>154.715</td><td>82.5306</td><td>43.87</td><td>-81.37</td><td>-206.12</td><td>491.29</td><td>506.52</td><td>2.453e13</td><td>2.107e13</td><td>1.845e13</td><td>1.728e13</td><td>1.542e13</td><td>1.349e13</td><td>0.502886</td><td>0.502886</td><td>8.54504</td><td>0.03665</td><td>1620496022</td><td>0.717216</td><td>13.3897</td><td>2.453e13</td><td>13.3897</td><td>3.82668e12</td></tr><tr><th>25</th><td>1.62684</td><td>1.6205e9</td><td>-1</td><td>24.6635</td><td>174.31</td><td>78.492</td><td>152.28</td><td>-6.83</td><td>-312.9</td><td>480.61</td><td>537.7</td><td>2.425e13</td><td>2.279e13</td><td>2.017e13</td><td>1.38e13</td><td>1.158e13</td><td>1.454e13</td><td>0.499931</td><td>0.499931</td><td>8.29615</td><td>0.14663</td><td>1620497505</td><td>0.714477</td><td>13.3847</td><td>2.425e13</td><td>13.3847</td><td>3.783e12</td></tr><tr><th>26</th><td>-0.249475</td><td>1.62049e9</td><td>-1</td><td>19.5741</td><td>144.602</td><td>89.2613</td><td>158.68</td><td>-261.53</td><td>-112.18</td><td>416.01</td><td>435.68</td><td>2.352e13</td><td>2.226e13</td><td>2.247e13</td><td>2.143e13</td><td>1.256e13</td><td>9.183e12</td><td>0.54343</td><td>0.54343</td><td>3.1241</td><td>0.10139</td><td>1620494569</td><td>0.707234</td><td>13.3714</td><td>2.352e13</td><td>13.3714</td><td>3.66912e12</td></tr><tr><th>27</th><td>0.676173</td><td>1.62057e9</td><td>-1</td><td>27.4813</td><td>168.751</td><td>130.414</td><td>-27.62</td><td>-206.27</td><td>462.08</td><td>467.6</td><td>473.52</td><td>2.267e13</td><td>2.138e13</td><td>1.904e13</td><td>1.772e13</td><td>1.576e13</td><td>1.441e13</td><td>0.425379</td><td>0.425379</td><td>7.79343</td><td>0.08554</td><td>1620572659</td><td>0.69861</td><td>13.3555</td><td>2.267e13</td><td>13.3555</td><td>3.53652e12</td></tr><tr><th>28</th><td>2.3857</td><td>1.6205e9</td><td>-1</td><td>30.0228</td><td>177.056</td><td>67.7144</td><td>-278.29</td><td>135.28</td><td>51.87</td><td>452.27</td><td>457.7</td><td>2.154e13</td><td>2.01e13</td><td>1.882e13</td><td>1.786e13</td><td>1.652e13</td><td>1.251e13</td><td>0.41618</td><td>0.41618</td><td>6.05873</td><td>0.06119</td><td>1620497954</td><td>0.686804</td><td>13.3332</td><td>2.154e13</td><td>13.3332</td><td>3.36024e12</td></tr><tr><th>29</th><td>0.000700228</td><td>1.62057e9</td><td>-1</td><td>8.66253</td><td>166.552</td><td>128.337</td><td>434.47</td><td>-137.77</td><td>378.62</td><td>458.81</td><td>458.81</td><td>2.117e13</td><td>1.887e13</td><td>1.663e13</td><td>1.486e13</td><td>1.277e13</td><td>1.058e13</td><td>0.450248</td><td>0.450248</td><td>7.53279</td><td>0.02485</td><td>1620572457</td><td>0.682849</td><td>13.3257</td><td>2.117e13</td><td>13.3257</td><td>3.30252e12</td></tr><tr><th>30</th><td>2.12719</td><td>1.6205e9</td><td>-1</td><td>25.3244</td><td>183.239</td><td>70.4728</td><td>168.41</td><td>-106.92</td><td>-64.94</td><td>454.03</td><td>469.82</td><td>2.097e13</td><td>2.084e13</td><td>2.04e13</td><td>1.913e13</td><td>1.639e13</td><td>1.259e13</td><td>0.5245</td><td>0.5245</td><td>7.58346</td><td>0.04795</td><td>1620497593</td><td>0.680691</td><td>13.3216</td><td>2.097e13</td><td>13.3216</td><td>3.27132e12</td></tr><tr><th>&vellip;</th><td>&vellip;</td><td>&vellip;</td><td>&vellip;</td><td>&vellip;</td><td>&vellip;</td><td>&vellip;</td><td>&vellip;</td><td>&vellip;</td><td>&vellip;</td><td>&vellip;</td><td>&vellip;</td><td>&vellip;</td><td>&vellip;</td><td>&vellip;</td><td>&vellip;</td><td>&vellip;</td><td>&vellip;</td><td>&vellip;</td><td>&vellip;</td><td>&vellip;</td><td>&vellip;</td><td>&vellip;</td><td>&vellip;</td><td>&vellip;</td><td>&vellip;</td><td>&vellip;</td><td>&vellip;</td></tr></tbody></table>"
      ],
      "text/plain": [
       "1092171×27 DataFrames.DataFrame. Omitted printing of 21 columns\n",
       "│ Row     │ delta      │ halo_id   │ halo_upid │ x       │ y       │ z       │\n",
       "├─────────┼────────────┼───────────┼───────────┼─────────┼─────────┼─────────┤\n",
       "│ 1       │ 2.47743    │ 1.62049e9 │ -1        │ 23.8908 │ 178.352 │ 71.8972 │\n",
       "│ 2       │ 2.51079    │ 1.62049e9 │ -1        │ 54.2385 │ 147.212 │ 83.8446 │\n",
       "│ 3       │ 0.209179   │ 1.62057e9 │ -1        │ 17.5035 │ 142.147 │ 121.233 │\n",
       "│ 4       │ 0.20084    │ 1.62057e9 │ -1        │ 30.9299 │ 185.085 │ 116.149 │\n",
       "│ 5       │ 0.492711   │ 1.62057e9 │ -1        │ 3.68962 │ 147.032 │ 119.642 │\n",
       "│ 6       │ 1.52677    │ 1.61988e9 │ -1        │ 46.9333 │ 134.869 │ 85.2907 │\n",
       "│ 7       │ 0.384302   │ 1.62057e9 │ -1        │ 10.0025 │ 186.166 │ 125.959 │\n",
       "│ 8       │ 1.06811    │ 1.62111e9 │ -1        │ 39.2183 │ 196.085 │ 87.0058 │\n",
       "│ 9       │ 0.184162   │ 1.62049e9 │ -1        │ 38.9772 │ 181.184 │ 67.201  │\n",
       "│ 10      │ 0.834617   │ 1.62049e9 │ -1        │ 28.9453 │ 165.548 │ 73.521  │\n",
       "│ 11      │ 2.20224    │ 1.6205e9  │ -1        │ 55.9567 │ 140.022 │ 85.7931 │\n",
       "⋮\n",
       "│ 1092160 │ 0.692851   │ 1.63299e9 │ -1        │ 256.803 │ 394.928 │ 229.496 │\n",
       "│ 1092161 │ 4.07855    │ 1.63238e9 │ -1        │ 212.825 │ 343.387 │ 229.471 │\n",
       "│ 1092162 │ 3.74499    │ 1.63238e9 │ -1        │ 213.12  │ 352.38  │ 223.081 │\n",
       "│ 1092163 │ 1.26825    │ 1.63245e9 │ -1        │ 245.222 │ 347.293 │ 254.41  │\n",
       "│ 1092164 │ -0.407919  │ 1.63246e9 │ -1        │ 215.429 │ 337.562 │ 244.914 │\n",
       "│ 1092165 │ 0.50939    │ 1.63246e9 │ -1        │ 234.727 │ 351.387 │ 239.967 │\n",
       "│ 1092166 │ -0.816538  │ 1.63291e9 │ -1        │ 262.43  │ 394.969 │ 205.113 │\n",
       "│ 1092167 │ 2.11885    │ 1.63297e9 │ -1        │ 212.432 │ 376.051 │ 223.454 │\n",
       "│ 1092168 │ 1.71857    │ 1.63299e9 │ -1        │ 227.07  │ 357.184 │ 234.368 │\n",
       "│ 1092169 │ -0.733147  │ 1.63299e9 │ -1        │ 224.269 │ 393.816 │ 235.85  │\n",
       "│ 1092170 │ -0.0743523 │ 1.63299e9 │ -1        │ 253.26  │ 370.036 │ 240.538 │\n",
       "│ 1092171 │ 1.15151    │ 1.63306e9 │ -1        │ 225.624 │ 381.025 │ 262.786 │"
      ]
     },
     "execution_count": 8,
     "metadata": {},
     "output_type": "execute_result"
    }
   ],
   "source": [
    "# make a merged dataframe of galaxies and halos\n",
    "mockdf = DataFrame(delta = deltas, halo_id = mockgals[:, 1], subvol = mockgals[:, 6])\n",
    "\n",
    "# keep only the central galaxies\n",
    "mockdf = mockdf[mockgals[:, 5] .== 1, :]\n",
    "\n",
    "# merge with the halos on halo_id\n",
    "mockdf = join(mockdf, halodf, on = :halo_id)"
   ]
  },
  {
   "cell_type": "code",
   "execution_count": 9,
   "metadata": {},
   "outputs": [
    {
     "data": {
      "text/plain": [
       "1092171-element Array{Float64,1}:\n",
       " 10.7137 \n",
       " 10.5356 \n",
       " 10.4582 \n",
       " 10.5707 \n",
       " 10.5787 \n",
       " 10.5075 \n",
       " 10.7739 \n",
       " 10.8607 \n",
       " 10.6994 \n",
       " 10.6661 \n",
       " 10.6098 \n",
       " 10.3536 \n",
       " 10.5007 \n",
       "  ⋮      \n",
       "  8.78117\n",
       "  8.79027\n",
       "  9.08589\n",
       "  8.68751\n",
       "  9.28203\n",
       "  8.94705\n",
       "  8.62243\n",
       "  9.25397\n",
       "  8.81968\n",
       "  8.68443\n",
       "  8.61701\n",
       "  9.00021"
      ]
     },
     "execution_count": 9,
     "metadata": {},
     "output_type": "execute_result"
    }
   ],
   "source": [
    "# now to add galaxy stellar masses according to the best fit stellar mass halo mass relation\n",
    "ths = [18, 19, 20]\n",
    "\n",
    "# read in the parameters\n",
    "th = ths[sample_num]\n",
    "params = squeeze(readdlm(\"../dat/optim/M$(@sprintf(\"%d\", th))_mass_pars.dat\"), 2)\n",
    "\n",
    "# add stellar mass to dataframe\n",
    "mockdf[:stelM] = gen_mstars(Array(mockdf[:Mpeak]), Array(mockdf[:Mbar]), params, fix_sig = false)\n",
    "\n",
    "# and add log stellar mass\n",
    "mockdf[:log10M] = log10.(mockdf[:stelM])"
   ]
  },
  {
   "cell_type": "code",
   "execution_count": 10,
   "metadata": {},
   "outputs": [
    {
     "name": "stdout",
     "output_type": "stream",
     "text": [
      "[0.110749, 0.147558, 0.157205, 0.239595, 0.293044, 0.331203, 0.394505, 0.466238, 0.594438, 0.642308, 0.670851, 0.788976, 0.830986, 0.876543, 0.897833, 0.936255, 0.950311, 1.0, 0.983333, 1.0]"
     ]
    },
    {
     "data": {
      "text/html": [
       "<table class=\"data-frame\"><thead><tr><th></th><th>delta</th><th>halo_id</th><th>halo_upid</th><th>x</th><th>y</th><th>z</th><th>vx</th><th>vy</th><th>vz</th><th>hfoo1</th><th>hfoo2</th><th>halo_mvir</th><th>halo_mz_05</th><th>halo_mz_1</th><th>halo_mz_2</th><th>halo_mz_4</th><th>halo_mz_8</th><th>halo_ac</th><th>halo_ac_mpeak</th><th>halo_nfw_conc</th><th>halo_spin</th><th>hfoo3</th><th>halo_rvir</th><th>logMh</th><th>Mpeak</th><th>logMpeak</th><th>Mbar</th><th>stelM</th><th>log10M</th></tr></thead><tbody><tr><th>1</th><td>-0.449615</td><td>1.61861e9</td><td>-1</td><td>1.84362</td><td>10.4189</td><td>55.185</td><td>-342.17</td><td>-23.06</td><td>-240.63</td><td>202.61</td><td>227.3</td><td>1.874e12</td><td>1.867e12</td><td>1.879e12</td><td>1.796e12</td><td>1.231e12</td><td>9.013e11</td><td>0.47484</td><td>0.479527</td><td>6.89682</td><td>0.05261</td><td>1618609210</td><td>0.304327</td><td>12.2728</td><td>1.879e12</td><td>12.2739</td><td>2.93124e11</td><td>2.57553e9</td><td>9.41087</td></tr><tr><th>2</th><td>-0.624737</td><td>1.63092e9</td><td>-1</td><td>204.002</td><td>234.466</td><td>103.23</td><td>-206.81</td><td>-264.03</td><td>-82.28</td><td>159.56</td><td>174.18</td><td>9.664e11</td><td>6.949e11</td><td>6.653e11</td><td>6.435e11</td><td>6.092e11</td><td>5.465e11</td><td>0.558688</td><td>0.558688</td><td>5.59839</td><td>0.04884</td><td>1630921189</td><td>0.244045</td><td>11.9852</td><td>9.664e11</td><td>11.9852</td><td>1.50758e11</td><td>2.78437e9</td><td>9.44473</td></tr><tr><th>3</th><td>-0.166083</td><td>1.62097e9</td><td>-1</td><td>2.01861</td><td>150.445</td><td>375.889</td><td>150.99</td><td>-457.48</td><td>-0.19</td><td>102.1</td><td>116.67</td><td>1.987e11</td><td>1.875e11</td><td>1.697e11</td><td>1.555e11</td><td>1.579e11</td><td>1.195e11</td><td>0.304486</td><td>0.304486</td><td>11.9319</td><td>0.11176</td><td>1620972357</td><td>0.14404</td><td>11.2982</td><td>1.987e11</td><td>11.2982</td><td>3.09972e10</td><td>2.7623e9</td><td>9.44127</td></tr><tr><th>4</th><td>-0.649755</td><td>1.62619e9</td><td>-1</td><td>128.428</td><td>234.462</td><td>180.198</td><td>-265.48</td><td>-103.46</td><td>528.21</td><td>96.68</td><td>115.43</td><td>2.466e11</td><td>2.472e11</td><td>2.561e11</td><td>2.786e11</td><td>2.732e11</td><td>1.295e11</td><td>0.477509</td><td>0.558257</td><td>5.4457</td><td>0.06799</td><td>1626191617</td><td>0.154792</td><td>11.392</td><td>2.786e11</td><td>11.445</td><td>4.34616e10</td><td>2.63852e9</td><td>9.42136</td></tr><tr><th>5</th><td>1.83532</td><td>1.62597e9</td><td>-1</td><td>170.705</td><td>237.079</td><td>2.87335</td><td>68.82</td><td>77.69</td><td>256.31</td><td>123.38</td><td>134.02</td><td>2.916e11</td><td>2.916e11</td><td>2.88e11</td><td>2.797e11</td><td>2.52e11</td><td>2.218e11</td><td>0.234851</td><td>0.234851</td><td>16.3317</td><td>0.08206</td><td>1625967300</td><td>0.163687</td><td>11.4648</td><td>2.916e11</td><td>11.4648</td><td>4.54896e10</td><td>2.63492e9</td><td>9.42077</td></tr><tr><th>6</th><td>2.7693</td><td>1.62036e9</td><td>-1</td><td>24.6398</td><td>132.684</td><td>359.48</td><td>277.39</td><td>254.59</td><td>23.1</td><td>120.41</td><td>125.66</td><td>2.608e11</td><td>2.567e11</td><td>2.448e11</td><td>2.283e11</td><td>1.969e11</td><td>1.68e11</td><td>0.369976</td><td>0.369976</td><td>13.718</td><td>0.05617</td><td>1620359066</td><td>0.157708</td><td>11.4163</td><td>2.608e11</td><td>11.4163</td><td>4.06848e10</td><td>2.54484e9</td><td>9.40566</td></tr><tr><th>7</th><td>-0.441276</td><td>1.62444e9</td><td>-1</td><td>171.35</td><td>94.9889</td><td>246.349</td><td>-436.15</td><td>-187.1</td><td>281.35</td><td>115.11</td><td>126.6</td><td>3.123e11</td><td>3.111e11</td><td>3.046e11</td><td>3.247e11</td><td>2.886e11</td><td>1.904e11</td><td>0.392427</td><td>0.418653</td><td>11.7278</td><td>0.0693</td><td>1624442522</td><td>0.167472</td><td>11.4946</td><td>3.247e11</td><td>11.5115</td><td>5.06532e10</td><td>2.93457e9</td><td>9.46755</td></tr><tr><th>8</th><td>0.0257177</td><td>1.63231e9</td><td>-1</td><td>257.206</td><td>315.865</td><td>152.035</td><td>-396.55</td><td>-76.55</td><td>-121.1</td><td>126.19</td><td>141.84</td><td>3.519e11</td><td>3.59e11</td><td>3.815e11</td><td>3.738e11</td><td>2.372e11</td><td>2.188e11</td><td>0.30499</td><td>0.318027</td><td>13.4816</td><td>0.04343</td><td>1632311283</td><td>0.174271</td><td>11.5464</td><td>3.815e11</td><td>11.5815</td><td>5.9514e10</td><td>2.69894e9</td><td>9.43119</td></tr><tr><th>9</th><td>0.951365</td><td>1.62453e9</td><td>-1</td><td>156.752</td><td>73.4321</td><td>291.893</td><td>93.36</td><td>-276.44</td><td>34.54</td><td>111.95</td><td>130.4</td><td>2.111e11</td><td>2.099e11</td><td>2.088e11</td><td>2.094e11</td><td>1.898e11</td><td>1.644e11</td><td>0.249645</td><td>0.262452</td><td>15.6769</td><td>0.0526</td><td>1624525355</td><td>0.146976</td><td>11.3245</td><td>2.111e11</td><td>11.3245</td><td>3.29316e10</td><td>2.55716e9</td><td>9.40776</td></tr><tr><th>10</th><td>0.259214</td><td>1.63772e9</td><td>-1</td><td>370.215</td><td>360.958</td><td>83.2546</td><td>-358.78</td><td>152.2</td><td>-392.59</td><td>122.29</td><td>144.3</td><td>4.205e11</td><td>3.998e11</td><td>3.838e11</td><td>3.442e11</td><td>3.507e11</td><td>2.372e11</td><td>0.387768</td><td>0.387768</td><td>7.11511</td><td>0.0682</td><td>1637722374</td><td>0.184929</td><td>11.6238</td><td>4.205e11</td><td>11.6238</td><td>6.5598e10</td><td>2.78372e9</td><td>9.44463</td></tr><tr><th>11</th><td>0.417659</td><td>1.62513e9</td><td>-1</td><td>134.649</td><td>110.501</td><td>291.781</td><td>-352.51</td><td>138.93</td><td>334.07</td><td>106.44</td><td>128.99</td><td>2.478e11</td><td>2.514e11</td><td>2.49e11</td><td>2.395e11</td><td>1.94e11</td><td>1.49e11</td><td>0.309895</td><td>0.315171</td><td>8.16723</td><td>0.05444</td><td>1625128252</td><td>0.155043</td><td>11.3941</td><td>2.514e11</td><td>11.4004</td><td>3.92184e10</td><td>2.99702e9</td><td>9.47669</td></tr><tr><th>12</th><td>0.167484</td><td>1.62497e9</td><td>-1</td><td>101.501</td><td>150.395</td><td>164.607</td><td>-344.7</td><td>-41.6</td><td>167.47</td><td>174.35</td><td>179.21</td><td>8.753e11</td><td>8.416e11</td><td>8.31e11</td><td>8.28e11</td><td>7.499e11</td><td>6.027e11</td><td>0.464851</td><td>0.464851</td><td>12.9771</td><td>0.11941</td><td>1624966678</td><td>0.236122</td><td>11.9422</td><td>8.753e11</td><td>11.9422</td><td>1.36547e11</td><td>2.8344e9</td><td>9.45246</td></tr><tr><th>13</th><td>-0.69979</td><td>1.63518e9</td><td>-1</td><td>333.078</td><td>143.764</td><td>88.9206</td><td>-295.66</td><td>-282.72</td><td>-110.65</td><td>130.14</td><td>137.51</td><td>4.548e11</td><td>4.199e11</td><td>4.016e11</td><td>4.075e11</td><td>3.832e11</td><td>2.484e11</td><td>0.289334</td><td>0.289334</td><td>7.77017</td><td>0.06853</td><td>1635182600</td><td>0.189827</td><td>11.6578</td><td>4.548e11</td><td>11.6578</td><td>7.09488e10</td><td>2.70735e9</td><td>9.43254</td></tr><tr><th>14</th><td>-0.282832</td><td>1.63772e9</td><td>-1</td><td>385.702</td><td>359.477</td><td>103.847</td><td>-267.37</td><td>392.52</td><td>-457.18</td><td>115.85</td><td>128.26</td><td>3.389e11</td><td>3.371e11</td><td>3.347e11</td><td>3.483e11</td><td>3.3e11</td><td>2.596e11</td><td>0.37928</td><td>0.539502</td><td>8.6803</td><td>0.04147</td><td>1637724739</td><td>0.172098</td><td>11.5301</td><td>3.483e11</td><td>11.542</td><td>5.43348e10</td><td>2.70025e9</td><td>9.4314</td></tr><tr><th>15</th><td>2.1939</td><td>1.63742e9</td><td>-1</td><td>387.058</td><td>341.116</td><td>295.303</td><td>-138.67</td><td>104.31</td><td>-100.4</td><td>137.43</td><td>148.65</td><td>3.413e11</td><td>3.342e11</td><td>3.389e11</td><td>3.389e11</td><td>3.413e11</td><td>2.484e11</td><td>0.275421</td><td>0.311579</td><td>22.2985</td><td>0.14267</td><td>1637419878</td><td>0.172503</td><td>11.5331</td><td>3.413e11</td><td>11.5331</td><td>5.32428e10</td><td>2.8475e9</td><td>9.45446</td></tr><tr><th>16</th><td>-0.616398</td><td>1.62436e9</td><td>-1</td><td>129.191</td><td>94.1748</td><td>152.778</td><td>-303.89</td><td>73.72</td><td>59.38</td><td>116.93</td><td>123.93</td><td>2.939e11</td><td>2.928e11</td><td>2.821e11</td><td>2.756e11</td><td>2.484e11</td><td>2.147e11</td><td>0.30197</td><td>0.30197</td><td>12.6848</td><td>0.03352</td><td>1624362597</td><td>0.164116</td><td>11.4682</td><td>2.939e11</td><td>11.4682</td><td>4.58484e10</td><td>2.54538e9</td><td>9.40575</td></tr><tr><th>17</th><td>2.02712</td><td>1.6246e9</td><td>-1</td><td>186.462</td><td>65.9068</td><td>336.69</td><td>-462.97</td><td>-168.21</td><td>62.83</td><td>109.03</td><td>114.3</td><td>2.324e11</td><td>2.265e11</td><td>2.253e11</td><td>2.159e11</td><td>1.928e11</td><td>1.863e11</td><td>0.3159</td><td>0.3159</td><td>13.8298</td><td>0.07595</td><td>1624601060</td><td>0.151762</td><td>11.3662</td><td>2.324e11</td><td>11.3662</td><td>3.62544e10</td><td>2.96593e9</td><td>9.47216</td></tr><tr><th>18</th><td>2.77764</td><td>1.6189e9</td><td>-1</td><td>98.7683</td><td>25.5782</td><td>247.999</td><td>-255.5</td><td>-177.97</td><td>-289.28</td><td>103.45</td><td>112.78</td><td>2.46e11</td><td>2.531e11</td><td>2.437e11</td><td>2.218e11</td><td>2.017e11</td><td>1.828e11</td><td>0.380642</td><td>0.387411</td><td>8.53112</td><td>0.03998</td><td>1618904352</td><td>0.154666</td><td>11.3909</td><td>2.531e11</td><td>11.4033</td><td>3.94836e10</td><td>2.86744e9</td><td>9.45749</td></tr><tr><th>19</th><td>-0.116048</td><td>1.62946e9</td><td>-1</td><td>276.102</td><td>56.5361</td><td>349.603</td><td>220.19</td><td>-441.77</td><td>188.37</td><td>142.5</td><td>160.27</td><td>3.986e11</td><td>3.986e11</td><td>3.945e11</td><td>3.761e11</td><td>3.543e11</td><td>2.827e11</td><td>0.244308</td><td>0.244308</td><td>19.9379</td><td>0.06147</td><td>1629462354</td><td>0.181662</td><td>11.6005</td><td>3.986e11</td><td>11.6005</td><td>6.21816e10</td><td>2.90466e9</td><td>9.46309</td></tr><tr><th>20</th><td>1.56012</td><td>1.62687e9</td><td>-1</td><td>176.473</td><td>301.519</td><td>273.878</td><td>195.61</td><td>-493.4</td><td>701.04</td><td>127.32</td><td>139.15</td><td>4.075e11</td><td>4.205e11</td><td>4.288e11</td><td>4.412e11</td><td>4.105e11</td><td>2.52e11</td><td>0.264481</td><td>0.281401</td><td>11.9867</td><td>0.03505</td><td>1626867570</td><td>0.183004</td><td>11.6101</td><td>4.412e11</td><td>11.6446</td><td>6.88272e10</td><td>3.01541e9</td><td>9.47935</td></tr><tr><th>21</th><td>0.534407</td><td>1.63696e9</td><td>-1</td><td>322.161</td><td>321.041</td><td>27.1445</td><td>-110.51</td><td>391.23</td><td>129.91</td><td>106.43</td><td>123.91</td><td>2.372e11</td><td>2.401e11</td><td>2.49e11</td><td>2.868e11</td><td>2.827e11</td><td>8.871e10</td><td>0.438015</td><td>0.490819</td><td>9.59336</td><td>0.09212</td><td>1636960021</td><td>0.1528</td><td>11.3751</td><td>2.868e11</td><td>11.4576</td><td>4.47408e10</td><td>2.55174e9</td><td>9.40684</td></tr><tr><th>22</th><td>-0.524667</td><td>1.62336e9</td><td>-1</td><td>57.5735</td><td>361.277</td><td>314.709</td><td>-34.35</td><td>60.7</td><td>-474.89</td><td>135.2</td><td>149.44</td><td>4.56e11</td><td>4.471e11</td><td>4.412e11</td><td>4.246e11</td><td>4.075e11</td><td>2.839e11</td><td>0.328303</td><td>0.328303</td><td>11.4043</td><td>0.04702</td><td>1623360634</td><td>0.189994</td><td>11.659</td><td>4.56e11</td><td>11.659</td><td>7.1136e10</td><td>2.95645e9</td><td>9.47077</td></tr><tr><th>23</th><td>0.0924311</td><td>1.62336e9</td><td>-1</td><td>90.0728</td><td>380.099</td><td>333.352</td><td>-77.87</td><td>157.72</td><td>-509.01</td><td>107.37</td><td>130.83</td><td>2.117e11</td><td>2.07e11</td><td>2.058e11</td><td>2.023e11</td><td>1.999e11</td><td>1.485e11</td><td>0.32364</td><td>0.327145</td><td>11.7147</td><td>0.07685</td><td>1623362019</td><td>0.147115</td><td>11.3257</td><td>2.117e11</td><td>11.3257</td><td>3.30252e10</td><td>2.7102e9</td><td>9.433</td></tr><tr><th>24</th><td>-0.524667</td><td>1.63389e9</td><td>-1</td><td>347.37</td><td>74.3294</td><td>15.1693</td><td>122.08</td><td>32.69</td><td>40.63</td><td>107.9</td><td>127.43</td><td>2.951e11</td><td>2.981e11</td><td>2.886e11</td><td>2.472e11</td><td>1.887e11</td><td>1.354e11</td><td>0.403129</td><td>0.409381</td><td>5.66935</td><td>0.04969</td><td>1633889287</td><td>0.164339</td><td>11.47</td><td>2.981e11</td><td>11.4744</td><td>4.65036e10</td><td>2.62038e9</td><td>9.41836</td></tr><tr><th>25</th><td>0.284232</td><td>1.62772e9</td><td>-1</td><td>103.796</td><td>322.07</td><td>377.838</td><td>418.31</td><td>167.91</td><td>-362.89</td><td>132.92</td><td>136.64</td><td>3.554e11</td><td>3.602e11</td><td>3.395e11</td><td>3.176e11</td><td>2.52e11</td><td>2.366e11</td><td>0.277636</td><td>0.279485</td><td>13.7129</td><td>0.06029</td><td>1627715862</td><td>0.174846</td><td>11.5507</td><td>3.602e11</td><td>11.5565</td><td>5.61912e10</td><td>2.98978e9</td><td>9.47564</td></tr><tr><th>26</th><td>0.384302</td><td>1.63172e9</td><td>-1</td><td>281.754</td><td>282.738</td><td>173.455</td><td>115.51</td><td>-83.1</td><td>7.44</td><td>131.0</td><td>145.57</td><td>3.3e11</td><td>3.235e11</td><td>3.058e11</td><td>2.91e11</td><td>2.768e11</td><td>2.774e11</td><td>0.356824</td><td>0.356824</td><td>22.6816</td><td>0.03765</td><td>1631718484</td><td>0.170578</td><td>11.5185</td><td>3.3e11</td><td>11.5185</td><td>5.148e10</td><td>2.67735e9</td><td>9.42771</td></tr><tr><th>27</th><td>-0.057674</td><td>1.62096e9</td><td>-1</td><td>7.05113</td><td>151.934</td><td>366.09</td><td>109.75</td><td>-304.58</td><td>-137.73</td><td>175.72</td><td>189.79</td><td>1.109e12</td><td>1.064e12</td><td>9.735e11</td><td>9.126e11</td><td>7.458e11</td><td>6.541e11</td><td>0.314512</td><td>0.314512</td><td>9.89269</td><td>0.09228</td><td>1620964255</td><td>0.255502</td><td>12.0449</td><td>1.109e12</td><td>12.0449</td><td>1.73004e11</td><td>2.61022e9</td><td>9.41668</td></tr><tr><th>28</th><td>-0.316188</td><td>1.62696e9</td><td>-1</td><td>190.032</td><td>256.671</td><td>312.707</td><td>-40.58</td><td>583.24</td><td>-103.04</td><td>135.27</td><td>145.31</td><td>4.755e11</td><td>4.666e11</td><td>4.714e11</td><td>4.779e11</td><td>5.459e11</td><td>2.324e11</td><td>0.482298</td><td>0.54567</td><td>14.3549</td><td>0.02418</td><td>1626956626</td><td>0.192664</td><td>11.6772</td><td>5.459e11</td><td>11.7371</td><td>8.51604e10</td><td>2.85125e9</td><td>9.45503</td></tr><tr><th>29</th><td>-0.624737</td><td>1.63157e9</td><td>-1</td><td>260.446</td><td>276.071</td><td>60.6001</td><td>-266.14</td><td>658.7</td><td>-237.53</td><td>95.53</td><td>111.88</td><td>2.117e11</td><td>2.023e11</td><td>1.969e11</td><td>1.887e11</td><td>2.135e11</td><td>7.393e10</td><td>0.338959</td><td>0.382121</td><td>7.45098</td><td>0.13758</td><td>1631568255</td><td>0.147115</td><td>11.3257</td><td>2.135e11</td><td>11.3294</td><td>3.3306e10</td><td>2.53831e9</td><td>9.40455</td></tr><tr><th>30</th><td>-0.457954</td><td>1.62251e9</td><td>-1</td><td>32.1176</td><td>303.387</td><td>187.38</td><td>105.34</td><td>-327.95</td><td>188.1</td><td>108.11</td><td>129.07</td><td>2.141e11</td><td>2.111e11</td><td>2.224e11</td><td>2.153e11</td><td>1.768e11</td><td>1.277e11</td><td>0.227542</td><td>0.234349</td><td>11.7784</td><td>0.05989</td><td>1622508564</td><td>0.147669</td><td>11.3306</td><td>2.224e11</td><td>11.3471</td><td>3.46944e10</td><td>2.70963e9</td><td>9.43291</td></tr><tr><th>&vellip;</th><td>&vellip;</td><td>&vellip;</td><td>&vellip;</td><td>&vellip;</td><td>&vellip;</td><td>&vellip;</td><td>&vellip;</td><td>&vellip;</td><td>&vellip;</td><td>&vellip;</td><td>&vellip;</td><td>&vellip;</td><td>&vellip;</td><td>&vellip;</td><td>&vellip;</td><td>&vellip;</td><td>&vellip;</td><td>&vellip;</td><td>&vellip;</td><td>&vellip;</td><td>&vellip;</td><td>&vellip;</td><td>&vellip;</td><td>&vellip;</td><td>&vellip;</td><td>&vellip;</td><td>&vellip;</td><td>&vellip;</td><td>&vellip;</td></tr></tbody></table>"
      ],
      "text/plain": [
       "340299×29 DataFrames.DataFrame. Omitted printing of 23 columns\n",
       "│ Row    │ delta     │ halo_id   │ halo_upid │ x       │ y       │ z       │\n",
       "├────────┼───────────┼───────────┼───────────┼─────────┼─────────┼─────────┤\n",
       "│ 1      │ -0.449615 │ 1.61861e9 │ -1        │ 1.84362 │ 10.4189 │ 55.185  │\n",
       "│ 2      │ -0.624737 │ 1.63092e9 │ -1        │ 204.002 │ 234.466 │ 103.23  │\n",
       "│ 3      │ -0.166083 │ 1.62097e9 │ -1        │ 2.01861 │ 150.445 │ 375.889 │\n",
       "│ 4      │ -0.649755 │ 1.62619e9 │ -1        │ 128.428 │ 234.462 │ 180.198 │\n",
       "│ 5      │ 1.83532   │ 1.62597e9 │ -1        │ 170.705 │ 237.079 │ 2.87335 │\n",
       "│ 6      │ 2.7693    │ 1.62036e9 │ -1        │ 24.6398 │ 132.684 │ 359.48  │\n",
       "│ 7      │ -0.441276 │ 1.62444e9 │ -1        │ 171.35  │ 94.9889 │ 246.349 │\n",
       "│ 8      │ 0.0257177 │ 1.63231e9 │ -1        │ 257.206 │ 315.865 │ 152.035 │\n",
       "│ 9      │ 0.951365  │ 1.62453e9 │ -1        │ 156.752 │ 73.4321 │ 291.893 │\n",
       "│ 10     │ 0.259214  │ 1.63772e9 │ -1        │ 370.215 │ 360.958 │ 83.2546 │\n",
       "│ 11     │ 0.417659  │ 1.62513e9 │ -1        │ 134.649 │ 110.501 │ 291.781 │\n",
       "⋮\n",
       "│ 340288 │ 0.117449  │ 1.62786e9 │ -1        │ 149.309 │ 357.998 │ 64.791  │\n",
       "│ 340289 │ 0.30091   │ 1.63771e9 │ -1        │ 370.195 │ 388.981 │ 97.1363 │\n",
       "│ 340290 │ 0.142466  │ 1.63305e9 │ -1        │ 217.141 │ 396.841 │ 289.805 │\n",
       "│ 340291 │ 1.46839   │ 1.62725e9 │ -1        │ 195.47  │ 308.547 │ 68.8027 │\n",
       "│ 340292 │ 0.409319  │ 1.63619e9 │ -1        │ 378.108 │ 206.301 │ 350.021 │\n",
       "│ 340293 │ 2.94443   │ 1.61959e9 │ -1        │ 5.99909 │ 78.0104 │ 272.203 │\n",
       "│ 340294 │ 0.642816  │ 1.62081e9 │ -1        │ 99.7305 │ 188.978 │ 289.419 │\n",
       "│ 340295 │ -0.574702 │ 1.61922e9 │ -1        │ 88.9839 │ 91.1746 │ 26.8637 │\n",
       "│ 340296 │ -0.549685 │ 1.63778e9 │ -1        │ 334.96  │ 371.805 │ 170.807 │\n",
       "│ 340297 │ 2.7693    │ 1.62502e9 │ -1        │ 121.026 │ 141.901 │ 196.274 │\n",
       "│ 340298 │ 0.417659  │ 1.61937e9 │ -1        │ 32.5292 │ 49.9072 │ 137.341 │\n",
       "│ 340299 │ 1.32663   │ 1.63186e9 │ -1        │ 206.434 │ 269.078 │ 257.129 │"
      ]
     },
     "execution_count": 10,
     "metadata": {},
     "output_type": "execute_result"
    }
   ],
   "source": [
    "# now to get the mock numbers to match the quenched fraction in the data\n",
    "nqbins = 20  # number of mass bins to use for the quenched fraction\n",
    "massmins = [9.4, 9.8, 10.3]\n",
    "\n",
    "# keep only the centrals within the massrange of interest for the modeling\n",
    "mockdf = mockdf[massmins[sample_num] .<= mockdf[:log10M] .< 11.0, :]\n",
    "    \n",
    "# get the massbins for computing quenched fraction\n",
    "quenmasses = linspace(massmins[sample_num], 11.0, nqbins + 1)\n",
    "\n",
    "# compute fractions for the data\n",
    "qfracs = zeros(nqbins)\n",
    "for j in 1:nqbins\n",
    "    ntot = size(datdf[quenmasses[j] .<= datdf[:log10M] .< quenmasses[j + 1], :])[1]\n",
    "    nquens = size(quendf[quenmasses[j] .<= quendf[:log10M] .< quenmasses[j + 1], :])[1]\n",
    "    qfracs[j] = nquens / ntot\n",
    "end\n",
    "println(qfracs)\n",
    "    \n",
    "mockdf = get_quenfrac(mockdf, quenmasses, qfracs)"
   ]
  },
  {
   "cell_type": "code",
   "execution_count": 11,
   "metadata": {},
   "outputs": [
    {
     "data": {
      "text/plain": [
       "CSV.Sink{Void,DataType}(    CSV.Options:\n",
       "        delim: ','\n",
       "        quotechar: '\"'\n",
       "        escapechar: '\\\\'\n",
       "        missingstring: \"\"\n",
       "        dateformat: nothing\n",
       "        decimal: '.'\n",
       "        truestring: 'true'\n",
       "        falsestring: 'false'\n",
       "        internstrings: true, IOBuffer(data=UInt8[...], readable=true, writable=true, seekable=true, append=false, size=0, maxsize=Inf, ptr=1, mark=-1), \"../dat/mocks/M18_cenquen_mock.csv\", 92, true, String[\"halo_id\", \"halo_mvir\", \"halo_rvir\", \"halo_nfw_conc\", \"halo_spin\", \"halo_mz_05\", \"halo_mz_1\", \"delta\", \"stelM\", \"log10M\"], 10, false, Val{false})"
      ]
     },
     "execution_count": 11,
     "metadata": {},
     "output_type": "execute_result"
    },
    {
     "name": "stdout",
     "output_type": "stream",
     "text": [
      "\n"
     ]
    }
   ],
   "source": [
    "# finally leave only the relevant columns in the mock for modeling\n",
    "mockdf = mockdf[:, [:halo_id, :halo_mvir, :halo_rvir, :halo_nfw_conc, :halo_spin, :halo_mz_05, :halo_mz_1,\n",
    "                    :delta, :stelM, :log10M]]\n",
    "outfile = \"../dat/mocks/M$(@sprintf(\"%d\", th))_cenquen_mock.csv\"\n",
    "CSV.write(outfile, mockdf)"
   ]
  }
 ],
 "metadata": {
  "kernelspec": {
   "display_name": "Julia 0.6.4",
   "language": "julia",
   "name": "julia-0.6"
  },
  "language_info": {
   "file_extension": ".jl",
   "mimetype": "application/julia",
   "name": "julia",
   "version": "0.6.4"
  }
 },
 "nbformat": 4,
 "nbformat_minor": 2
}
