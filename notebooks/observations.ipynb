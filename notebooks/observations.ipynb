{
 "cells": [
  {
   "cell_type": "code",
   "execution_count": null,
   "metadata": {},
   "outputs": [],
   "source": [
    "# grab the functions for making the measurements with the group data\n",
    "include(\"../src/obs_funcs.jl\")\n",
    "import Jackknife.get_sdss_subvols"
   ]
  },
  {
   "cell_type": "code",
   "execution_count": null,
   "metadata": {},
   "outputs": [],
   "source": [
    "# build the data sample from the group finding catalog\n",
    "# the function also finds the sample volumes from the redshift range\n",
    "galdf, samplevols = load_groupdat()"
   ]
  },
  {
   "cell_type": "code",
   "execution_count": null,
   "metadata": {},
   "outputs": [],
   "source": [
    "# compute the jackknife subvolumes that our selected sample belongs to\n",
    "radecs = zeros(size(galdf)[1], 2)\n",
    "radecs[:, 1] = rad2deg.(galdf[:ra])\n",
    "radecs[:, 2] = rad2deg.(galdf[:dec])\n",
    "\n",
    "galdf[:jackvol] = get_sdss_subvols(radecs)"
   ]
  },
  {
   "cell_type": "code",
   "execution_count": null,
   "metadata": {},
   "outputs": [],
   "source": [
    "# define the galaxy mass samples with the following bin edges in log10(M*)\n",
    "const nmbins = 4\n",
    "const logMedges = [9.4, 9.8, 10.3, 10.6, 11.0]\n",
    "const mlabels = [9.7, 10.1, 10.4, 10.7]  # these values are closest to the bin means/medians\n",
    "const meanMs = Array{Float64}(nmbins)\n",
    "\n",
    "for i in 1:nmbins\n",
    "    meanM = mean(galdf[:log10M][logMedges[i] .<= galdf[:log10M] .< logMedges[i + 1]])\n",
    "    meanMs[i] = meanM\n",
    "end"
   ]
  },
  {
   "cell_type": "code",
   "execution_count": null,
   "metadata": {},
   "outputs": [],
   "source": [
    "# similarly, define the bin edges in log10(δ + 1)\n",
    "const ndbins = 8\n",
    "const dbinedges = Array(linspace(-0.8, 1.2, 9))\n",
    "const dmeans = Array{Float64}(4, 8)\n",
    "\n",
    "for i in 1:nmbins\n",
    "    massdf = galdf[logMedges[i] .<= galdf[:log10M] .< logMedges[i + 1], :]\n",
    "    for j in 1:ndbins\n",
    "        meand = mean(massdf[:logρ][dbinedges[j] .<= massdf[:logρ] .< dbinedges[j + 1]])\n",
    "        dmeans[i, j] =  meand\n",
    "    end\n",
    "end"
   ]
  },
  {
   "cell_type": "code",
   "execution_count": null,
   "metadata": {},
   "outputs": [],
   "source": [
    "dbinedges"
   ]
  },
  {
   "cell_type": "code",
   "execution_count": null,
   "metadata": {},
   "outputs": [],
   "source": [
    "# now to plot some variations in galaxy properties\n",
    "# start with the scale radius\n",
    "galdf[:Rₑ] = galdf[:R_e]\n",
    "yticks = [Array(-0.25:0.05:0.15), Array(-0.1:0.05:0.2), Array(-0.1:0.05:0.2), Array(-0.1:0.05:0.2)]\n",
    "annotatevals = [[-1, 3], [0, 6], [0, 6], [0, 6]]\n",
    "replot = massenv_plot(galdf, \"Rₑ\",\n",
    "                      yticks, annotatevals,\n",
    "                      dbinedges, dmeans,\n",
    "                      samplevols[1],\n",
    "                      ptcolor = \"orange\")"
   ]
  },
  {
   "cell_type": "code",
   "execution_count": null,
   "metadata": {},
   "outputs": [],
   "source": [
    "subdf = galdf[logMedges[1] .<= galdf[:log10M] .< logMedges[1 + 1], :]\n",
    "col = \"Rₑ\"\n",
    "cencol = Symbol(string(\"cen\", col))\n",
    "subdf[cencol] = rm_mean_logmass(subdf[Symbol(col)], subdf[:log10M])\n",
    "subdf[cencol] = subdf[cencol] / mean(subdf[Symbol(col)])"
   ]
  },
  {
   "cell_type": "code",
   "execution_count": null,
   "metadata": {},
   "outputs": [],
   "source": [
    "subarr = subdf[find(Array(subdf[:jackvol]) .== 1), :]"
   ]
  },
  {
   "cell_type": "code",
   "execution_count": null,
   "metadata": {},
   "outputs": [],
   "source": [
    "envmeans(subarr, (cencol, dbinedges,)...)"
   ]
  },
  {
   "cell_type": "code",
   "execution_count": null,
   "metadata": {},
   "outputs": [],
   "source": [
    "sum(ans)"
   ]
  },
  {
   "cell_type": "code",
   "execution_count": null,
   "metadata": {},
   "outputs": [],
   "source": []
  }
 ],
 "metadata": {
  "kernelspec": {
   "display_name": "Julia 0.6.2",
   "language": "julia",
   "name": "julia-0.6"
  },
  "language_info": {
   "file_extension": ".jl",
   "mimetype": "application/julia",
   "name": "julia",
   "version": "0.6.2"
  }
 },
 "nbformat": 4,
 "nbformat_minor": 2
}
