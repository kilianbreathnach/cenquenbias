{
 "cells": [
  {
   "cell_type": "code",
   "execution_count": 1,
   "metadata": {},
   "outputs": [
    {
     "name": "stderr",
     "output_type": "stream",
     "text": [
      "┌ Info: Loading DataFrames support into Gadfly.jl\n",
      "└ @ Gadfly /home/users/kww231/.julia/packages/Gadfly/HGUSJ/src/mapping.jl:228\n",
      "┌ Info: Loading Cairo backend into Compose.jl\n",
      "└ @ Compose /home/users/kww231/.julia/packages/Compose/s5uAy/src/Compose.jl:164\n",
      "┌ Warning: [TEMPORARY WORKAROUND, pangolayout] for plotting with Gadfly.jl, see https://github.com/GiovineItalia/Gadfly.jl/issues/1206\n",
      "└ @ Compose /home/users/kww231/.julia/packages/Compose/s5uAy/src/pango.jl:67\n",
      "┌ Warning: Error requiring Fontconfig from Compose:\n",
      "│ LoadError: UndefVarError: pango_cairo_ctx not defined\n",
      "│ Stacktrace:\n",
      "│  [1] Compose.PangoLayout() at /home/users/kww231/.julia/packages/Compose/s5uAy/src/pango.jl:59\n",
      "│  [2] top-level scope at none:0\n",
      "│  [3] include at ./boot.jl:317 [inlined]\n",
      "│  [4] include_relative(::Module, ::String) at ./loading.jl:1038\n",
      "│  [5] include at ./sysimg.jl:29 [inlined]\n",
      "│  [6] include(::String) at /home/users/kww231/.julia/packages/Compose/s5uAy/src/Compose.jl:1\n",
      "│  [7] top-level scope at /home/users/kww231/.julia/packages/Compose/s5uAy/src/Compose.jl:172\n",
      "│  [8] eval at ./boot.jl:319 [inlined]\n",
      "│  [9] eval at /home/users/kww231/.julia/packages/Compose/s5uAy/src/Compose.jl:1 [inlined]\n",
      "│  [10] (::getfield(Compose, Symbol(\"##116#122\")))() at /home/users/kww231/.julia/packages/Requires/9Jse8/src/require.jl:67\n",
      "│  [11] err(::getfield(Compose, Symbol(\"##116#122\")), ::Module, ::String) at /home/users/kww231/.julia/packages/Requires/9Jse8/src/require.jl:38\n",
      "│  [12] #115 at /home/users/kww231/.julia/packages/Requires/9Jse8/src/require.jl:66 [inlined]\n",
      "│  [13] withpath(::getfield(Compose, Symbol(\"##115#121\")), ::String) at /home/users/kww231/.julia/packages/Requires/9Jse8/src/require.jl:28\n",
      "│  [14] (::getfield(Compose, Symbol(\"##114#120\")))() at /home/users/kww231/.julia/packages/Requires/9Jse8/src/require.jl:65\n",
      "│  [15] #invokelatest#1 at ./essentials.jl:691 [inlined]\n",
      "│  [16] invokelatest at ./essentials.jl:690 [inlined]\n",
      "│  [17] #3 at /home/users/kww231/.julia/packages/Requires/9Jse8/src/require.jl:19 [inlined]\n",
      "│  [18] iterate at ./generator.jl:47 [inlined]\n",
      "│  [19] _collect(::Array{Function,1}, ::Base.Generator{Array{Function,1},getfield(Requires, Symbol(\"##3#4\"))}, ::Base.EltypeUnknown, ::Base.HasShape{1}) at ./array.jl:632\n",
      "│  [20] map at ./array.jl:561 [inlined]\n",
      "│  [21] loadpkg(::Base.PkgId) at /home/users/kww231/.julia/packages/Requires/9Jse8/src/require.jl:19\n",
      "│  [22] #invokelatest#1 at ./essentials.jl:691 [inlined]\n",
      "│  [23] invokelatest at ./essentials.jl:690 [inlined]\n",
      "│  [24] require(::Base.PkgId) at ./loading.jl:855\n",
      "│  [25] macro expansion at ./logging.jl:311 [inlined]\n",
      "│  [26] require(::Module, ::Symbol) at ./loading.jl:834\n",
      "│  [27] top-level scope at In[1]:4\n",
      "│  [28] eval at ./boot.jl:319 [inlined]\n",
      "│  [29] softscope_include_string(::Module, ::String, ::String) at /home/users/kww231/.julia/packages/SoftGlobalScope/ujmiK/src/SoftGlobalScope.jl:206\n",
      "│  [30] execute_request(::ZMQ.Socket, ::IJulia.Msg) at /home/users/kww231/.julia/packages/IJulia/DL02A/src/execute_request.jl:65\n",
      "│  [31] #invokelatest#1 at ./essentials.jl:691 [inlined]\n",
      "│  [32] invokelatest at ./essentials.jl:690 [inlined]\n",
      "│  [33] eventloop(::ZMQ.Socket) at /home/users/kww231/.julia/packages/IJulia/DL02A/src/eventloop.jl:8\n",
      "│  [34] (::getfield(IJulia, Symbol(\"##12#15\")))() at ./task.jl:262\n",
      "│ in expression starting at /home/users/kww231/.julia/packages/Compose/s5uAy/src/pango.jl:68\n",
      "└ @ Requires /home/users/kww231/.julia/packages/Requires/9Jse8/src/require.jl:40\n"
     ]
    }
   ],
   "source": [
    "# grab the functions for making the measurements with the group data\n",
    "include(\"../src/obs_funcs.jl\")\n",
    "import .Jackknife.get_sdss_subvols\n",
    "import Cairo, Fontconfig"
   ]
  },
  {
   "cell_type": "code",
   "execution_count": 2,
   "metadata": {},
   "outputs": [
    {
     "name": "stderr",
     "output_type": "stream",
     "text": [
      "┌ Warning: broadcast will default to iterating over its arguments in the future. Wrap arguments of\n",
      "│ type `x::Cosmology.FlatLCDM{Float64}` with `Ref(x)` to ensure they broadcast as \"scalar\" elements.\n",
      "│   caller = ip:0x0\n",
      "└ @ Core :-1\n"
     ]
    },
    {
     "data": {
      "text/plain": [
       "(44476×46 DataFrame. Omitted printing of 40 columns\n",
       "│ Row   │ foo     │ galid  │ groupid │ cenid  │ rband    │ Psat       │\n",
       "│       │ \u001b[90mString⍰\u001b[39m │ \u001b[90mInt64⍰\u001b[39m │ \u001b[90mInt64⍰\u001b[39m  │ \u001b[90mInt64⍰\u001b[39m │ \u001b[90mFloat64⍰\u001b[39m │ \u001b[90mFloat64⍰\u001b[39m   │\n",
       "├───────┼─────────┼────────┼─────────┼────────┼──────────┼────────────┤\n",
       "│ 1     │ PROB10  │ 99     │ 11864   │ 99     │ -18.7129 │ 0.0        │\n",
       "│ 2     │ PROB10  │ 237    │ 12835   │ 237    │ -18.4337 │ 0.0        │\n",
       "│ 3     │ PROB10  │ 1071   │ 9313    │ 1071   │ -19.0647 │ 0.0        │\n",
       "│ 4     │ PROB10  │ 1142   │ 12588   │ 1142   │ -21.3599 │ 4.17232e-6 │\n",
       "│ 5     │ PROB10  │ 1357   │ 13957   │ 1357   │ -18.3485 │ 0.0        │\n",
       "│ 6     │ PROB10  │ 1687   │ 10907   │ 1687   │ -19.039  │ 0.0        │\n",
       "│ 7     │ PROB10  │ 4422   │ 14275   │ 4422   │ -18.3114 │ 0.0        │\n",
       "│ 8     │ PROB10  │ 4629   │ 13300   │ 4629   │ -18.458  │ 0.0        │\n",
       "│ 9     │ PROB10  │ 4753   │ 10901   │ 4753   │ -18.7568 │ 0.0        │\n",
       "│ 10    │ PROB10  │ 5129   │ 11911   │ 5129   │ -18.6018 │ 0.0        │\n",
       "⋮\n",
       "│ 44466 │ PROB10  │ 558901 │ 49072   │ 558901 │ -20.3429 │ 0.0        │\n",
       "│ 44467 │ PROB10  │ 558933 │ 29489   │ 558933 │ -20.7718 │ 0.0        │\n",
       "│ 44468 │ PROB10  │ 558934 │ 55804   │ 558934 │ -20.3751 │ 0.0        │\n",
       "│ 44469 │ PROB10  │ 558942 │ 36316   │ 558942 │ -20.4865 │ 0.0        │\n",
       "│ 44470 │ PROB10  │ 558953 │ 50049   │ 558953 │ -20.4489 │ 0.0        │\n",
       "│ 44471 │ PROB10  │ 558957 │ 42020   │ 558957 │ -20.4118 │ 0.0        │\n",
       "│ 44472 │ PROB10  │ 558968 │ 24316   │ 558968 │ -20.7879 │ 0.0        │\n",
       "│ 44473 │ PROB10  │ 558972 │ 36434   │ 558972 │ -20.5877 │ 0.0        │\n",
       "│ 44474 │ PROB10  │ 558994 │ 5549    │ 558994 │ -21.683  │ 0.0        │\n",
       "│ 44475 │ PROB10  │ 558998 │ 7936    │ 558998 │ -21.4794 │ 0.0        │\n",
       "│ 44476 │ PROB10  │ 559009 │ 20070   │ 559009 │ -21.1309 │ 0.0        │, [1.06808e6, 5.11888e6, 2.1809e7])"
      ]
     },
     "execution_count": 2,
     "metadata": {},
     "output_type": "execute_result"
    }
   ],
   "source": [
    "# build the data sample from the group finding catalog\n",
    "# the function also finds the sample volumes from the redshift range\n",
    "galdf, samplevols = load_groupdat()"
   ]
  },
  {
   "cell_type": "code",
   "execution_count": 3,
   "metadata": {},
   "outputs": [
    {
     "data": {
      "text/plain": [
       "44476-element Array{Int64,1}:\n",
       "  2\n",
       "  2\n",
       " 21\n",
       " 11\n",
       " 11\n",
       " 16\n",
       " 21\n",
       " 11\n",
       " 11\n",
       " 16\n",
       " 16\n",
       "  6\n",
       " 16\n",
       "  ⋮\n",
       "  7\n",
       "  7\n",
       "  7\n",
       "  7\n",
       "  7\n",
       "  7\n",
       "  7\n",
       "  6\n",
       "  6\n",
       "  6\n",
       "  6\n",
       "  6"
      ]
     },
     "execution_count": 3,
     "metadata": {},
     "output_type": "execute_result"
    }
   ],
   "source": [
    "# compute the jackknife subvolumes that our selected sample belongs to\n",
    "radecs = zeros(size(galdf)[1], 2)\n",
    "radecs[:, 1] = rad2deg.(galdf[:ra])\n",
    "radecs[:, 2] = rad2deg.(galdf[:dec])\n",
    "\n",
    "galdf[:jackvol] = get_sdss_subvols(radecs)"
   ]
  },
  {
   "cell_type": "code",
   "execution_count": 4,
   "metadata": {},
   "outputs": [],
   "source": [
    "# define the galaxy mass samples with the following bin edges in log10(M*)\n",
    "const nmbins = 4\n",
    "const logMedges = [9.4, 9.8, 10.3, 10.6, 11.0]\n",
    "const mlabels = [9.7, 10.1, 10.4, 10.7]  # these values are closest to the bin means/medians\n",
    "const meanMs = Array{Float64}(undef, nmbins)\n",
    "\n",
    "for i in 1:nmbins\n",
    "    meanM = mean(galdf[:log10M][logMedges[i] .<= galdf[:log10M] .< logMedges[i + 1]])\n",
    "    meanMs[i] = meanM\n",
    "end"
   ]
  },
  {
   "cell_type": "code",
   "execution_count": 5,
   "metadata": {},
   "outputs": [],
   "source": [
    "# similarly, define the bin edges in log10(δ + 1)\n",
    "const ndbins = 8\n",
    "const dbinedges = collect(range(-0.8, stop = 1.0, length = 9))\n",
    "const dmeans = Array{Float64}(undef, 4, 8)\n",
    "\n",
    "for i in 1:nmbins\n",
    "    massdf = galdf[logMedges[i] .<= galdf[:log10M] .< logMedges[i + 1], :]\n",
    "    for j in 1:ndbins\n",
    "        meand = mean(massdf[:logρ][dbinedges[j] .<= massdf[:logρ] .< dbinedges[j + 1]])\n",
    "        dmeans[i, j] =  meand\n",
    "    end\n",
    "end"
   ]
  },
  {
   "cell_type": "code",
   "execution_count": null,
   "metadata": {},
   "outputs": [
    {
     "name": "stderr",
     "output_type": "stream",
     "text": [
      "WARNING: importing deprecated binding Base.diag into Jackknife.\n",
      "WARNING: Base.diag is deprecated: it has been moved to the standard library package `LinearAlgebra`.\n",
      "Add `using LinearAlgebra` to your imports.\n",
      "  likely near /home/users/kww231/.julia/packages/IJulia/DL02A/src/kernel.jl:41\n",
      "WARNING: Base.diag is deprecated: it has been moved to the standard library package `LinearAlgebra`.\n",
      "Add `using LinearAlgebra` to your imports.\n",
      "  likely near /home/users/kww231/.julia/packages/IJulia/DL02A/src/kernel.jl:41\n",
      "WARNING: Base.diag is deprecated: it has been moved to the standard library package `LinearAlgebra`.\n",
      "Add `using LinearAlgebra` to your imports.\n",
      "  likely near /home/users/kww231/.julia/packages/IJulia/DL02A/src/kernel.jl:41\n",
      "WARNING: Base.diag is deprecated: it has been moved to the standard library package `LinearAlgebra`.\n",
      "Add `using LinearAlgebra` to your imports.\n",
      "  likely near /home/users/kww231/.julia/packages/IJulia/DL02A/src/kernel.jl:41\n",
      "WARNING: Base.diag is deprecated: it has been moved to the standard library package `LinearAlgebra`.\n",
      "Add `using LinearAlgebra` to your imports.\n",
      "  likely near /home/users/kww231/.julia/packages/IJulia/DL02A/src/kernel.jl:41\n",
      "WARNING: Base.diag is deprecated: it has been moved to the standard library package `LinearAlgebra`.\n",
      "Add `using LinearAlgebra` to your imports.\n",
      "  likely near /home/users/kww231/.julia/packages/IJulia/DL02A/src/kernel.jl:41\n",
      "┌ Warning: `Array{T}(m::Int) where T` is deprecated, use `Array{T}(undef, m)` instead.\n",
      "│   caller = envmeans(::DataFrame, ::Symbol, ::Array{Float64,1}) at obs_funcs.jl:180\n",
      "└ @ Main /home/users/kww231/dev/cenquenbias/src/obs_funcs.jl:180\n"
     ]
    },
    {
     "name": "stdout",
     "output_type": "stream",
     "text": [
      "logMₛ = 9.7\n",
      "rₛ = 0.57\n",
      "χ² = 7.6\n",
      "χ²_ν = 1.3\n",
      "p = 0.266\n",
      "   \n",
      "logMₛ = 10.1\n",
      "rₛ = 0.66\n",
      "χ² = 11.6\n",
      "χ²_ν = 1.9\n",
      "p = 0.072\n",
      "   \n",
      "logMₛ = 10.4\n",
      "rₛ = 0.76\n",
      "χ² = 11.1\n",
      "χ²_ν = 1.8\n",
      "p = 0.087\n",
      "   \n"
     ]
    }
   ],
   "source": [
    "# now to plot some variations in galaxy properties\n",
    "# start with the effective radius\n",
    "galdf[:Rₑ] = galdf[:R_e]\n",
    "yticks = collect(-0.1:0.05:0.2)\n",
    "annotatevals = [-1, 6]\n",
    "replot = massenv_plot(galdf, \"Rₑ\",\n",
    "                      yticks, annotatevals,\n",
    "                      dbinedges, dmeans,\n",
    "                      ptcolor = \"orange\")\n",
    "\n",
    "\n",
    "draw(SVG(\"finfigs/finplot_Re_d.svg\", 12inch, 4inch), replot)  # an svg for the paper\n",
    "draw(PDF(\"finfigs/finplot_Re_d.pdf\", 12inch, 4inch), replot)  \n",
    "draw(PNG(\"finfigs/finplot_Re_d.png\", 12inch, 4inch), replot)\n",
    "display(\"image/png\", read(\"finfigs/finplot_Re_d.png\"))"
   ]
  },
  {
   "cell_type": "code",
   "execution_count": null,
   "metadata": {},
   "outputs": [],
   "source": [
    "# here's surface density at Rₑ/2\n",
    "galdf[:ρₛ] = galdf[:surfdensR_eo2]\n",
    "yticks = collect(-0.15:0.05:0.2)\n",
    "annotatevals = [-1, 7]\n",
    "surfplot = massenv_plot(galdf, \"ρₛ\",\n",
    "                        yticks, annotatevals,\n",
    "                        dbinedges, dmeans,\n",
    "                        ptcolor = \"magenta\")\n",
    "\n",
    "draw(SVG(\"finfigs/finplot_surfdens_d.svg\", 12inch, 4inch), surfplot)\n",
    "draw(PDF(\"finfigs/finplot_surfdens_d.pdf\", 12inch, 4inch), surfplot)\n",
    "draw(PNG(\"finfigs/finplot_surfdens_d.png\", 12inch, 4inch), surfplot)\n",
    "display(\"image/png\", read(\"finfigs/finplot_surfdens_d.png\"))"
   ]
  },
  {
   "cell_type": "code",
   "execution_count": null,
   "metadata": {},
   "outputs": [],
   "source": [
    "# now for velocity dispersion\n",
    "galdf[:σᵥ] = galdf[:vdisp]\n",
    "yticks = collect(-0.1:0.05:0.20)\n",
    "annotatevals = [-1, 6]\n",
    "vdispplot = massenv_plot(galdf, \"σᵥ\",\n",
    "                         yticks, annotatevals,\n",
    "                         dbinedges, dmeans,\n",
    "                         ptcolor = \"green\")\n",
    "\n",
    "draw(SVG(\"finfigs/finplot_vdisp_d.svg\", 12inch, 4inch), vdispplot)\n",
    "draw(PDF(\"finfigs/finplot_vdisp_d.pdf\", 12inch, 4inch), vdispplot)\n",
    "draw(PNG(\"finfigs/finplot_vdisp_d.png\", 12inch, 4inch), vdispplot)\n",
    "display(\"image/png\", read(\"finfigs/finplot_vdisp_d.png\"))"
   ]
  }
 ],
 "metadata": {
  "kernelspec": {
   "display_name": "Julia 0.7.0",
   "language": "julia",
   "name": "julia-0.7"
  },
  "language_info": {
   "file_extension": ".jl",
   "mimetype": "application/julia",
   "name": "julia",
   "version": "0.7.0"
  }
 },
 "nbformat": 4,
 "nbformat_minor": 2
}
