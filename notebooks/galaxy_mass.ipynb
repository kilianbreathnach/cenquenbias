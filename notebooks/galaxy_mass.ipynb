{
 "cells": [
  {
   "cell_type": "code",
   "execution_count": 1,
   "metadata": {
    "scrolled": false
   },
   "outputs": [
    {
     "name": "stderr",
     "output_type": "stream",
     "text": [
      "\u001b[1m\u001b[36mINFO: \u001b[39m\u001b[22m\u001b[36mRecompiling stale cache file /home/users/kww231/.playground/share/phd/packages/lib/v0.6/Rmath.ji for module Rmath.\n",
      "\u001b[39m\u001b[1m\u001b[36mINFO: \u001b[39m\u001b[22m\u001b[36mRecompiling stale cache file /home/users/kww231/.playground/share/phd/packages/lib/v0.6/Distributions.ji for module Distributions.\n",
      "\u001b[39m\u001b[1m\u001b[36mINFO: \u001b[39m\u001b[22m\u001b[36mRecompiling stale cache file /home/users/kww231/.playground/share/phd/packages/lib/v0.6/Gadfly.ji for module Gadfly.\n",
      "\u001b[39m\u001b[1m\u001b[36mINFO: \u001b[39m\u001b[22m\u001b[36mRecompiling stale cache file /home/users/kww231/.playground/share/phd/packages/lib/v0.6/BlackBoxOptim.ji for module BlackBoxOptim.\n",
      "\u001b[39m\n",
      "WARNING: deprecated syntax \"inner constructor DictChain(...) around /home/users/kww231/.playground/share/phd/packages/v0.6/BlackBoxOptim/src/parameters.jl:8\".\n",
      "Use \"DictChain{K,V}(...) where {K,V}\" instead.\n",
      "\n",
      "WARNING: deprecated syntax \"inner constructor DictChain(...) around /home/users/kww231/.playground/share/phd/packages/v0.6/BlackBoxOptim/src/parameters.jl:11\".\n",
      "Use \"DictChain{K,V}(...) where {K,V}\" instead.\n",
      "\n",
      "WARNING: deprecated syntax \"inner constructor DictChain(...) around /home/users/kww231/.playground/share/phd/packages/v0.6/BlackBoxOptim/src/parameters.jl:13\".\n",
      "Use \"DictChain{K,V}(...) where {K,V}\" instead.\n",
      "\n",
      "WARNING: deprecated syntax \"inner constructor Candidate(...) around /home/users/kww231/.playground/share/phd/packages/v0.6/BlackBoxOptim/src/fit_individual.jl:41\".\n",
      "Use \"Candidate{F}(...) where F\" instead.\n",
      "\n",
      "WARNING: deprecated syntax \"inner constructor FrontierIndividual(...) around /home/users/kww231/.playground/share/phd/packages/v0.6/BlackBoxOptim/src/archives/epsbox_archive.jl:13\".\n",
      "Use \"FrontierIndividual{F}(...) where F\" instead.\n",
      "\n",
      "WARNING: deprecated syntax \"inner constructor SimplexCrossover(...) around /home/users/kww231/.playground/share/phd/packages/v0.6/BlackBoxOptim/src/genetic_operators/crossover/simplex_crossover.jl:13\".\n",
      "Use \"SimplexCrossover{NP}(...) where NP\" instead.\n",
      "\n",
      "WARNING: deprecated syntax \"inner constructor SimplexCrossover(...) around /home/users/kww231/.playground/share/phd/packages/v0.6/BlackBoxOptim/src/genetic_operators/crossover/simplex_crossover.jl:14\".\n",
      "Use \"SimplexCrossover{NP}(...) where NP\" instead.\n",
      "\n",
      "WARNING: deprecated syntax \"inner constructor DiffEvoRandBin(...) around /home/users/kww231/.playground/share/phd/packages/v0.6/BlackBoxOptim/src/genetic_operators/crossover/differential_evolution_crossover.jl:8\".\n",
      "Use \"DiffEvoRandBin{N}(...) where N\" instead.\n",
      "\n",
      "WARNING: deprecated syntax \"inner constructor DiffEvoRandBin(...) around /home/users/kww231/.playground/share/phd/packages/v0.6/BlackBoxOptim/src/genetic_operators/crossover/differential_evolution_crossover.jl:9\".\n",
      "Use \"DiffEvoRandBin{N}(...) where N\" instead.\n",
      "\n",
      "WARNING: deprecated syntax \"inner constructor ParentCentricCrossover(...) around /home/users/kww231/.playground/share/phd/packages/v0.6/BlackBoxOptim/src/genetic_operators/crossover/parent_centric_crossover.jl:12\".\n",
      "Use \"ParentCentricCrossover{NP}(...) where NP\" instead.\n",
      "\n",
      "WARNING: deprecated syntax \"inner constructor ParentCentricCrossover(...) around /home/users/kww231/.playground/share/phd/packages/v0.6/BlackBoxOptim/src/genetic_operators/crossover/parent_centric_crossover.jl:16\".\n",
      "Use \"ParentCentricCrossover{NP}(...) where NP\" instead.\n",
      "\n",
      "WARNING: deprecated syntax \"inner constructor UnimodalNormalDistributionCrossover(...) around /home/users/kww231/.playground/share/phd/packages/v0.6/BlackBoxOptim/src/genetic_operators/crossover/unimodal_normal_distribution_crossover.jl:13\".\n",
      "Use \"UnimodalNormalDistributionCrossover{NP}(...) where NP\" instead.\n",
      "\n",
      "WARNING: deprecated syntax \"inner constructor UnimodalNormalDistributionCrossover(...) around /home/users/kww231/.playground/share/phd/packages/v0.6/BlackBoxOptim/src/genetic_operators/crossover/unimodal_normal_distribution_crossover.jl:17\".\n",
      "Use \"UnimodalNormalDistributionCrossover{NP}(...) where NP\" instead.\n",
      "\n",
      "WARNING: deprecated syntax \"inner constructor FitPopulation(...) around /home/users/kww231/.playground/share/phd/packages/v0.6/BlackBoxOptim/src/population.jl:61\".\n",
      "Use \"FitPopulation{F}(...) where F\" instead.\n",
      "\n",
      "WARNING: deprecated syntax \"inner constructor RandomSearcher(...) around /home/users/kww231/.playground/share/phd/packages/v0.6/BlackBoxOptim/src/random_search.jl:10\".\n",
      "Use \"RandomSearcher{S}(...) where S\" instead.\n",
      "\n",
      "WARNING: deprecated syntax \"inner constructor AdaptiveDiffEvoRandBin(...) around /home/users/kww231/.playground/share/phd/packages/v0.6/BlackBoxOptim/src/adaptive_differential_evolution.jl:61\".\n",
      "Use \"AdaptiveDiffEvoRandBin{N}(...) where N\" instead.\n",
      "\n",
      "WARNING: deprecated syntax \"inner constructor AdaptiveDiffEvoRandBin(...) around /home/users/kww231/.playground/share/phd/packages/v0.6/BlackBoxOptim/src/adaptive_differential_evolution.jl:63\".\n",
      "Use \"AdaptiveDiffEvoRandBin{N}(...) where N\" instead.\n",
      "\n",
      "WARNING: deprecated syntax \"inner constructor SeparableNESOpt(...) around /home/users/kww231/.playground/share/phd/packages/v0.6/BlackBoxOptim/src/natural_evolution_strategies.jl:26\".\n",
      "Use \"SeparableNESOpt{F,E}(...) where {F,E}\" instead.\n",
      "\n",
      "WARNING: deprecated syntax \"inner constructor XNESOpt(...) around /home/users/kww231/.playground/share/phd/packages/v0.6/BlackBoxOptim/src/natural_evolution_strategies.jl:240\".\n",
      "Use \"XNESOpt{F,E}(...) where {F,E}\" instead.\n",
      "\n",
      "WARNING: deprecated syntax \"inner constructor DXNESOpt(...) around /home/users/kww231/.playground/share/phd/packages/v0.6/BlackBoxOptim/src/dx_nes.jl:38\".\n",
      "Use \"DXNESOpt{F,E}(...) where {F,E}\" instead.\n",
      "\n",
      "WARNING: deprecated syntax \"inner constructor ResamplingMemeticSearcher(...) around /home/users/kww231/.playground/share/phd/packages/v0.6/BlackBoxOptim/src/resampling_memetic_search.jl:36\".\n",
      "Use \"ResamplingMemeticSearcher{E}(...) where E\" instead.\n",
      "\n",
      "WARNING: deprecated syntax \"inner constructor ShiftedAndBiasedProblem(...) around /home/users/kww231/.playground/share/phd/packages/v0.6/BlackBoxOptim/src/problems/single_objective.jl:73\".\n",
      "Use \"ShiftedAndBiasedProblem{FS}(...) where FS\" instead.\n"
     ]
    }
   ],
   "source": [
    "# ENV[\"PYTHON\"] = \"/home/users/kww231/virtualenvs/phd/bin/python\"\n",
    "# rm(Pkg.dir(\"PyCall\",\"deps\",\"PYTHON\")); Pkg.checkout(\"PyCall\"); Pkg.build(\"PyCall\")\n",
    "\n",
    "include(\"../src/mod_funcs.jl\")  # this file contains code to access halos and run models\n",
    "include(\"../src/obs_funcs.jl\")  # this code gets the observed stellar mass function for comparison\n",
    "include(\"../src/fit_funcs.jl\")  # include functions for fitting models\n",
    "\n",
    "import BlackBoxOptim"
   ]
  },
  {
   "cell_type": "code",
   "execution_count": 2,
   "metadata": {},
   "outputs": [
    {
     "data": {
      "text/html": [
       "<table class=\"data-frame\"><thead><tr><th></th><th>halo_id</th><th>halo_upid</th><th>x</th><th>y</th><th>z</th><th>vx</th><th>vy</th><th>vz</th><th>hfoo1</th><th>hfoo2</th><th>halo_mvir</th><th>halo_mz_05</th><th>halo_mz_1</th><th>halo_mz_2</th><th>halo_mz_4</th><th>halo_mz_8</th><th>halo_ac</th><th>halo_ac_mpeak</th><th>halo_nfw_conc</th><th>halo_spin</th><th>hfoo3</th><th>halo_rvir</th><th>logMh</th><th>Mpeak</th><th>logMpeak</th><th>Mbar</th></tr></thead><tbody><tr><th>1</th><td>1620490488</td><td>-1</td><td>23.8908</td><td>178.352</td><td>71.8972</td><td>254.19</td><td>-195.17</td><td>-253.54</td><td>758.46</td><td>780.72</td><td>1.303e14</td><td>1.117e14</td><td>1.016e14</td><td>9.289e13</td><td>6.113e13</td><td>4.885e13</td><td>0.51462</td><td>0.51462</td><td>4.34886</td><td>0.03889</td><td>1620490488</td><td>1.25141</td><td>14.1149</td><td>1.303e14</td><td>14.1149</td><td>2.03268e13</td></tr><tr><th>2</th><td>1620489517</td><td>-1</td><td>54.2385</td><td>147.212</td><td>83.8446</td><td>132.18</td><td>-243.42</td><td>241.66</td><td>746.88</td><td>787.27</td><td>1.031e14</td><td>1.009e14</td><td>9.834e13</td><td>8.531e13</td><td>6.773e13</td><td>5.168e13</td><td>0.602988</td><td>0.602988</td><td>6.31183</td><td>0.03163</td><td>1620489517</td><td>1.15745</td><td>14.0133</td><td>1.031e14</td><td>14.0133</td><td>1.60836e13</td></tr><tr><th>3</th><td>1620568787</td><td>-1</td><td>17.5035</td><td>142.147</td><td>121.233</td><td>206.25</td><td>52.6</td><td>75.76</td><td>800.83</td><td>833.51</td><td>1.023e14</td><td>9.305e13</td><td>8.565e13</td><td>8.209e13</td><td>7.753e13</td><td>5.354e13</td><td>0.465599</td><td>0.465599</td><td>8.92032</td><td>0.01292</td><td>1620568787</td><td>1.15445</td><td>14.0099</td><td>1.023e14</td><td>14.0099</td><td>1.59588e13</td></tr><tr><th>4</th><td>1620569234</td><td>-1</td><td>30.9299</td><td>185.085</td><td>116.149</td><td>100.4</td><td>211.18</td><td>314.45</td><td>759.85</td><td>808.61</td><td>8.734e13</td><td>8.65e13</td><td>8.481e13</td><td>7.882e13</td><td>6.102e13</td><td>4.87e13</td><td>0.474902</td><td>0.474902</td><td>8.7816</td><td>0.02291</td><td>1620569234</td><td>1.09519</td><td>13.9412</td><td>8.734e13</td><td>13.9412</td><td>1.3625e13</td></tr><tr><th>5</th><td>1620569405</td><td>-1</td><td>3.68962</td><td>147.032</td><td>119.642</td><td>318.78</td><td>-36.68</td><td>214.57</td><td>655.71</td><td>762.05</td><td>7.256e13</td><td>7.268e13</td><td>7.435e13</td><td>8.4e13</td><td>7.07e13</td><td>2.074e13</td><td>0.579871</td><td>0.608062</td><td>5.65232</td><td>0.0223</td><td>1620569405</td><td>1.02956</td><td>13.8607</td><td>8.4e13</td><td>13.9243</td><td>1.3104e13</td></tr><tr><th>6</th><td>1619882298</td><td>-1</td><td>46.9333</td><td>134.869</td><td>85.2907</td><td>-32.87</td><td>0.42</td><td>29.38</td><td>664.42</td><td>737.05</td><td>7.239e13</td><td>6.482e13</td><td>6.325e13</td><td>6.602e13</td><td>6.553e13</td><td>2.278e13</td><td>0.734503</td><td>0.734503</td><td>6.13975</td><td>0.06525</td><td>1619882298</td><td>1.02875</td><td>13.8597</td><td>7.239e13</td><td>13.8597</td><td>1.12928e13</td></tr><tr><th>7</th><td>1620570495</td><td>-1</td><td>10.0025</td><td>186.166</td><td>125.959</td><td>173.74</td><td>249.63</td><td>270.22</td><td>650.17</td><td>679.69</td><td>6.975e13</td><td>6.799e13</td><td>6.33e13</td><td>6.143e13</td><td>5.133e13</td><td>3.735e13</td><td>0.529195</td><td>0.529195</td><td>6.26543</td><td>0.04754</td><td>1620570495</td><td>1.01609</td><td>13.8435</td><td>6.975e13</td><td>13.8435</td><td>1.0881e13</td></tr><tr><th>8</th><td>1621113337</td><td>-1</td><td>39.2183</td><td>196.085</td><td>87.0058</td><td>-92.91</td><td>99.81</td><td>237.01</td><td>560.58</td><td>643.33</td><td>5.08e13</td><td>5.55e13</td><td>5.615e13</td><td>6.024e13</td><td>3.472e13</td><td>1.32e13</td><td>0.503591</td><td>0.516679</td><td>4.35401</td><td>0.08217</td><td>1621113337</td><td>0.914195</td><td>13.7059</td><td>6.024e13</td><td>13.7799</td><td>9.39744e12</td></tr><tr><th>9</th><td>1620494893</td><td>-1</td><td>38.9772</td><td>181.184</td><td>67.201</td><td>-119.43</td><td>12.79</td><td>11.14</td><td>568.63</td><td>639.93</td><td>4.591e13</td><td>4.567e13</td><td>4.37e13</td><td>4.085e13</td><td>3.21e13</td><td>1.713e13</td><td>0.473207</td><td>0.475291</td><td>6.38986</td><td>0.03874</td><td>1620494893</td><td>0.883866</td><td>13.6619</td><td>4.591e13</td><td>13.6619</td><td>7.16196e12</td></tr><tr><th>10</th><td>1620494673</td><td>-1</td><td>28.9453</td><td>165.548</td><td>73.521</td><td>28.3</td><td>-4.23</td><td>-105.61</td><td>586.93</td><td>628.04</td><td>4.428e13</td><td>4.125e13</td><td>3.994e13</td><td>3.841e13</td><td>3.449e13</td><td>2.469e13</td><td>0.381623</td><td>0.381623</td><td>7.59335</td><td>0.03238</td><td>1620494673</td><td>0.87328</td><td>13.6462</td><td>4.428e13</td><td>13.6462</td><td>6.90768e12</td></tr><tr><th>11</th><td>1620495423</td><td>-1</td><td>55.9567</td><td>140.022</td><td>85.7931</td><td>-53.57</td><td>203.2</td><td>-251.18</td><td>548.57</td><td>601.01</td><td>4.186e13</td><td>3.884e13</td><td>3.44e13</td><td>1.91e13</td><td>1.451e13</td><td>1.284e13</td><td>0.639395</td><td>0.639395</td><td>4.25069</td><td>0.06123</td><td>1620495423</td><td>0.857072</td><td>13.6218</td><td>4.186e13</td><td>13.6218</td><td>6.53016e12</td></tr><tr><th>12</th><td>1620571455</td><td>-1</td><td>62.4508</td><td>162.055</td><td>107.549</td><td>75.88</td><td>-257.04</td><td>-133.03</td><td>577.16</td><td>577.16</td><td>3.99e13</td><td>3.772e13</td><td>3.011e13</td><td>2.444e13</td><td>1.727e13</td><td>1.271e13</td><td>0.350414</td><td>0.350414</td><td>7.49875</td><td>0.09474</td><td>1620571455</td><td>0.843481</td><td>13.601</td><td>3.99e13</td><td>13.601</td><td>6.2244e12</td></tr><tr><th>13</th><td>1620571508</td><td>-1</td><td>20.3627</td><td>143.978</td><td>120.505</td><td>-49.02</td><td>-128.4</td><td>220.86</td><td>589.85</td><td>641.01</td><td>3.789e13</td><td>3.73e13</td><td>3.484e13</td><td>3.615e13</td><td>2.88e13</td><td>1.799e13</td><td>0.403035</td><td>0.403035</td><td>9.89974</td><td>0.05591</td><td>1620571508</td><td>0.829072</td><td>13.5785</td><td>3.789e13</td><td>13.5785</td><td>5.91084e12</td></tr><tr><th>14</th><td>1619957636</td><td>-1</td><td>37.3153</td><td>137.642</td><td>107.545</td><td>9.56</td><td>-140.95</td><td>-46.09</td><td>531.28</td><td>587.67</td><td>3.501e13</td><td>3.431e13</td><td>3.311e13</td><td>3.286e13</td><td>3.392e13</td><td>1.692e13</td><td>0.518099</td><td>0.518099</td><td>7.57644</td><td>0.09008</td><td>1619957636</td><td>0.80751</td><td>13.5442</td><td>3.501e13</td><td>13.5442</td><td>5.46156e12</td></tr><tr><th>15</th><td>1620495924</td><td>-1</td><td>26.0792</td><td>172.144</td><td>74.7623</td><td>38.69</td><td>91.99</td><td>-203.15</td><td>535.69</td><td>566.89</td><td>3.253e13</td><td>3.187e13</td><td>3.094e13</td><td>3.007e13</td><td>3.117e13</td><td>2.367e13</td><td>0.374954</td><td>0.374954</td><td>8.63966</td><td>0.03382</td><td>1620495924</td><td>0.787974</td><td>13.5123</td><td>3.253e13</td><td>13.5123</td><td>5.07468e12</td></tr><tr><th>16</th><td>1620489732</td><td>-1</td><td>53.3853</td><td>146.74</td><td>86.3786</td><td>194.38</td><td>-339.43</td><td>-376.37</td><td>503.07</td><td>542.47</td><td>3.21e13</td><td>3.024e13</td><td>3.147e13</td><td>3.125e13</td><td>2.435e13</td><td>1.492e13</td><td>0.486428</td><td>0.486428</td><td>5.65971</td><td>0.04569</td><td>1620489732</td><td>0.784487</td><td>13.5065</td><td>3.21e13</td><td>13.5065</td><td>5.0076e12</td></tr><tr><th>17</th><td>1620496207</td><td>-1</td><td>43.6875</td><td>141.655</td><td>78.1479</td><td>211.4</td><td>-185.72</td><td>116.92</td><td>536.5</td><td>601.26</td><td>3.196e13</td><td>3.208e13</td><td>3.175e13</td><td>2.95e13</td><td>2.067e13</td><td>1.806e13</td><td>0.344459</td><td>0.347108</td><td>8.508</td><td>0.05286</td><td>1620496207</td><td>0.783345</td><td>13.5046</td><td>3.208e13</td><td>13.5062</td><td>5.00448e12</td></tr><tr><th>18</th><td>1620571906</td><td>-1</td><td>2.99747</td><td>144.217</td><td>113.112</td><td>436.22</td><td>-129.99</td><td>206.12</td><td>506.5</td><td>546.21</td><td>3.147e13</td><td>3.064e13</td><td>2.976e13</td><td>3.059e13</td><td>2.605e13</td><td>1.292e13</td><td>0.540679</td><td>0.540679</td><td>5.64747</td><td>0.10943</td><td>1620571906</td><td>0.779321</td><td>13.4979</td><td>3.147e13</td><td>13.4979</td><td>4.90932e12</td></tr><tr><th>19</th><td>1620497139</td><td>-1</td><td>20.8623</td><td>163.036</td><td>85.8114</td><td>252.76</td><td>-342.19</td><td>-95.04</td><td>491.69</td><td>491.69</td><td>2.833e13</td><td>2.128e13</td><td>1.306e13</td><td>1.173e13</td><td>9.87e12</td><td>9.908e12</td><td>0.649251</td><td>0.649251</td><td>5.81987</td><td>0.12205</td><td>1620497139</td><td>0.752488</td><td>13.4522</td><td>2.833e13</td><td>13.4522</td><td>4.41948e12</td></tr><tr><th>20</th><td>1620496909</td><td>-1</td><td>20.5867</td><td>149.218</td><td>90.6307</td><td>197.43</td><td>-223.49</td><td>-135.25</td><td>482.8</td><td>555.35</td><td>2.817e13</td><td>2.764e13</td><td>2.605e13</td><td>2.125e13</td><td>1.851e13</td><td>1.8e13</td><td>0.471347</td><td>0.471347</td><td>6.05828</td><td>0.02903</td><td>1620496909</td><td>0.751069</td><td>13.4498</td><td>2.817e13</td><td>13.4498</td><td>4.39452e12</td></tr><tr><th>21</th><td>1620572797</td><td>-1</td><td>16.4112</td><td>162.461</td><td>128.345</td><td>457.91</td><td>162.47</td><td>508.47</td><td>507.5</td><td>507.5</td><td>2.705e13</td><td>2.355e13</td><td>1.805e13</td><td>1.647e13</td><td>1.355e13</td><td>1.161e13</td><td>0.356297</td><td>0.356297</td><td>8.55006</td><td>0.05866</td><td>1620572797</td><td>0.74098</td><td>13.4322</td><td>2.705e13</td><td>13.4322</td><td>4.2198e12</td></tr><tr><th>22</th><td>1620493949</td><td>-1</td><td>46.5877</td><td>166.859</td><td>85.8162</td><td>133.54</td><td>-451.06</td><td>-131.43</td><td>497.3</td><td>559.49</td><td>2.673e13</td><td>2.495e13</td><td>2.559e13</td><td>2.515e13</td><td>1.541e13</td><td>1.241e13</td><td>0.397082</td><td>0.397082</td><td>8.03553</td><td>0.06762</td><td>1620493949</td><td>0.738047</td><td>13.427</td><td>2.673e13</td><td>13.427</td><td>4.16988e12</td></tr><tr><th>23</th><td>1620496673</td><td>-1</td><td>20.073</td><td>149.195</td><td>74.149</td><td>135.99</td><td>78.03</td><td>-231.47</td><td>456.82</td><td>534.37</td><td>2.479e13</td><td>1.943e13</td><td>1.84e13</td><td>1.737e13</td><td>1.69e13</td><td>1.742e13</td><td>0.675034</td><td>0.675034</td><td>6.05562</td><td>0.07838</td><td>1620496673</td><td>0.719741</td><td>13.3943</td><td>2.479e13</td><td>13.3943</td><td>3.86724e12</td></tr><tr><th>24</th><td>1620496022</td><td>-1</td><td>25.8315</td><td>154.715</td><td>82.5306</td><td>43.87</td><td>-81.37</td><td>-206.12</td><td>491.29</td><td>506.52</td><td>2.453e13</td><td>2.107e13</td><td>1.845e13</td><td>1.728e13</td><td>1.542e13</td><td>1.349e13</td><td>0.502886</td><td>0.502886</td><td>8.54504</td><td>0.03665</td><td>1620496022</td><td>0.717216</td><td>13.3897</td><td>2.453e13</td><td>13.3897</td><td>3.82668e12</td></tr><tr><th>25</th><td>1620497505</td><td>-1</td><td>24.6635</td><td>174.31</td><td>78.492</td><td>152.28</td><td>-6.83</td><td>-312.9</td><td>480.61</td><td>537.7</td><td>2.425e13</td><td>2.279e13</td><td>2.017e13</td><td>1.38e13</td><td>1.158e13</td><td>1.454e13</td><td>0.499931</td><td>0.499931</td><td>8.29615</td><td>0.14663</td><td>1620497505</td><td>0.714477</td><td>13.3847</td><td>2.425e13</td><td>13.3847</td><td>3.783e12</td></tr><tr><th>26</th><td>1620494569</td><td>-1</td><td>19.5741</td><td>144.602</td><td>89.2613</td><td>158.68</td><td>-261.53</td><td>-112.18</td><td>416.01</td><td>435.68</td><td>2.352e13</td><td>2.226e13</td><td>2.247e13</td><td>2.143e13</td><td>1.256e13</td><td>9.183e12</td><td>0.54343</td><td>0.54343</td><td>3.1241</td><td>0.10139</td><td>1620494569</td><td>0.707234</td><td>13.3714</td><td>2.352e13</td><td>13.3714</td><td>3.66912e12</td></tr><tr><th>27</th><td>1620572659</td><td>-1</td><td>27.4813</td><td>168.751</td><td>130.414</td><td>-27.62</td><td>-206.27</td><td>462.08</td><td>467.6</td><td>473.52</td><td>2.267e13</td><td>2.138e13</td><td>1.904e13</td><td>1.772e13</td><td>1.576e13</td><td>1.441e13</td><td>0.425379</td><td>0.425379</td><td>7.79343</td><td>0.08554</td><td>1620572659</td><td>0.69861</td><td>13.3555</td><td>2.267e13</td><td>13.3555</td><td>3.53652e12</td></tr><tr><th>28</th><td>1620497954</td><td>-1</td><td>30.0228</td><td>177.056</td><td>67.7144</td><td>-278.29</td><td>135.28</td><td>51.87</td><td>452.27</td><td>457.7</td><td>2.154e13</td><td>2.01e13</td><td>1.882e13</td><td>1.786e13</td><td>1.652e13</td><td>1.251e13</td><td>0.41618</td><td>0.41618</td><td>6.05873</td><td>0.06119</td><td>1620497954</td><td>0.686804</td><td>13.3332</td><td>2.154e13</td><td>13.3332</td><td>3.36024e12</td></tr><tr><th>29</th><td>1620572457</td><td>-1</td><td>8.66253</td><td>166.552</td><td>128.337</td><td>434.47</td><td>-137.77</td><td>378.62</td><td>458.81</td><td>458.81</td><td>2.117e13</td><td>1.887e13</td><td>1.663e13</td><td>1.486e13</td><td>1.277e13</td><td>1.058e13</td><td>0.450248</td><td>0.450248</td><td>7.53279</td><td>0.02485</td><td>1620572457</td><td>0.682849</td><td>13.3257</td><td>2.117e13</td><td>13.3257</td><td>3.30252e12</td></tr><tr><th>30</th><td>1620497593</td><td>-1</td><td>25.3244</td><td>183.239</td><td>70.4728</td><td>168.41</td><td>-106.92</td><td>-64.94</td><td>454.03</td><td>469.82</td><td>2.097e13</td><td>2.084e13</td><td>2.04e13</td><td>1.913e13</td><td>1.639e13</td><td>1.259e13</td><td>0.5245</td><td>0.5245</td><td>7.58346</td><td>0.04795</td><td>1620497593</td><td>0.680691</td><td>13.3216</td><td>2.097e13</td><td>13.3216</td><td>3.27132e12</td></tr><tr><th>&vellip;</th><td>&vellip;</td><td>&vellip;</td><td>&vellip;</td><td>&vellip;</td><td>&vellip;</td><td>&vellip;</td><td>&vellip;</td><td>&vellip;</td><td>&vellip;</td><td>&vellip;</td><td>&vellip;</td><td>&vellip;</td><td>&vellip;</td><td>&vellip;</td><td>&vellip;</td><td>&vellip;</td><td>&vellip;</td><td>&vellip;</td><td>&vellip;</td><td>&vellip;</td><td>&vellip;</td><td>&vellip;</td><td>&vellip;</td><td>&vellip;</td><td>&vellip;</td><td>&vellip;</td></tr></tbody></table>"
      ],
      "text/plain": [
       "1875265×26 DataFrames.DataFrame. Omitted printing of 20 columns\n",
       "│ Row     │ halo_id    │ halo_upid │ x       │ y       │ z       │ vx      │\n",
       "├─────────┼────────────┼───────────┼─────────┼─────────┼─────────┼─────────┤\n",
       "│ 1       │ 1620490488 │ -1        │ 23.8908 │ 178.352 │ 71.8972 │ 254.19  │\n",
       "│ 2       │ 1620489517 │ -1        │ 54.2385 │ 147.212 │ 83.8446 │ 132.18  │\n",
       "│ 3       │ 1620568787 │ -1        │ 17.5035 │ 142.147 │ 121.233 │ 206.25  │\n",
       "│ 4       │ 1620569234 │ -1        │ 30.9299 │ 185.085 │ 116.149 │ 100.4   │\n",
       "│ 5       │ 1620569405 │ -1        │ 3.68962 │ 147.032 │ 119.642 │ 318.78  │\n",
       "│ 6       │ 1619882298 │ -1        │ 46.9333 │ 134.869 │ 85.2907 │ -32.87  │\n",
       "│ 7       │ 1620570495 │ -1        │ 10.0025 │ 186.166 │ 125.959 │ 173.74  │\n",
       "│ 8       │ 1621113337 │ -1        │ 39.2183 │ 196.085 │ 87.0058 │ -92.91  │\n",
       "│ 9       │ 1620494893 │ -1        │ 38.9772 │ 181.184 │ 67.201  │ -119.43 │\n",
       "│ 10      │ 1620494673 │ -1        │ 28.9453 │ 165.548 │ 73.521  │ 28.3    │\n",
       "│ 11      │ 1620495423 │ -1        │ 55.9567 │ 140.022 │ 85.7931 │ -53.57  │\n",
       "⋮\n",
       "│ 1875254 │ 1633037941 │ -1        │ 247.842 │ 363.894 │ 258.432 │ 584.4   │\n",
       "│ 1875255 │ 1633039302 │ -1        │ 259.414 │ 399.276 │ 260.807 │ -651.61 │\n",
       "│ 1875256 │ 1633049894 │ -1        │ 222.806 │ 375.506 │ 256.465 │ -704.42 │\n",
       "│ 1875257 │ 1633052058 │ -1        │ 229.784 │ 381.151 │ 265.435 │ -186.15 │\n",
       "│ 1875258 │ 1633059693 │ -1        │ 208.309 │ 358.898 │ 261.616 │ 269.29  │\n",
       "│ 1875259 │ 1633065798 │ -1        │ 258.554 │ 356.669 │ 259.318 │ -527.16 │\n",
       "│ 1875260 │ 1633066256 │ -1        │ 265.983 │ 361.787 │ 256.26  │ -461.04 │\n",
       "│ 1875261 │ 1633067144 │ -1        │ 209.721 │ 392.869 │ 265.84  │ -306.17 │\n",
       "│ 1875262 │ 1633067372 │ -1        │ 211.413 │ 385.231 │ 265.947 │ 28.06   │\n",
       "│ 1875263 │ 1633067388 │ -1        │ 240.285 │ 395.969 │ 255.802 │ -90.78  │\n",
       "│ 1875264 │ 1633067471 │ -1        │ 214.532 │ 359.643 │ 258.233 │ 185.14  │\n",
       "│ 1875265 │ 1633067812 │ -1        │ 207.811 │ 370.363 │ 255.956 │ 414.53  │"
      ]
     },
     "execution_count": 2,
     "metadata": {},
     "output_type": "execute_result"
    }
   ],
   "source": [
    "# load halos\n",
    "halodf = load_halodat()"
   ]
  },
  {
   "cell_type": "code",
   "execution_count": 3,
   "metadata": {},
   "outputs": [
    {
     "data": {
      "text/plain": [
       "3"
      ]
     },
     "execution_count": 3,
     "metadata": {},
     "output_type": "execute_result"
    }
   ],
   "source": [
    "# set the data sample for which to optimise the mass parameters\n",
    "sample_num = 3"
   ]
  },
  {
   "cell_type": "code",
   "execution_count": 4,
   "metadata": {},
   "outputs": [
    {
     "data": {
      "text/plain": [
       "1-element Array{Array{Float64,1},1}:\n",
       " [10.3, 10.4, 10.5, 10.6, 10.7, 10.8, 10.9, 11.0]"
      ]
     },
     "execution_count": 4,
     "metadata": {},
     "output_type": "execute_result"
    }
   ],
   "source": [
    "# set the range of galaxy stellar masses for the model, based on the sample being compared with\n",
    "min_masses = [9.4, 9.8, 10.3]\n",
    "const mockmassbins = [Array(min_masses[sample_num]:0.1:11.0)]"
   ]
  },
  {
   "cell_type": "code",
   "execution_count": 5,
   "metadata": {},
   "outputs": [
    {
     "data": {
      "text/plain": [
       "1-element Array{Array{Float64,1},1}:\n",
       " [2.03268e13, 1.60836e13, 1.59588e13, 1.3625e13, 1.3104e13, 1.12928e13, 1.0881e13, 9.39744e12, 7.16196e12, 6.90768e12  …  1.77996e10, 1.63332e10, 1.57716e10, 1.58652e10, 1.62396e10, 1.89072e10, 1.65204e10, 1.5678e10, 1.57716e10, 1.5678e10]"
      ]
     },
     "execution_count": 5,
     "metadata": {},
     "output_type": "execute_result"
    }
   ],
   "source": [
    "# define arrays of the peak halo mass and baryonic mass that can be passed to model functions\n",
    "const mockmpeaks = [Array(halodf[:Mpeak])]\n",
    "const mockmbars = [Array(halodf[:Mbar])]"
   ]
  },
  {
   "cell_type": "code",
   "execution_count": 6,
   "metadata": {},
   "outputs": [
    {
     "data": {
      "text/plain": [
       "massbincounts (generic function with 2 methods)"
      ]
     },
     "execution_count": 6,
     "metadata": {},
     "output_type": "execute_result"
    }
   ],
   "source": [
    "# define new method of massbincounts function for MCMC sampling using the above defined arrays\n",
    "massbincounts(params) = massbincounts(mockmpeaks, mockmbars,\n",
    "                                      mockmassbins,\n",
    "                                      params, fix_sig = false)"
   ]
  },
  {
   "cell_type": "code",
   "execution_count": 7,
   "metadata": {},
   "outputs": [
    {
     "data": {
      "text/plain": [
       "(47784×46 DataFrames.DataFrame. Omitted printing of 39 columns\n",
       "│ Row   │ foo    │ galid  │ groupid │ cenid  │ rband    │ Psat │ Mh         │\n",
       "├───────┼────────┼────────┼─────────┼────────┼──────────┼──────┼────────────┤\n",
       "│ 1     │ PROB10 │ 3      │ 26747   │ 3      │ -20.9869 │ 0.0  │ 3.03811e12 │\n",
       "│ 2     │ PROB10 │ 17     │ 46451   │ 17     │ -20.4593 │ 0.0  │ 1.67686e12 │\n",
       "│ 3     │ PROB10 │ 21     │ 29108   │ 21     │ -21.3315 │ 0.0  │ 2.77697e12 │\n",
       "│ 4     │ PROB10 │ 53     │ 15187   │ 53     │ -21.1077 │ 0.0  │ 5.48889e12 │\n",
       "│ 5     │ PROB10 │ 81     │ 36849   │ 81     │ -20.5768 │ 0.0  │ 2.15532e12 │\n",
       "│ 6     │ PROB10 │ 83     │ 24536   │ 83     │ -20.8211 │ 0.0  │ 3.32973e12 │\n",
       "│ 7     │ PROB10 │ 85     │ 52256   │ 85     │ -20.6159 │ 0.0  │ 1.47419e12 │\n",
       "│ 8     │ PROB10 │ 90     │ 25369   │ 90     │ -20.8662 │ 0.0  │ 3.21402e12 │\n",
       "│ 9     │ PROB10 │ 93     │ 10451   │ 93     │ -21.3781 │ 0.0  │ 7.98381e12 │\n",
       "│ 10    │ PROB10 │ 112    │ 1095    │ 112    │ -21.8533 │ 0.0  │ 4.79077e13 │\n",
       "│ 11    │ PROB10 │ 148    │ 33928   │ 148    │ -20.8174 │ 0.0  │ 2.35621e12 │\n",
       "⋮\n",
       "│ 47773 │ PROB10 │ 558933 │ 29489   │ 558933 │ -20.7718 │ 0.0  │ 2.73853e12 │\n",
       "│ 47774 │ PROB10 │ 558934 │ 55804   │ 558934 │ -20.3751 │ 0.0  │ 1.37168e12 │\n",
       "│ 47775 │ PROB10 │ 558942 │ 36316   │ 558942 │ -20.4865 │ 0.0  │ 2.18968e12 │\n",
       "│ 47776 │ PROB10 │ 558953 │ 50049   │ 558953 │ -20.4489 │ 0.0  │ 1.54558e12 │\n",
       "│ 47777 │ PROB10 │ 558957 │ 42020   │ 558957 │ -20.4118 │ 0.0  │ 1.86992e12 │\n",
       "│ 47778 │ PROB10 │ 558968 │ 24316   │ 558968 │ -20.7879 │ 0.0  │ 3.36167e12 │\n",
       "│ 47779 │ PROB10 │ 558972 │ 36434   │ 558972 │ -20.5877 │ 0.0  │ 2.18195e12 │\n",
       "│ 47780 │ PROB10 │ 558974 │ 51357   │ 558974 │ -21.291  │ 0.0  │ 1.50256e12 │\n",
       "│ 47781 │ PROB10 │ 558994 │ 5549    │ 558994 │ -21.683  │ 0.0  │ 1.42019e13 │\n",
       "│ 47782 │ PROB10 │ 558998 │ 7936    │ 558998 │ -21.4794 │ 0.0  │ 1.03407e13 │\n",
       "│ 47783 │ PROB10 │ 559009 │ 20070   │ 559009 │ -21.1309 │ 0.0  │ 4.11373e12 │\n",
       "│ 47784 │ PROB10 │ 559026 │ 43108   │ 559026 │ -20.5571 │ 0.0  │ 1.81875e12 │, [0.0, 0.0, 2.20773e7])"
      ]
     },
     "execution_count": 7,
     "metadata": {},
     "output_type": "execute_result"
    }
   ],
   "source": [
    "# take the data sample to compare with\n",
    "datdf, samplevols = load_groupdat(sample_num, quenform = \"both\")  # here integer 2 means to load only the second sample\n",
    "                                                                  # (magnitude threshold -19) and \"both\" means to load\n",
    "                                                                  # all galaxies, both quenched and starforming"
   ]
  },
  {
   "cell_type": "code",
   "execution_count": 8,
   "metadata": {},
   "outputs": [
    {
     "data": {
      "text/plain": [
       "(47784, 433184.7166672442)"
      ]
     },
     "execution_count": 8,
     "metadata": {},
     "output_type": "execute_result"
    }
   ],
   "source": [
    "# compute the counts of galaxies within each massbin and the volume factor of that sample's volume to the simulation's\n",
    "const obsdat = histbincounts(datdf[:log10M], mockmassbins[1])\n",
    "const volfac = samplevols[sample_num] / 400^3\n",
    "\n",
    "# compute variables for the cstat function, first a mask of nonzero elements (redundant in this case)\n",
    "const nonzmask = find(obsdat .> 0)\n",
    "\n",
    "# and a tuple of the sums of the data and the log of the data\n",
    "const obsums = (sum(obsdat), sum(obsdat[nonzmask] .* (log.(obsdat[nonzmask]))))"
   ]
  },
  {
   "cell_type": "code",
   "execution_count": 9,
   "metadata": {},
   "outputs": [
    {
     "data": {
      "text/plain": [
       "like (generic function with 1 method)"
      ]
     },
     "execution_count": 9,
     "metadata": {},
     "output_type": "execute_result"
    }
   ],
   "source": [
    "# define a likelihood function for the stellar mass model\n",
    "function like(params::Array{Float64, 1})\n",
    "    \n",
    "    gendat = massbincounts(params)\n",
    "    if any(gendat .== 0)  # if there are bins with no galaxies, something is wrong\n",
    "        return 1e30\n",
    "    end\n",
    "\n",
    "    gendat = volfac .* gendat  # convert galaxy counts to expected rates in sample volume\n",
    "\n",
    "    score = cstat(gendat, obsdat, obsums, nonzmask)  # compute cstat of model and data\n",
    "    score\n",
    "end"
   ]
  },
  {
   "cell_type": "code",
   "execution_count": 35,
   "metadata": {},
   "outputs": [
    {
     "data": {
      "text/plain": [
       "7-element Array{Float64,1}:\n",
       " 11.8 \n",
       "  0.14\n",
       "  1.75\n",
       "  0.57\n",
       " 10.8 \n",
       "  0.16\n",
       "  1.0 "
      ]
     },
     "execution_count": 35,
     "metadata": {},
     "output_type": "execute_result"
    }
   ],
   "source": [
    "# take the best fit parameters of the Moster et al. paper to initialise the optimiser with\n",
    "initmeans = [11.8, 0.14, 1.75, 0.57, 10.8, 0.16, 1.0]"
   ]
  },
  {
   "cell_type": "code",
   "execution_count": 86,
   "metadata": {},
   "outputs": [
    {
     "data": {
      "text/plain": [
       "BlackBoxOptim.OptController{BlackBoxOptim.DiffEvoOpt{BlackBoxOptim.FitPopulation{Float64},BlackBoxOptim.RadiusLimitedSelector,BlackBoxOptim.AdaptiveDiffEvoRandBin{3},BlackBoxOptim.RandomBound{BlackBoxOptim.RangePerDimSearchSpace}},BlackBoxOptim.FunctionBasedProblem{BlackBoxOptim.ScalarFitnessScheme{true},BlackBoxOptim.RangePerDimSearchSpace,Void}}(BlackBoxOptim.DiffEvoOpt{BlackBoxOptim.FitPopulation{Float64},BlackBoxOptim.RadiusLimitedSelector,BlackBoxOptim.AdaptiveDiffEvoRandBin{3},BlackBoxOptim.RandomBound{BlackBoxOptim.RangePerDimSearchSpace}}(\"AdaptiveDE/rand/1/bin/radiuslimited\", BlackBoxOptim.FitPopulation{Float64}([12.0591 12.0523 … 12.0227 12.0256; 0.210229 0.166607 … 0.187556 0.186441; … ; 0.321611 0.328277 … 0.307352 0.306816; 1.62274 1.6502 … 1.61333 1.6228], NaN, [NaN, NaN, NaN, NaN, NaN, NaN, NaN, NaN, NaN, NaN  …  NaN, NaN, NaN, NaN, NaN, NaN, NaN, NaN, NaN, NaN], 0, BlackBoxOptim.Candidate{Float64}[]), BlackBoxOptim.RadiusLimitedSelector(8), BlackBoxOptim.AdaptiveDiffEvoRandBin{3}(BlackBoxOptim.AdaptiveDiffEvoParameters(BlackBoxOptim.BimodalCauchy(Distributions.Cauchy{Float64}(μ=0.65, σ=0.1), Distributions.Cauchy{Float64}(μ=1.0, σ=0.1), 0.5, false, true), BlackBoxOptim.BimodalCauchy(Distributions.Cauchy{Float64}(μ=0.1, σ=0.1), Distributions.Cauchy{Float64}(μ=0.95, σ=0.1), 0.5, false, true), Float64[], Float64[])), BlackBoxOptim.RandomBound{BlackBoxOptim.RangePerDimSearchSpace}(BlackBoxOptim.RangePerDimSearchSpace([1.0e-5, 1.0e-5, 1.0e-5, 1.0e-5, 1.0e-5, 1.0e-5, 1.0e-5], [20.0, 2.0, 5.0, 3.0, 20.0, 2.0, 3.0], [20.0, 1.99999, 4.99999, 2.99999, 20.0, 1.99999, 2.99999]))), BlackBoxOptim.FunctionBasedProblem{BlackBoxOptim.ScalarFitnessScheme{true},BlackBoxOptim.RangePerDimSearchSpace,Void}(like, \"<unknown>\", BlackBoxOptim.ScalarFitnessScheme{true}(), BlackBoxOptim.RangePerDimSearchSpace([1.0e-5, 1.0e-5, 1.0e-5, 1.0e-5, 1.0e-5, 1.0e-5, 1.0e-5], [20.0, 2.0, 5.0, 3.0, 20.0, 2.0, 3.0], [20.0, 1.99999, 4.99999, 2.99999, 20.0, 1.99999, 2.99999]), nothing), BlackBoxOptim.DictChain{Symbol,Any}[BlackBoxOptim.DictChain{Symbol,Any}[Dict{Symbol,Any}(Pair{Symbol,Any}(:SearchRange, Tuple{Float64,Float64}[(1.0e-5, 20.0), (1.0e-5, 2.0), (1.0e-5, 5.0), (1.0e-5, 3.0), (1.0e-5, 20.0), (1.0e-5, 2.0), (1.0e-5, 3.0)]),Pair{Symbol,Any}(:Population, [12.0591 12.0523 … 12.0227 12.0256; 0.210229 0.166607 … 0.187556 0.186441; … ; 0.321611 0.328277 … 0.307352 0.306816; 1.62274 1.6502 … 1.61333 1.6228]),Pair{Symbol,Any}(:MaxSteps, 10000),Pair{Symbol,Any}(:PopulationSize, 100)),Dict{Symbol,Any}()],Dict{Symbol,Any}(Pair{Symbol,Any}(:FitnessScheme, BlackBoxOptim.ScalarFitnessScheme{true}()),Pair{Symbol,Any}(:NumDimensions, :NotSpecified),Pair{Symbol,Any}(:PopulationSize, 50),Pair{Symbol,Any}(:MaxTime, 0.0),Pair{Symbol,Any}(:SearchRange, (-1.0, 1.0)),Pair{Symbol,Any}(:Method, :adaptive_de_rand_1_bin_radiuslimited),Pair{Symbol,Any}(:MaxNumStepsWithoutFuncEvals, 100),Pair{Symbol,Any}(:RngSeed, 1234),Pair{Symbol,Any}(:MaxFuncEvals, 0),Pair{Symbol,Any}(:SaveTrace, false)…)], BlackBoxOptim.OptRunController{BlackBoxOptim.DiffEvoOpt{BlackBoxOptim.FitPopulation{Float64},BlackBoxOptim.RadiusLimitedSelector,BlackBoxOptim.AdaptiveDiffEvoRandBin{3},BlackBoxOptim.RandomBound{BlackBoxOptim.RangePerDimSearchSpace}},E} where E<:BlackBoxOptim.Evaluator[])"
      ]
     },
     "execution_count": 86,
     "metadata": {},
     "output_type": "execute_result"
    }
   ],
   "source": [
    "# set up the optimiser\n",
    "ndims = 7\n",
    "npop = 100\n",
    "\n",
    "x0 = randn(ndims, npop)\n",
    "x0[1, :] = 0.01351 * x0[1, :] + initmeans[1]  # M₁\n",
    "x0[2, :] = 0.01351 * x0[2, :] + initmeans[2]  # ϵ\n",
    "x0[3, :] = 0.01351 * x0[3, :] + initmeans[3]  # β\n",
    "x0[4, :] = 0.01351 * x0[4, :] + initmeans[4]  # γ\n",
    "x0[5, :] = 0.01351 * x0[5, :] + initmeans[5]  # Mσ\n",
    "x0[6, :] = 0.01351 * x0[6, :] + initmeans[6]  # σ₀\n",
    "x0[7, :] = 0.01351 * x0[7, :] + initmeans[7]  # α\n",
    "x0[x0 .<= 0] = 1e-5  # lose any non-positive values\n",
    "\n",
    "# set the boundaries of the search space for optimisation\n",
    "lower = 1e-5 * ones(ndims)\n",
    "upper = 1.0 * [20, 2, 5, 3, 20, 2, 3]\n",
    "\n",
    "optctrl = BlackBoxOptim.bbsetup(like;  # Method = :dxnes,\n",
    "                                SearchRange = collect(zip(lower, upper)),\n",
    "                                PopulationSize = npop, Population = x0)"
   ]
  },
  {
   "cell_type": "code",
   "execution_count": 87,
   "metadata": {},
   "outputs": [
    {
     "name": "stdout",
     "output_type": "stream",
     "text": [
      "Starting optimization with optimizer BlackBoxOptim.DiffEvoOpt{BlackBoxOptim.FitPopulation{Float64},BlackBoxOptim.RadiusLimitedSelector,BlackBoxOptim.AdaptiveDiffEvoRandBin{3},BlackBoxOptim.RandomBound{BlackBoxOptim.RangePerDimSearchSpace}}\n",
      "0.00 secs, 0 evals, 0 steps\n",
      "28.71 secs, 2 evals, 1 steps, improv/step: 1.000 (last = 1.0000), fitness=107.307651165\n",
      "46.32 secs, 4 evals, 2 steps, improv/step: 0.500 (last = 0.0000), fitness=107.307651165\n",
      "52.22 secs, 6 evals, 3 steps, improv/step: 0.333 (last = 0.0000), fitness=107.307651165\n",
      "58.14 secs, 8 evals, 4 steps, improv/step: 0.250 (last = 0.0000), fitness=107.307651165\n",
      "64.15 secs, 10 evals, 5 steps, improv/step: 0.200 (last = 0.0000), fitness=82.205051503\n",
      "70.04 secs, 12 evals, 6 steps, improv/step: 0.167 (last = 0.0000), fitness=82.205051503\n",
      "75.93 secs, 14 evals, 7 steps, improv/step: 0.286 (last = 1.0000), fitness=74.805516520\n",
      "82.07 secs, 16 evals, 8 steps, improv/step: 0.250 (last = 0.0000), fitness=44.559335705\n",
      "88.05 secs, 18 evals, 9 steps, improv/step: 0.222 (last = 0.0000), fitness=44.559335705\n",
      "93.92 secs, 20 evals, 10 steps, improv/step: 0.200 (last = 0.0000), fitness=44.559335705\n",
      "99.80 secs, 22 evals, 11 steps, improv/step: 0.273 (last = 1.0000), fitness=44.559335705\n",
      "105.66 secs, 24 evals, 12 steps, improv/step: 0.250 (last = 0.0000), fitness=44.559335705\n",
      "111.59 secs, 26 evals, 13 steps, improv/step: 0.308 (last = 1.0000), fitness=44.559335705\n",
      "117.46 secs, 28 evals, 14 steps, improv/step: 0.286 (last = 0.0000), fitness=44.559335705\n",
      "123.29 secs, 30 evals, 15 steps, improv/step: 0.267 (last = 0.0000), fitness=44.559335705\n",
      "129.11 secs, 32 evals, 16 steps, improv/step: 0.313 (last = 1.0000), fitness=44.559335705\n",
      "130.08 secs, 33 evals, 17 steps, improv/step: 0.294 (last = 0.0000), fitness=44.559335705\n",
      "135.95 secs, 35 evals, 18 steps, improv/step: 0.278 (last = 0.0000), fitness=44.559335705\n",
      "141.94 secs, 37 evals, 19 steps, improv/step: 0.263 (last = 0.0000), fitness=44.559335705\n",
      "147.86 secs, 39 evals, 20 steps, improv/step: 0.300 (last = 1.0000), fitness=44.559335705\n",
      "153.71 secs, 41 evals, 21 steps, improv/step: 0.286 (last = 0.0000), fitness=44.559335705\n",
      "159.51 secs, 43 evals, 22 steps, improv/step: 0.318 (last = 1.0000), fitness=44.559335705\n",
      "165.37 secs, 45 evals, 23 steps, improv/step: 0.304 (last = 0.0000), fitness=44.559335705\n",
      "171.30 secs, 47 evals, 24 steps, improv/step: 0.333 (last = 1.0000), fitness=44.559335705\n",
      "177.18 secs, 49 evals, 25 steps, improv/step: 0.320 (last = 0.0000), fitness=44.559335705\n",
      "183.00 secs, 51 evals, 26 steps, improv/step: 0.308 (last = 0.0000), fitness=44.559335705\n",
      "188.86 secs, 53 evals, 27 steps, improv/step: 0.296 (last = 0.0000), fitness=44.559335705\n",
      "193.79 secs, 54 evals, 28 steps, improv/step: 0.286 (last = 0.0000), fitness=44.559335705\n",
      "199.69 secs, 56 evals, 29 steps, improv/step: 0.310 (last = 1.0000), fitness=44.559335705\n",
      "205.59 secs, 58 evals, 30 steps, improv/step: 0.300 (last = 0.0000), fitness=44.559335705\n",
      "211.45 secs, 60 evals, 31 steps, improv/step: 0.290 (last = 0.0000), fitness=44.559335705\n",
      "217.30 secs, 62 evals, 32 steps, improv/step: 0.281 (last = 0.0000), fitness=44.559335705\n",
      "223.22 secs, 64 evals, 33 steps, improv/step: 0.273 (last = 0.0000), fitness=44.559335705\n",
      "229.26 secs, 66 evals, 34 steps, improv/step: 0.265 (last = 0.0000), fitness=44.559335705\n",
      "235.32 secs, 68 evals, 35 steps, improv/step: 0.257 (last = 0.0000), fitness=33.694105706\n",
      "241.18 secs, 70 evals, 36 steps, improv/step: 0.278 (last = 1.0000), fitness=33.694105706\n",
      "247.02 secs, 72 evals, 37 steps, improv/step: 0.270 (last = 0.0000), fitness=33.694105706\n",
      "252.89 secs, 74 evals, 38 steps, improv/step: 0.263 (last = 0.0000), fitness=33.694105706\n",
      "258.94 secs, 76 evals, 39 steps, improv/step: 0.256 (last = 0.0000), fitness=33.694105706\n",
      "265.01 secs, 78 evals, 40 steps, improv/step: 0.250 (last = 0.0000), fitness=30.013715494\n",
      "271.04 secs, 80 evals, 41 steps, improv/step: 0.244 (last = 0.0000), fitness=20.085485351\n",
      "277.04 secs, 82 evals, 42 steps, improv/step: 0.238 (last = 0.0000), fitness=20.085485351\n",
      "283.04 secs, 84 evals, 43 steps, improv/step: 0.233 (last = 0.0000), fitness=20.085485351\n",
      "284.03 secs, 85 evals, 44 steps, improv/step: 0.227 (last = 0.0000), fitness=20.085485351\n",
      "290.04 secs, 87 evals, 45 steps, improv/step: 0.222 (last = 0.0000), fitness=20.085485351\n",
      "296.06 secs, 89 evals, 46 steps, improv/step: 0.239 (last = 1.0000), fitness=20.085485351\n",
      "302.05 secs, 91 evals, 47 steps, improv/step: 0.255 (last = 1.0000), fitness=20.085485351\n",
      "308.03 secs, 93 evals, 48 steps, improv/step: 0.250 (last = 0.0000), fitness=20.085485351\n",
      "313.11 secs, 94 evals, 49 steps, improv/step: 0.265 (last = 1.0000), fitness=20.085485351\n",
      "319.27 secs, 96 evals, 50 steps, improv/step: 0.280 (last = 1.0000), fitness=20.085485351\n",
      "325.30 secs, 98 evals, 51 steps, improv/step: 0.275 (last = 0.0000), fitness=20.085485351\n",
      "331.23 secs, 100 evals, 52 steps, improv/step: 0.288 (last = 1.0000), fitness=20.085485351\n",
      "337.23 secs, 102 evals, 53 steps, improv/step: 0.283 (last = 0.0000), fitness=20.085485351\n",
      "338.20 secs, 103 evals, 54 steps, improv/step: 0.278 (last = 0.0000), fitness=20.085485351\n",
      "344.28 secs, 105 evals, 55 steps, improv/step: 0.273 (last = 0.0000), fitness=20.085485351\n",
      "350.30 secs, 107 evals, 56 steps, improv/step: 0.268 (last = 0.0000), fitness=20.085485351\n",
      "356.31 secs, 109 evals, 57 steps, improv/step: 0.263 (last = 0.0000), fitness=20.085485351\n",
      "362.29 secs, 111 evals, 58 steps, improv/step: 0.259 (last = 0.0000), fitness=20.085485351\n",
      "368.31 secs, 113 evals, 59 steps, improv/step: 0.271 (last = 1.0000), fitness=20.085485351\n",
      "374.39 secs, 115 evals, 60 steps, improv/step: 0.267 (last = 0.0000), fitness=20.085485351\n",
      "379.52 secs, 116 evals, 61 steps, improv/step: 0.262 (last = 0.0000), fitness=20.085485351\n",
      "385.50 secs, 118 evals, 62 steps, improv/step: 0.258 (last = 0.0000), fitness=20.085485351\n",
      "391.33 secs, 120 evals, 63 steps, improv/step: 0.254 (last = 0.0000), fitness=20.085485351\n",
      "392.30 secs, 121 evals, 64 steps, improv/step: 0.266 (last = 1.0000), fitness=20.085485351\n",
      "398.17 secs, 123 evals, 65 steps, improv/step: 0.277 (last = 1.0000), fitness=20.085485351\n",
      "404.05 secs, 125 evals, 66 steps, improv/step: 0.288 (last = 1.0000), fitness=20.085485351\n",
      "409.98 secs, 127 evals, 67 steps, improv/step: 0.299 (last = 1.0000), fitness=20.085485351\n",
      "415.80 secs, 129 evals, 68 steps, improv/step: 0.294 (last = 0.0000), fitness=20.085485351\n",
      "421.62 secs, 131 evals, 69 steps, improv/step: 0.304 (last = 1.0000), fitness=20.085485351\n",
      "426.56 secs, 132 evals, 70 steps, improv/step: 0.314 (last = 1.0000), fitness=20.085485351\n",
      "427.57 secs, 133 evals, 71 steps, improv/step: 0.310 (last = 0.0000), fitness=20.085485351\n",
      "433.46 secs, 135 evals, 72 steps, improv/step: 0.319 (last = 1.0000), fitness=20.085485351\n",
      "438.39 secs, 136 evals, 73 steps, improv/step: 0.315 (last = 0.0000), fitness=20.085485351\n",
      "444.23 secs, 138 evals, 74 steps, improv/step: 0.311 (last = 0.0000), fitness=20.085485351\n",
      "450.15 secs, 140 evals, 75 steps, improv/step: 0.320 (last = 1.0000), fitness=20.085485351\n",
      "451.09 secs, 141 evals, 76 steps, improv/step: 0.329 (last = 1.0000), fitness=20.085485351\n",
      "457.11 secs, 143 evals, 77 steps, improv/step: 0.338 (last = 1.0000), fitness=20.085485351\n",
      "463.13 secs, 145 evals, 78 steps, improv/step: 0.333 (last = 0.0000), fitness=20.085485351\n",
      "469.13 secs, 147 evals, 79 steps, improv/step: 0.329 (last = 0.0000), fitness=20.085485351\n",
      "475.13 secs, 149 evals, 80 steps, improv/step: 0.325 (last = 0.0000), fitness=20.085485351\n",
      "481.09 secs, 151 evals, 81 steps, improv/step: 0.321 (last = 0.0000), fitness=20.085485351\n",
      "487.10 secs, 153 evals, 82 steps, improv/step: 0.329 (last = 1.0000), fitness=20.085485351\n",
      "493.14 secs, 155 evals, 83 steps, improv/step: 0.337 (last = 1.0000), fitness=20.085485351\n",
      "499.13 secs, 157 evals, 84 steps, improv/step: 0.333 (last = 0.0000), fitness=20.085485351\n",
      "505.07 secs, 159 evals, 85 steps, improv/step: 0.329 (last = 0.0000), fitness=20.085485351\n",
      "510.92 secs, 161 evals, 86 steps, improv/step: 0.326 (last = 0.0000), fitness=20.085485351\n",
      "515.86 secs, 162 evals, 87 steps, improv/step: 0.333 (last = 1.0000), fitness=20.085485351\n",
      "521.72 secs, 164 evals, 88 steps, improv/step: 0.330 (last = 0.0000), fitness=20.085485351\n"
     ]
    },
    {
     "name": "stdout",
     "output_type": "stream",
     "text": [
      "522.67 secs, 165 evals, 89 steps, improv/step: 0.337 (last = 1.0000), fitness=20.085485351\n",
      "528.50 secs, 167 evals, 90 steps, improv/step: 0.333 (last = 0.0000), fitness=20.085485351\n",
      "534.35 secs, 169 evals, 91 steps, improv/step: 0.330 (last = 0.0000), fitness=20.085485351\n",
      "540.17 secs, 171 evals, 92 steps, improv/step: 0.326 (last = 0.0000), fitness=20.085485351\n",
      "545.16 secs, 172 evals, 93 steps, improv/step: 0.323 (last = 0.0000), fitness=20.085485351\n",
      "551.06 secs, 174 evals, 94 steps, improv/step: 0.319 (last = 0.0000), fitness=20.085485351\n",
      "556.89 secs, 176 evals, 95 steps, improv/step: 0.316 (last = 0.0000), fitness=20.085485351\n",
      "562.70 secs, 178 evals, 96 steps, improv/step: 0.313 (last = 0.0000), fitness=20.085485351\n",
      "568.51 secs, 180 evals, 97 steps, improv/step: 0.309 (last = 0.0000), fitness=20.085485351\n",
      "574.42 secs, 182 evals, 98 steps, improv/step: 0.306 (last = 0.0000), fitness=20.085485351\n",
      "580.35 secs, 184 evals, 99 steps, improv/step: 0.313 (last = 1.0000), fitness=20.085485351\n",
      "586.18 secs, 186 evals, 100 steps, improv/step: 0.320 (last = 1.0000), fitness=20.085485351\n",
      "591.99 secs, 188 evals, 101 steps, improv/step: 0.317 (last = 0.0000), fitness=20.085485351\n",
      "592.95 secs, 189 evals, 102 steps, improv/step: 0.324 (last = 1.0000), fitness=20.085485351\n",
      "598.94 secs, 191 evals, 103 steps, improv/step: 0.320 (last = 0.0000), fitness=20.085485351\n",
      "605.05 secs, 193 evals, 104 steps, improv/step: 0.317 (last = 0.0000), fitness=20.085485351\n",
      "611.07 secs, 195 evals, 105 steps, improv/step: 0.314 (last = 0.0000), fitness=20.085485351\n",
      "615.93 secs, 196 evals, 106 steps, improv/step: 0.321 (last = 1.0000), fitness=20.085485351\n",
      "621.70 secs, 198 evals, 107 steps, improv/step: 0.318 (last = 0.0000), fitness=20.085485351\n",
      "627.56 secs, 200 evals, 108 steps, improv/step: 0.315 (last = 0.0000), fitness=20.085485351\n",
      "633.42 secs, 202 evals, 109 steps, improv/step: 0.312 (last = 0.0000), fitness=20.085485351\n",
      "639.51 secs, 204 evals, 110 steps, improv/step: 0.309 (last = 0.0000), fitness=20.085485351\n",
      "645.49 secs, 206 evals, 111 steps, improv/step: 0.306 (last = 0.0000), fitness=20.085485351\n",
      "651.40 secs, 208 evals, 112 steps, improv/step: 0.304 (last = 0.0000), fitness=20.085485351\n",
      "652.33 secs, 209 evals, 113 steps, improv/step: 0.301 (last = 0.0000), fitness=20.085485351\n",
      "658.25 secs, 211 evals, 114 steps, improv/step: 0.307 (last = 1.0000), fitness=20.085485351\n",
      "663.32 secs, 212 evals, 115 steps, improv/step: 0.313 (last = 1.0000), fitness=20.085485351\n",
      "669.34 secs, 214 evals, 116 steps, improv/step: 0.310 (last = 0.0000), fitness=20.085485351\n",
      "675.30 secs, 216 evals, 117 steps, improv/step: 0.316 (last = 1.0000), fitness=20.085485351\n",
      "681.20 secs, 218 evals, 118 steps, improv/step: 0.314 (last = 0.0000), fitness=20.085485351\n",
      "682.13 secs, 219 evals, 119 steps, improv/step: 0.319 (last = 1.0000), fitness=20.085485351\n",
      "687.12 secs, 220 evals, 120 steps, improv/step: 0.325 (last = 1.0000), fitness=20.085485351\n",
      "693.05 secs, 222 evals, 121 steps, improv/step: 0.322 (last = 0.0000), fitness=20.085485351\n",
      "694.01 secs, 223 evals, 122 steps, improv/step: 0.320 (last = 0.0000), fitness=20.085485351\n",
      "700.08 secs, 225 evals, 123 steps, improv/step: 0.325 (last = 1.0000), fitness=20.085485351\n",
      "706.03 secs, 227 evals, 124 steps, improv/step: 0.323 (last = 0.0000), fitness=20.085485351\n",
      "711.03 secs, 228 evals, 125 steps, improv/step: 0.328 (last = 1.0000), fitness=20.085485351\n",
      "711.98 secs, 229 evals, 126 steps, improv/step: 0.325 (last = 0.0000), fitness=20.085485351\n",
      "717.90 secs, 231 evals, 127 steps, improv/step: 0.323 (last = 0.0000), fitness=20.085485351\n",
      "723.82 secs, 233 evals, 128 steps, improv/step: 0.328 (last = 1.0000), fitness=20.085485351\n",
      "729.97 secs, 235 evals, 129 steps, improv/step: 0.333 (last = 1.0000), fitness=20.085485351\n",
      "735.93 secs, 237 evals, 130 steps, improv/step: 0.338 (last = 1.0000), fitness=20.085485351\n",
      "740.92 secs, 238 evals, 131 steps, improv/step: 0.344 (last = 1.0000), fitness=20.085485351\n",
      "741.87 secs, 239 evals, 132 steps, improv/step: 0.341 (last = 0.0000), fitness=20.085485351\n",
      "746.88 secs, 240 evals, 133 steps, improv/step: 0.338 (last = 0.0000), fitness=20.085485351\n",
      "752.79 secs, 242 evals, 134 steps, improv/step: 0.336 (last = 0.0000), fitness=20.085485351\n",
      "753.86 secs, 243 evals, 135 steps, improv/step: 0.333 (last = 0.0000), fitness=20.085485351\n",
      "759.91 secs, 245 evals, 136 steps, improv/step: 0.331 (last = 0.0000), fitness=20.085485351\n",
      "764.81 secs, 246 evals, 137 steps, improv/step: 0.336 (last = 1.0000), fitness=20.085485351\n",
      "770.57 secs, 248 evals, 138 steps, improv/step: 0.333 (last = 0.0000), fitness=20.085485351\n",
      "776.51 secs, 250 evals, 139 steps, improv/step: 0.338 (last = 1.0000), fitness=20.085485351\n",
      "782.48 secs, 252 evals, 140 steps, improv/step: 0.336 (last = 0.0000), fitness=20.085485351\n",
      "788.49 secs, 254 evals, 141 steps, improv/step: 0.333 (last = 0.0000), fitness=20.085485351\n",
      "794.46 secs, 256 evals, 142 steps, improv/step: 0.331 (last = 0.0000), fitness=20.085485351\n",
      "800.42 secs, 258 evals, 143 steps, improv/step: 0.329 (last = 0.0000), fitness=20.085485351\n",
      "806.33 secs, 260 evals, 144 steps, improv/step: 0.333 (last = 1.0000), fitness=20.085485351\n",
      "812.31 secs, 262 evals, 145 steps, improv/step: 0.338 (last = 1.0000), fitness=20.085485351\n",
      "818.17 secs, 264 evals, 146 steps, improv/step: 0.336 (last = 0.0000), fitness=20.085485351\n",
      "823.93 secs, 266 evals, 147 steps, improv/step: 0.340 (last = 1.0000), fitness=20.085485351\n",
      "829.76 secs, 268 evals, 148 steps, improv/step: 0.338 (last = 0.0000), fitness=20.085485351\n",
      "835.53 secs, 270 evals, 149 steps, improv/step: 0.336 (last = 0.0000), fitness=20.085485351\n",
      "841.30 secs, 272 evals, 150 steps, improv/step: 0.340 (last = 1.0000), fitness=20.085485351\n",
      "847.19 secs, 274 evals, 151 steps, improv/step: 0.338 (last = 0.0000), fitness=20.085485351\n",
      "848.14 secs, 275 evals, 152 steps, improv/step: 0.336 (last = 0.0000), fitness=20.085485351\n",
      "854.03 secs, 277 evals, 153 steps, improv/step: 0.333 (last = 0.0000), fitness=20.085485351\n",
      "859.98 secs, 279 evals, 154 steps, improv/step: 0.338 (last = 1.0000), fitness=20.085485351\n",
      "865.90 secs, 281 evals, 155 steps, improv/step: 0.335 (last = 0.0000), fitness=20.085485351\n",
      "871.95 secs, 283 evals, 156 steps, improv/step: 0.340 (last = 1.0000), fitness=20.085485351\n",
      "877.91 secs, 285 evals, 157 steps, improv/step: 0.338 (last = 0.0000), fitness=20.085485351\n",
      "883.82 secs, 287 evals, 158 steps, improv/step: 0.335 (last = 0.0000), fitness=20.085485351\n",
      "889.75 secs, 289 evals, 159 steps, improv/step: 0.333 (last = 0.0000), fitness=20.085485351\n",
      "895.68 secs, 291 evals, 160 steps, improv/step: 0.331 (last = 0.0000), fitness=20.085485351\n",
      "900.76 secs, 292 evals, 161 steps, improv/step: 0.329 (last = 0.0000), fitness=20.085485351\n",
      "906.70 secs, 294 evals, 162 steps, improv/step: 0.327 (last = 0.0000), fitness=20.085485351\n",
      "907.65 secs, 295 evals, 163 steps, improv/step: 0.325 (last = 0.0000), fitness=20.085485351\n",
      "913.52 secs, 297 evals, 164 steps, improv/step: 0.329 (last = 1.0000), fitness=20.085485351\n",
      "919.40 secs, 299 evals, 165 steps, improv/step: 0.333 (last = 1.0000), fitness=20.085485351\n",
      "925.35 secs, 301 evals, 166 steps, improv/step: 0.331 (last = 0.0000), fitness=20.085485351\n",
      "931.30 secs, 303 evals, 167 steps, improv/step: 0.335 (last = 1.0000), fitness=20.085485351\n",
      "936.36 secs, 304 evals, 168 steps, improv/step: 0.339 (last = 1.0000), fitness=20.085485351\n",
      "937.30 secs, 305 evals, 169 steps, improv/step: 0.337 (last = 0.0000), fitness=20.085485351\n",
      "943.21 secs, 307 evals, 170 steps, improv/step: 0.335 (last = 0.0000), fitness=20.085485351\n",
      "949.13 secs, 309 evals, 171 steps, improv/step: 0.339 (last = 1.0000), fitness=20.085485351\n",
      "955.09 secs, 311 evals, 172 steps, improv/step: 0.337 (last = 0.0000), fitness=20.085485351\n",
      "960.20 secs, 312 evals, 173 steps, improv/step: 0.341 (last = 1.0000), fitness=20.085485351\n",
      "966.14 secs, 314 evals, 174 steps, improv/step: 0.339 (last = 0.0000), fitness=20.085485351\n",
      "967.12 secs, 315 evals, 175 steps, improv/step: 0.337 (last = 0.0000), fitness=20.085485351\n",
      "973.02 secs, 317 evals, 176 steps, improv/step: 0.335 (last = 0.0000), fitness=20.085485351\n",
      "978.92 secs, 319 evals, 177 steps, improv/step: 0.339 (last = 1.0000), fitness=20.085485351\n",
      "984.95 secs, 321 evals, 178 steps, improv/step: 0.343 (last = 1.0000), fitness=20.085485351\n",
      "990.88 secs, 323 evals, 179 steps, improv/step: 0.341 (last = 0.0000), fitness=20.085485351\n",
      "995.88 secs, 324 evals, 180 steps, improv/step: 0.344 (last = 1.0000), fitness=20.085485351\n",
      "1001.63 secs, 326 evals, 181 steps, improv/step: 0.348 (last = 1.0000), fitness=20.085485351\n",
      "1007.40 secs, 328 evals, 182 steps, improv/step: 0.352 (last = 1.0000), fitness=20.085485351\n",
      "1008.34 secs, 329 evals, 183 steps, improv/step: 0.355 (last = 1.0000), fitness=20.085485351\n",
      "1014.16 secs, 331 evals, 184 steps, improv/step: 0.353 (last = 0.0000), fitness=20.085485351\n",
      "1019.03 secs, 332 evals, 185 steps, improv/step: 0.351 (last = 0.0000), fitness=20.085485351\n",
      "1020.01 secs, 333 evals, 186 steps, improv/step: 0.355 (last = 1.0000), fitness=20.085485351\n",
      "1024.89 secs, 334 evals, 187 steps, improv/step: 0.358 (last = 1.0000), fitness=20.085485351\n",
      "1025.81 secs, 335 evals, 188 steps, improv/step: 0.362 (last = 1.0000), fitness=20.085485351\n",
      "1030.68 secs, 336 evals, 189 steps, improv/step: 0.360 (last = 0.0000), fitness=20.085485351\n",
      "1031.62 secs, 337 evals, 190 steps, improv/step: 0.358 (last = 0.0000), fitness=20.085485351\n",
      "1036.49 secs, 338 evals, 191 steps, improv/step: 0.356 (last = 0.0000), fitness=20.085485351\n",
      "1037.44 secs, 339 evals, 192 steps, improv/step: 0.354 (last = 0.0000), fitness=20.085485351\n",
      "1043.24 secs, 341 evals, 193 steps, improv/step: 0.352 (last = 0.0000), fitness=20.085485351\n",
      "1049.06 secs, 343 evals, 194 steps, improv/step: 0.356 (last = 1.0000), fitness=20.085485351\n",
      "1053.92 secs, 344 evals, 195 steps, improv/step: 0.354 (last = 0.0000), fitness=20.085485351\n",
      "1059.72 secs, 346 evals, 196 steps, improv/step: 0.357 (last = 1.0000), fitness=20.085485351\n",
      "1065.50 secs, 348 evals, 197 steps, improv/step: 0.355 (last = 0.0000), fitness=20.085485351\n",
      "1066.43 secs, 349 evals, 198 steps, improv/step: 0.354 (last = 0.0000), fitness=20.085485351\n",
      "1072.21 secs, 351 evals, 199 steps, improv/step: 0.352 (last = 0.0000), fitness=20.085485351\n",
      "1077.15 secs, 352 evals, 200 steps, improv/step: 0.350 (last = 0.0000), fitness=20.085485351\n",
      "1078.09 secs, 353 evals, 201 steps, improv/step: 0.348 (last = 0.0000), fitness=20.085485351\n",
      "1083.91 secs, 355 evals, 202 steps, improv/step: 0.347 (last = 0.0000), fitness=20.085485351\n",
      "1089.23 secs, 356 evals, 203 steps, improv/step: 0.345 (last = 0.0000), fitness=20.085485351\n",
      "1095.56 secs, 358 evals, 204 steps, improv/step: 0.343 (last = 0.0000), fitness=20.085485351\n",
      "1101.42 secs, 360 evals, 205 steps, improv/step: 0.346 (last = 1.0000), fitness=20.085485351\n",
      "1102.35 secs, 361 evals, 206 steps, improv/step: 0.345 (last = 0.0000), fitness=20.085485351\n",
      "1108.39 secs, 363 evals, 207 steps, improv/step: 0.348 (last = 1.0000), fitness=20.085485351\n",
      "1113.47 secs, 364 evals, 208 steps, improv/step: 0.346 (last = 0.0000), fitness=20.085485351\n",
      "1114.43 secs, 365 evals, 209 steps, improv/step: 0.344 (last = 0.0000), fitness=20.085485351\n",
      "1119.48 secs, 366 evals, 210 steps, improv/step: 0.343 (last = 0.0000), fitness=20.085485351\n",
      "1120.46 secs, 367 evals, 211 steps, improv/step: 0.341 (last = 0.0000), fitness=20.085485351\n",
      "1125.54 secs, 368 evals, 212 steps, improv/step: 0.344 (last = 1.0000), fitness=20.085485351\n",
      "1126.49 secs, 369 evals, 213 steps, improv/step: 0.343 (last = 0.0000), fitness=20.085485351\n",
      "1131.71 secs, 370 evals, 214 steps, improv/step: 0.346 (last = 1.0000), fitness=20.085485351\n",
      "1137.76 secs, 372 evals, 215 steps, improv/step: 0.349 (last = 1.0000), fitness=20.085485351\n",
      "1143.69 secs, 374 evals, 216 steps, improv/step: 0.347 (last = 0.0000), fitness=20.085485351\n",
      "1144.71 secs, 375 evals, 217 steps, improv/step: 0.350 (last = 1.0000), fitness=20.085485351\n",
      "1149.78 secs, 376 evals, 218 steps, improv/step: 0.349 (last = 0.0000), fitness=20.085485351\n",
      "1155.76 secs, 378 evals, 219 steps, improv/step: 0.352 (last = 1.0000), fitness=20.085485351\n",
      "1156.72 secs, 379 evals, 220 steps, improv/step: 0.350 (last = 0.0000), fitness=20.085485351\n",
      "1161.87 secs, 380 evals, 221 steps, improv/step: 0.348 (last = 0.0000), fitness=20.085485351\n",
      "1167.82 secs, 382 evals, 222 steps, improv/step: 0.351 (last = 1.0000), fitness=20.085485351\n",
      "1168.77 secs, 383 evals, 223 steps, improv/step: 0.350 (last = 0.0000), fitness=20.085485351\n",
      "1173.68 secs, 384 evals, 224 steps, improv/step: 0.348 (last = 0.0000), fitness=20.085485351\n",
      "1179.65 secs, 386 evals, 225 steps, improv/step: 0.347 (last = 0.0000), fitness=20.085485351\n",
      "1180.61 secs, 387 evals, 226 steps, improv/step: 0.345 (last = 0.0000), fitness=20.085485351\n",
      "1185.54 secs, 388 evals, 227 steps, improv/step: 0.348 (last = 1.0000), fitness=20.085485351\n",
      "1186.49 secs, 389 evals, 228 steps, improv/step: 0.351 (last = 1.0000), fitness=20.085485351\n",
      "1192.40 secs, 391 evals, 229 steps, improv/step: 0.349 (last = 0.0000), fitness=20.085485351\n",
      "1198.41 secs, 393 evals, 230 steps, improv/step: 0.348 (last = 0.0000), fitness=20.085485351\n",
      "1204.37 secs, 395 evals, 231 steps, improv/step: 0.346 (last = 0.0000), fitness=20.085485351\n",
      "1210.53 secs, 397 evals, 232 steps, improv/step: 0.345 (last = 0.0000), fitness=19.571608205\n",
      "1215.66 secs, 398 evals, 233 steps, improv/step: 0.343 (last = 0.0000), fitness=19.571608205\n",
      "1222.17 secs, 400 evals, 234 steps, improv/step: 0.346 (last = 1.0000), fitness=19.571608205\n",
      "1228.27 secs, 402 evals, 235 steps, improv/step: 0.345 (last = 0.0000), fitness=19.571608205\n",
      "1234.17 secs, 404 evals, 236 steps, improv/step: 0.343 (last = 0.0000), fitness=19.571608205\n",
      "1235.16 secs, 405 evals, 237 steps, improv/step: 0.346 (last = 1.0000), fitness=19.571608205\n",
      "1241.34 secs, 407 evals, 238 steps, improv/step: 0.349 (last = 1.0000), fitness=19.571608205\n",
      "1247.18 secs, 408 evals, 239 steps, improv/step: 0.347 (last = 0.0000), fitness=19.571608205\n",
      "1248.14 secs, 409 evals, 240 steps, improv/step: 0.346 (last = 0.0000), fitness=19.571608205\n",
      "1255.40 secs, 411 evals, 241 steps, improv/step: 0.344 (last = 0.0000), fitness=19.571608205\n",
      "1261.17 secs, 412 evals, 242 steps, improv/step: 0.347 (last = 1.0000), fitness=19.571608205\n",
      "1262.42 secs, 413 evals, 243 steps, improv/step: 0.346 (last = 0.0000), fitness=19.571608205\n",
      "1272.46 secs, 415 evals, 244 steps, improv/step: 0.348 (last = 1.0000), fitness=19.571608205\n",
      "1277.47 secs, 416 evals, 245 steps, improv/step: 0.351 (last = 1.0000), fitness=18.942189770\n",
      "1278.50 secs, 417 evals, 246 steps, improv/step: 0.350 (last = 0.0000), fitness=18.942189770\n",
      "1283.78 secs, 418 evals, 247 steps, improv/step: 0.348 (last = 0.0000), fitness=18.942189770\n",
      "1290.29 secs, 420 evals, 248 steps, improv/step: 0.351 (last = 1.0000), fitness=18.942189770\n",
      "1296.31 secs, 422 evals, 249 steps, improv/step: 0.349 (last = 0.0000), fitness=18.942189770\n",
      "1297.31 secs, 423 evals, 250 steps, improv/step: 0.348 (last = 0.0000), fitness=18.942189770\n",
      "1302.37 secs, 424 evals, 251 steps, improv/step: 0.351 (last = 1.0000), fitness=18.942189770\n",
      "1308.25 secs, 426 evals, 252 steps, improv/step: 0.349 (last = 0.0000), fitness=18.942189770\n",
      "1314.48 secs, 428 evals, 253 steps, improv/step: 0.352 (last = 1.0000), fitness=18.942189770\n",
      "1320.62 secs, 430 evals, 254 steps, improv/step: 0.350 (last = 0.0000), fitness=18.942189770\n",
      "1321.61 secs, 431 evals, 255 steps, improv/step: 0.353 (last = 1.0000), fitness=18.942189770\n",
      "1327.57 secs, 433 evals, 256 steps, improv/step: 0.352 (last = 0.0000), fitness=18.942189770\n",
      "1332.62 secs, 434 evals, 257 steps, improv/step: 0.350 (last = 0.0000), fitness=18.942189770\n",
      "1333.58 secs, 435 evals, 258 steps, improv/step: 0.353 (last = 1.0000), fitness=18.942189770\n",
      "1338.61 secs, 436 evals, 259 steps, improv/step: 0.351 (last = 0.0000), fitness=18.942189770\n",
      "1339.55 secs, 437 evals, 260 steps, improv/step: 0.350 (last = 0.0000), fitness=18.942189770\n",
      "1345.70 secs, 439 evals, 261 steps, improv/step: 0.349 (last = 0.0000), fitness=18.942189770\n",
      "1350.83 secs, 440 evals, 262 steps, improv/step: 0.347 (last = 0.0000), fitness=18.942189770\n",
      "1356.87 secs, 442 evals, 263 steps, improv/step: 0.346 (last = 0.0000), fitness=18.942189770\n",
      "1357.82 secs, 443 evals, 264 steps, improv/step: 0.348 (last = 1.0000), fitness=18.942189770\n",
      "1363.18 secs, 444 evals, 265 steps, improv/step: 0.347 (last = 0.0000), fitness=18.942189770\n",
      "1364.14 secs, 445 evals, 266 steps, improv/step: 0.350 (last = 1.0000), fitness=18.942189770\n"
     ]
    },
    {
     "name": "stdout",
     "output_type": "stream",
     "text": [
      "1369.23 secs, 446 evals, 267 steps, improv/step: 0.352 (last = 1.0000), fitness=18.942189770\n",
      "1370.25 secs, 447 evals, 268 steps, improv/step: 0.351 (last = 0.0000), fitness=18.942189770\n",
      "1376.23 secs, 449 evals, 269 steps, improv/step: 0.349 (last = 0.0000), fitness=18.942189770\n",
      "1382.20 secs, 451 evals, 270 steps, improv/step: 0.348 (last = 0.0000), fitness=18.942189770\n",
      "1387.22 secs, 452 evals, 271 steps, improv/step: 0.347 (last = 0.0000), fitness=18.942189770\n",
      "1388.16 secs, 453 evals, 272 steps, improv/step: 0.346 (last = 0.0000), fitness=18.942189770\n",
      "1394.17 secs, 455 evals, 273 steps, improv/step: 0.348 (last = 1.0000), fitness=18.942189770\n",
      "1400.40 secs, 456 evals, 274 steps, improv/step: 0.347 (last = 0.0000), fitness=18.942189770\n",
      "1401.43 secs, 457 evals, 275 steps, improv/step: 0.345 (last = 0.0000), fitness=18.942189770\n",
      "1406.89 secs, 458 evals, 276 steps, improv/step: 0.344 (last = 0.0000), fitness=18.942189770\n",
      "1414.58 secs, 460 evals, 277 steps, improv/step: 0.347 (last = 1.0000), fitness=18.942189770\n",
      "1415.98 secs, 461 evals, 278 steps, improv/step: 0.349 (last = 1.0000), fitness=18.942189770\n",
      "1422.86 secs, 463 evals, 279 steps, improv/step: 0.351 (last = 1.0000), fitness=18.942189770\n",
      "1429.28 secs, 465 evals, 280 steps, improv/step: 0.350 (last = 0.0000), fitness=18.942189770\n",
      "1435.80 secs, 467 evals, 281 steps, improv/step: 0.352 (last = 1.0000), fitness=18.942189770\n",
      "1442.33 secs, 469 evals, 282 steps, improv/step: 0.355 (last = 1.0000), fitness=18.942189770\n",
      "1448.24 secs, 470 evals, 283 steps, improv/step: 0.353 (last = 0.0000), fitness=18.942189770\n",
      "1449.40 secs, 471 evals, 284 steps, improv/step: 0.352 (last = 0.0000), fitness=18.942189770\n",
      "1455.09 secs, 472 evals, 285 steps, improv/step: 0.351 (last = 0.0000), fitness=18.942189770\n",
      "1456.10 secs, 473 evals, 286 steps, improv/step: 0.350 (last = 0.0000), fitness=18.942189770\n",
      "1461.41 secs, 474 evals, 287 steps, improv/step: 0.348 (last = 0.0000), fitness=18.942189770\n",
      "1467.94 secs, 476 evals, 288 steps, improv/step: 0.347 (last = 0.0000), fitness=18.942189770\n",
      "1469.01 secs, 477 evals, 289 steps, improv/step: 0.346 (last = 0.0000), fitness=18.942189770\n",
      "1474.99 secs, 478 evals, 290 steps, improv/step: 0.345 (last = 0.0000), fitness=18.942189770\n",
      "1481.91 secs, 480 evals, 291 steps, improv/step: 0.347 (last = 1.0000), fitness=18.942189770\n",
      "1482.98 secs, 481 evals, 292 steps, improv/step: 0.346 (last = 0.0000), fitness=18.942189770\n",
      "1489.32 secs, 483 evals, 293 steps, improv/step: 0.345 (last = 0.0000), fitness=18.942189770\n",
      "1494.95 secs, 484 evals, 294 steps, improv/step: 0.347 (last = 1.0000), fitness=18.942189770\n",
      "1496.08 secs, 485 evals, 295 steps, improv/step: 0.349 (last = 1.0000), fitness=18.942189770\n",
      "1501.38 secs, 486 evals, 296 steps, improv/step: 0.351 (last = 1.0000), fitness=18.942189770\n",
      "1507.97 secs, 488 evals, 297 steps, improv/step: 0.354 (last = 1.0000), fitness=18.942189770\n",
      "1514.39 secs, 490 evals, 298 steps, improv/step: 0.356 (last = 1.0000), fitness=18.942189770\n",
      "1520.60 secs, 492 evals, 299 steps, improv/step: 0.355 (last = 0.0000), fitness=18.942189770\n",
      "1521.56 secs, 493 evals, 300 steps, improv/step: 0.353 (last = 0.0000), fitness=18.942189770\n",
      "1527.07 secs, 494 evals, 301 steps, improv/step: 0.355 (last = 1.0000), fitness=18.942189770\n",
      "1533.83 secs, 496 evals, 302 steps, improv/step: 0.358 (last = 1.0000), fitness=18.942189770\n",
      "1535.04 secs, 497 evals, 303 steps, improv/step: 0.356 (last = 0.0000), fitness=18.942189770\n",
      "1542.94 secs, 499 evals, 304 steps, improv/step: 0.355 (last = 0.0000), fitness=18.942189770\n",
      "1550.42 secs, 500 evals, 305 steps, improv/step: 0.354 (last = 0.0000), fitness=18.942189770\n",
      "1551.66 secs, 501 evals, 306 steps, improv/step: 0.353 (last = 0.0000), fitness=18.942189770\n",
      "1564.91 secs, 502 evals, 307 steps, improv/step: 0.352 (last = 0.0000), fitness=18.942189770\n",
      "1565.95 secs, 503 evals, 308 steps, improv/step: 0.351 (last = 0.0000), fitness=18.942189770\n",
      "1574.18 secs, 505 evals, 309 steps, improv/step: 0.350 (last = 0.0000), fitness=18.942189770\n",
      "1586.94 secs, 506 evals, 310 steps, improv/step: 0.348 (last = 0.0000), fitness=18.942189770\n",
      "1588.10 secs, 507 evals, 311 steps, improv/step: 0.347 (last = 0.0000), fitness=18.942189770\n",
      "1595.58 secs, 509 evals, 312 steps, improv/step: 0.346 (last = 0.0000), fitness=16.820240950\n",
      "1601.23 secs, 510 evals, 313 steps, improv/step: 0.345 (last = 0.0000), fitness=16.820240950\n",
      "1602.47 secs, 511 evals, 314 steps, improv/step: 0.344 (last = 0.0000), fitness=16.820240950\n",
      "1608.45 secs, 512 evals, 315 steps, improv/step: 0.343 (last = 0.0000), fitness=16.820240950\n",
      "1609.66 secs, 513 evals, 316 steps, improv/step: 0.342 (last = 0.0000), fitness=16.820240950\n",
      "1615.63 secs, 514 evals, 317 steps, improv/step: 0.341 (last = 0.0000), fitness=16.820240950\n",
      "1616.70 secs, 515 evals, 318 steps, improv/step: 0.343 (last = 1.0000), fitness=16.820240950\n",
      "1622.20 secs, 516 evals, 319 steps, improv/step: 0.342 (last = 0.0000), fitness=16.820240950\n",
      "1623.20 secs, 517 evals, 320 steps, improv/step: 0.344 (last = 1.0000), fitness=16.820240950\n",
      "1628.55 secs, 518 evals, 321 steps, improv/step: 0.343 (last = 0.0000), fitness=16.820240950\n",
      "1629.51 secs, 519 evals, 322 steps, improv/step: 0.342 (last = 0.0000), fitness=16.820240950\n",
      "1635.61 secs, 520 evals, 323 steps, improv/step: 0.341 (last = 0.0000), fitness=16.820240950\n",
      "1636.75 secs, 521 evals, 324 steps, improv/step: 0.340 (last = 0.0000), fitness=16.820240950\n",
      "1643.40 secs, 523 evals, 325 steps, improv/step: 0.338 (last = 0.0000), fitness=16.820240950\n",
      "1648.72 secs, 524 evals, 326 steps, improv/step: 0.337 (last = 0.0000), fitness=16.820240950\n",
      "1649.76 secs, 525 evals, 327 steps, improv/step: 0.336 (last = 0.0000), fitness=16.820240950\n",
      "1655.24 secs, 526 evals, 328 steps, improv/step: 0.338 (last = 1.0000), fitness=16.820240950\n",
      "1661.53 secs, 528 evals, 329 steps, improv/step: 0.340 (last = 1.0000), fitness=16.820240950\n",
      "1662.68 secs, 529 evals, 330 steps, improv/step: 0.339 (last = 0.0000), fitness=16.820240950\n",
      "1669.46 secs, 531 evals, 331 steps, improv/step: 0.338 (last = 0.0000), fitness=16.820240950\n",
      "1674.79 secs, 532 evals, 332 steps, improv/step: 0.337 (last = 0.0000), fitness=16.820240950\n",
      "1681.17 secs, 534 evals, 333 steps, improv/step: 0.339 (last = 1.0000), fitness=16.820240950\n",
      "1682.21 secs, 535 evals, 334 steps, improv/step: 0.338 (last = 0.0000), fitness=16.820240950\n",
      "1688.67 secs, 537 evals, 335 steps, improv/step: 0.337 (last = 0.0000), fitness=16.820240950\n",
      "1694.40 secs, 538 evals, 336 steps, improv/step: 0.336 (last = 0.0000), fitness=16.820240950\n",
      "1695.46 secs, 539 evals, 337 steps, improv/step: 0.338 (last = 1.0000), fitness=16.820240950\n",
      "1707.43 secs, 540 evals, 338 steps, improv/step: 0.340 (last = 1.0000), fitness=16.820240950\n",
      "1709.82 secs, 541 evals, 339 steps, improv/step: 0.342 (last = 1.0000), fitness=16.820240950\n",
      "1724.82 secs, 543 evals, 340 steps, improv/step: 0.341 (last = 0.0000), fitness=16.820240950\n",
      "1730.87 secs, 544 evals, 341 steps, improv/step: 0.340 (last = 0.0000), fitness=16.820240950\n",
      "1731.98 secs, 545 evals, 342 steps, improv/step: 0.339 (last = 0.0000), fitness=16.820240950\n",
      "1737.40 secs, 546 evals, 343 steps, improv/step: 0.338 (last = 0.0000), fitness=16.820240950\n",
      "1738.39 secs, 547 evals, 344 steps, improv/step: 0.337 (last = 0.0000), fitness=16.820240950\n",
      "1743.59 secs, 548 evals, 345 steps, improv/step: 0.339 (last = 1.0000), fitness=16.820240950\n",
      "1744.55 secs, 549 evals, 346 steps, improv/step: 0.341 (last = 1.0000), fitness=16.820240950\n",
      "1749.90 secs, 550 evals, 347 steps, improv/step: 0.340 (last = 0.0000), fitness=16.820240950\n",
      "1756.24 secs, 552 evals, 348 steps, improv/step: 0.339 (last = 0.0000), fitness=16.820240950\n",
      "1757.18 secs, 553 evals, 349 steps, improv/step: 0.338 (last = 0.0000), fitness=16.820240950\n",
      "1762.36 secs, 554 evals, 350 steps, improv/step: 0.337 (last = 0.0000), fitness=16.820240950\n",
      "1763.72 secs, 555 evals, 351 steps, improv/step: 0.336 (last = 0.0000), fitness=16.820240950\n",
      "1784.25 secs, 557 evals, 352 steps, improv/step: 0.335 (last = 0.0000), fitness=16.820240950\n",
      "1831.35 secs, 558 evals, 353 steps, improv/step: 0.337 (last = 1.0000), fitness=16.820240950\n",
      "1833.72 secs, 559 evals, 354 steps, improv/step: 0.336 (last = 0.0000), fitness=16.820240950\n",
      "1836.70 secs, 561 evals, 355 steps, improv/step: 0.335 (last = 0.0000), fitness=16.820240950\n"
     ]
    },
    {
     "name": "stdout",
     "output_type": "stream",
     "text": [
      "1929.42 secs, 563 evals, 356 steps, improv/step: 0.334 (last = 0.0000), fitness=16.820240950\n",
      "1953.89 secs, 565 evals, 357 steps, improv/step: 0.333 (last = 0.0000), fitness=16.820240950\n",
      "1957.06 secs, 566 evals, 358 steps, improv/step: 0.335 (last = 1.0000), fitness=16.820240950\n",
      "1961.80 secs, 567 evals, 359 steps, improv/step: 0.337 (last = 1.0000), fitness=16.820240950\n",
      "2029.28 secs, 568 evals, 360 steps, improv/step: 0.336 (last = 0.0000), fitness=16.820240950\n",
      "2037.22 secs, 570 evals, 361 steps, improv/step: 0.338 (last = 1.0000), fitness=16.820240950\n",
      "2043.74 secs, 572 evals, 362 steps, improv/step: 0.337 (last = 0.0000), fitness=16.820240950\n",
      "2049.05 secs, 573 evals, 363 steps, improv/step: 0.339 (last = 1.0000), fitness=16.820240950\n",
      "2050.09 secs, 574 evals, 364 steps, improv/step: 0.338 (last = 0.0000), fitness=16.820240950\n",
      "2055.16 secs, 575 evals, 365 steps, improv/step: 0.337 (last = 0.0000), fitness=16.820240950\n",
      "2061.29 secs, 577 evals, 366 steps, improv/step: 0.339 (last = 1.0000), fitness=16.820240950\n",
      "2062.24 secs, 578 evals, 367 steps, improv/step: 0.338 (last = 0.0000), fitness=16.820240950\n",
      "2067.51 secs, 579 evals, 368 steps, improv/step: 0.340 (last = 1.0000), fitness=16.820240950\n",
      "2068.59 secs, 580 evals, 369 steps, improv/step: 0.341 (last = 1.0000), fitness=16.820240950\n",
      "2074.17 secs, 581 evals, 370 steps, improv/step: 0.341 (last = 0.0000), fitness=16.820240950\n",
      "2075.19 secs, 582 evals, 371 steps, improv/step: 0.340 (last = 0.0000), fitness=16.820240950\n",
      "2080.70 secs, 583 evals, 372 steps, improv/step: 0.339 (last = 0.0000), fitness=16.820240950\n",
      "2086.90 secs, 585 evals, 373 steps, improv/step: 0.340 (last = 1.0000), fitness=16.820240950\n",
      "2092.88 secs, 587 evals, 374 steps, improv/step: 0.340 (last = 0.0000), fitness=16.820240950\n",
      "2093.98 secs, 588 evals, 375 steps, improv/step: 0.339 (last = 0.0000), fitness=16.820240950\n",
      "2099.28 secs, 589 evals, 376 steps, improv/step: 0.340 (last = 1.0000), fitness=16.820240950\n",
      "2100.40 secs, 590 evals, 377 steps, improv/step: 0.340 (last = 0.0000), fitness=16.820240950\n",
      "2105.55 secs, 591 evals, 378 steps, improv/step: 0.339 (last = 0.0000), fitness=16.820240950\n",
      "2111.68 secs, 593 evals, 379 steps, improv/step: 0.338 (last = 0.0000), fitness=16.820240950\n",
      "2112.65 secs, 594 evals, 380 steps, improv/step: 0.339 (last = 1.0000), fitness=16.820240950\n",
      "2118.75 secs, 596 evals, 381 steps, improv/step: 0.341 (last = 1.0000), fitness=16.820240950\n",
      "2124.94 secs, 598 evals, 382 steps, improv/step: 0.340 (last = 0.0000), fitness=16.820240950\n",
      "2130.49 secs, 599 evals, 383 steps, improv/step: 0.339 (last = 0.0000), fitness=16.820240950\n",
      "2131.69 secs, 600 evals, 384 steps, improv/step: 0.339 (last = 0.0000), fitness=16.820240950\n",
      "2137.20 secs, 601 evals, 385 steps, improv/step: 0.338 (last = 0.0000), fitness=16.820240950\n",
      "2143.56 secs, 603 evals, 386 steps, improv/step: 0.339 (last = 1.0000), fitness=16.820240950\n",
      "2144.60 secs, 604 evals, 387 steps, improv/step: 0.341 (last = 1.0000), fitness=16.820240950\n",
      "2149.87 secs, 605 evals, 388 steps, improv/step: 0.340 (last = 0.0000), fitness=16.820240950\n",
      "2156.22 secs, 607 evals, 389 steps, improv/step: 0.342 (last = 1.0000), fitness=16.820240950\n",
      "2157.26 secs, 608 evals, 390 steps, improv/step: 0.344 (last = 1.0000), fitness=16.820240950\n",
      "2162.97 secs, 609 evals, 391 steps, improv/step: 0.345 (last = 1.0000), fitness=16.820240950\n",
      "2164.00 secs, 610 evals, 392 steps, improv/step: 0.344 (last = 0.0000), fitness=16.820240950\n",
      "2169.46 secs, 611 evals, 393 steps, improv/step: 0.344 (last = 0.0000), fitness=16.820240950\n",
      "2170.49 secs, 612 evals, 394 steps, improv/step: 0.343 (last = 0.0000), fitness=16.820240950\n",
      "2175.88 secs, 613 evals, 395 steps, improv/step: 0.344 (last = 1.0000), fitness=16.820240950\n",
      "2176.86 secs, 614 evals, 396 steps, improv/step: 0.343 (last = 0.0000), fitness=16.820240950\n",
      "2182.16 secs, 615 evals, 397 steps, improv/step: 0.345 (last = 1.0000), fitness=16.820240950\n",
      "2183.17 secs, 616 evals, 398 steps, improv/step: 0.347 (last = 1.0000), fitness=16.820240950\n",
      "2189.45 secs, 618 evals, 399 steps, improv/step: 0.346 (last = 0.0000), fitness=16.820240950\n",
      "2195.13 secs, 619 evals, 400 steps, improv/step: 0.345 (last = 0.0000), fitness=16.820240950\n"
     ]
    },
    {
     "data": {
      "text/plain": [
       "BlackBoxOptim.OptimizationResults(\"adaptive_de_rand_1_bin_radiuslimited\", \"Max number of steps (400) reached\", 401, 1.533659277124342e9, 2201.1656079292297, BlackBoxOptim.DictChain{Symbol,Any}[Dict{Symbol,Any}(Pair{Symbol,Any}(:RngSeed, 770784),Pair{Symbol,Any}(:MaxSteps, 400)),BlackBoxOptim.DictChain{Symbol,Any}[BlackBoxOptim.DictChain{Symbol,Any}[Dict{Symbol,Any}(Pair{Symbol,Any}(:SearchRange, Tuple{Float64,Float64}[(1.0e-5, 20.0), (1.0e-5, 2.0), (1.0e-5, 5.0), (1.0e-5, 3.0), (1.0e-5, 20.0), (1.0e-5, 2.0), (1.0e-5, 3.0)]),Pair{Symbol,Any}(:Population, [12.0591 12.0523 … 12.0227 12.0087; 0.210229 0.180631 … 0.187556 0.183879; … ; 0.321611 0.328277 … 0.307352 0.324443; 1.62335 1.6502 … 1.61333 1.67592]),Pair{Symbol,Any}(:MaxSteps, 10000),Pair{Symbol,Any}(:PopulationSize, 100)),Dict{Symbol,Any}()],Dict{Symbol,Any}(Pair{Symbol,Any}(:FitnessScheme, BlackBoxOptim.ScalarFitnessScheme{true}()),Pair{Symbol,Any}(:NumDimensions, :NotSpecified),Pair{Symbol,Any}(:PopulationSize, 50),Pair{Symbol,Any}(:MaxTime, 0.0),Pair{Symbol,Any}(:SearchRange, (-1.0, 1.0)),Pair{Symbol,Any}(:Method, :adaptive_de_rand_1_bin_radiuslimited),Pair{Symbol,Any}(:MaxNumStepsWithoutFuncEvals, 100),Pair{Symbol,Any}(:RngSeed, 1234),Pair{Symbol,Any}(:MaxFuncEvals, 0),Pair{Symbol,Any}(:SaveTrace, false)…)]], 621, BlackBoxOptim.ScalarFitnessScheme{true}(), BlackBoxOptim.TopListArchiveOutput{Float64,Array{Float64,1}}(16.82024094951339, [12.04, 0.184506, 1.25783, 1.37414, 10.0241, 0.321572, 1.6363]), BlackBoxOptim.PopulationOptimizerOutput{BlackBoxOptim.FitPopulation{Float64}}(BlackBoxOptim.FitPopulation{Float64}([12.0591 12.0523 … 12.0227 12.0087; 0.210229 0.180631 … 0.187556 0.183879; … ; 0.321611 0.328277 … 0.307352 0.324443; 1.62335 1.6502 … 1.61333 1.67592], NaN, [1953.95, 62.3775, 44.0954, NaN, 52.5872, 50.9094, 63.8129, 113.197, 17.0527, NaN  …  134.004, 104.89, 128.003, 44.18, 25.88, NaN, 126.956, 190.498, NaN, 109.343], 0, BlackBoxOptim.Candidate{Float64}[BlackBoxOptim.Candidate{Float64}([12.04, 0.184506, 1.25783, 1.37414, 10.0241, 0.321572, 1.6363], 52, 19.0866, BlackBoxOptim.AdaptiveDiffEvoRandBin{3}(BlackBoxOptim.AdaptiveDiffEvoParameters(BlackBoxOptim.BimodalCauchy(Distributions.Cauchy{Float64}(μ=0.65, σ=0.1), Distributions.Cauchy{Float64}(μ=1.0, σ=0.1), 0.5, false, true), BlackBoxOptim.BimodalCauchy(Distributions.Cauchy{Float64}(μ=0.1, σ=0.1), Distributions.Cauchy{Float64}(μ=0.95, σ=0.1), 0.5, false, true), [0.614261, 0.533752, 0.961661, 0.736332, 0.586597, 0.688301, 0.674533, 0.700231, 1.0, 0.395005  …  0.642465, 0.996431, 0.580269, 0.491474, 0.721913, 1.0, 0.759848, 0.107166, 0.744447, 1.0], [0.128146, 0.0827494, 0.120447, 0.0556285, 0.973488, 0.983987, 1.0, 0.0115387, 1.0, 0.966943  …  0.879474, 0.15634, 1.0, 0.911238, 0.0867313, 0.631673, 1.0, 0.908845, 0.830508, 0.632588])), 0), BlackBoxOptim.Candidate{Float64}([12.0298, 0.198699, 1.23027, 1.38375, 10.047, 0.313403, 1.67966], 52, 317.128, BlackBoxOptim.AdaptiveDiffEvoRandBin{3}(BlackBoxOptim.AdaptiveDiffEvoParameters(BlackBoxOptim.BimodalCauchy(Distributions.Cauchy{Float64}(μ=0.65, σ=0.1), Distributions.Cauchy{Float64}(μ=1.0, σ=0.1), 0.5, false, true), BlackBoxOptim.BimodalCauchy(Distributions.Cauchy{Float64}(μ=0.1, σ=0.1), Distributions.Cauchy{Float64}(μ=0.95, σ=0.1), 0.5, false, true), [0.614261, 0.533752, 0.961661, 0.736332, 0.586597, 0.688301, 0.674533, 0.700231, 1.0, 0.395005  …  0.642465, 0.996431, 0.580269, 0.491474, 0.721913, 1.0, 0.759848, 0.107166, 0.744447, 1.0], [0.128146, 0.0827494, 0.120447, 0.0556285, 0.973488, 0.983987, 1.0, 0.0115387, 1.0, 0.966943  …  0.879474, 0.15634, 1.0, 0.911238, 0.0867313, 0.631673, 1.0, 0.908845, 0.830508, 0.632588])), 0)])))"
      ]
     },
     "execution_count": 87,
     "metadata": {},
     "output_type": "execute_result"
    },
    {
     "name": "stdout",
     "output_type": "stream",
     "text": [
      "\n",
      "Optimization stopped after 401 steps and 2201.1656079292297 seconds\n",
      "Termination reason: Max number of steps (400) reached\n",
      "Steps per second = 0.1821762063497099\n",
      "Function evals per second = 0.28212325222735624\n",
      "Improvements/step = 0.345\n",
      "Total function evaluations = 621\n",
      "\n",
      "\n",
      "Best candidate found: [12.04, 0.184506, 1.25783, 1.37414, 10.0241, 0.321572, 1.6363]\n",
      "\n",
      "Fitness: 16.820240950\n",
      "\n"
     ]
    }
   ],
   "source": [
    "# run optimiser for some number of steps\n",
    "res = BlackBoxOptim.bboptimize(optctrl; MaxSteps = 400)"
   ]
  },
  {
   "cell_type": "code",
   "execution_count": 57,
   "metadata": {},
   "outputs": [
    {
     "data": {
      "text/plain": [
       "7-element Array{Float64,1}:\n",
       " 12.0357  \n",
       "  0.184856\n",
       "  1.25241 \n",
       "  1.38012 \n",
       " 10.0068  \n",
       "  0.323894\n",
       "  1.63352 "
      ]
     },
     "execution_count": 57,
     "metadata": {},
     "output_type": "execute_result"
    }
   ],
   "source": [
    "# grab the best candidate to use as initial position for next run\n",
    "initmeans = BlackBoxOptim.best_candidate(res)"
   ]
  },
  {
   "cell_type": "code",
   "execution_count": 21,
   "metadata": {},
   "outputs": [],
   "source": [
    "# save best result\n",
    "writedlm(\"/home/kilian/wrk/assbiass/dat/optim/M20_mass_pars.dat\", initmeans)"
   ]
  }
 ],
 "metadata": {
  "kernelspec": {
   "display_name": "Julia 0.6.4",
   "language": "julia",
   "name": "julia-0.6"
  },
  "language_info": {
   "file_extension": ".jl",
   "mimetype": "application/julia",
   "name": "julia",
   "version": "0.6.4"
  }
 },
 "nbformat": 4,
 "nbformat_minor": 2
}
